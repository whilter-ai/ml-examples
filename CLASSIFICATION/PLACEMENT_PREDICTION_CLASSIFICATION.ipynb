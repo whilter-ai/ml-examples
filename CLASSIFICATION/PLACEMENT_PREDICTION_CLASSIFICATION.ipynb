{
  "nbformat": 4,
  "nbformat_minor": 0,
  "metadata": {
    "colab": {
      "provenance": []
    },
    "kernelspec": {
      "name": "python3",
      "display_name": "Python 3"
    },
    "language_info": {
      "name": "python"
    }
  },
  "cells": [
    {
      "cell_type": "markdown",
      "source": [
        "**IMPORT THE NECESSARY LIBRARIES**"
      ],
      "metadata": {
        "id": "uV1sVLr0iseM"
      }
    },
    {
      "cell_type": "code",
      "execution_count": 1,
      "metadata": {
        "id": "ivmNbIS9lWDF"
      },
      "outputs": [],
      "source": [
        "import numpy as np\n",
        "import pandas as pd\n",
        "\n",
        "import matplotlib.pyplot as plt\n",
        "import plotly.express as px\n",
        "\n",
        "import plotly.io as pio\n",
        "pio.renderers.default = \"iframe\"\n",
        "\n",
        "from sklearn.decomposition import PCA\n",
        "\n",
        "from sklearn.preprocessing import StandardScaler\n",
        "from sklearn.model_selection import train_test_split\n",
        "from sklearn.model_selection import cross_val_score\n",
        "from sklearn.model_selection import GridSearchCV, RandomizedSearchCV\n",
        "\n",
        "from sklearn.metrics import accuracy_score\n",
        "from sklearn.metrics import precision_score, recall_score, f1_score\n",
        "\n",
        "import pickle"
      ]
    },
    {
      "cell_type": "code",
      "source": [
        "df = pd.read_csv('/content/collegePlace.csv')"
      ],
      "metadata": {
        "id": "MJGzUNAOmBIA"
      },
      "execution_count": 2,
      "outputs": []
    },
    {
      "cell_type": "markdown",
      "source": [
        "**UNDERSTANDING THE DATA**"
      ],
      "metadata": {
        "id": "uZkRfwLajMWy"
      }
    },
    {
      "cell_type": "code",
      "source": [
        "df.shape"
      ],
      "metadata": {
        "colab": {
          "base_uri": "https://localhost:8080/"
        },
        "id": "EfDZtDoKmFP0",
        "outputId": "448516c1-c9d3-47b0-d60d-4b50a2b8583e"
      },
      "execution_count": 3,
      "outputs": [
        {
          "output_type": "execute_result",
          "data": {
            "text/plain": [
              "(2966, 8)"
            ]
          },
          "metadata": {},
          "execution_count": 3
        }
      ]
    },
    {
      "cell_type": "code",
      "source": [
        "df.head()"
      ],
      "metadata": {
        "colab": {
          "base_uri": "https://localhost:8080/",
          "height": 206
        },
        "id": "0r_KkoIzmGrZ",
        "outputId": "961cb889-f436-496f-bb1e-2423c61094a5"
      },
      "execution_count": 4,
      "outputs": [
        {
          "output_type": "execute_result",
          "data": {
            "text/plain": [
              "   Age  Gender                         Stream  Internships  CGPA  Hostel  \\\n",
              "0   22    Male  Electronics And Communication            1     8       1   \n",
              "1   21  Female               Computer Science            0     7       1   \n",
              "2   22  Female         Information Technology            1     6       0   \n",
              "3   21    Male         Information Technology            0     8       0   \n",
              "4   22    Male                     Mechanical            0     8       1   \n",
              "\n",
              "   HistoryOfBacklogs  PlacedOrNot  \n",
              "0                  1            1  \n",
              "1                  1            1  \n",
              "2                  0            1  \n",
              "3                  1            1  \n",
              "4                  0            1  "
            ],
            "text/html": [
              "\n",
              "  <div id=\"df-9166f1f1-f2e9-4965-a84d-4f01b0c85809\" class=\"colab-df-container\">\n",
              "    <div>\n",
              "<style scoped>\n",
              "    .dataframe tbody tr th:only-of-type {\n",
              "        vertical-align: middle;\n",
              "    }\n",
              "\n",
              "    .dataframe tbody tr th {\n",
              "        vertical-align: top;\n",
              "    }\n",
              "\n",
              "    .dataframe thead th {\n",
              "        text-align: right;\n",
              "    }\n",
              "</style>\n",
              "<table border=\"1\" class=\"dataframe\">\n",
              "  <thead>\n",
              "    <tr style=\"text-align: right;\">\n",
              "      <th></th>\n",
              "      <th>Age</th>\n",
              "      <th>Gender</th>\n",
              "      <th>Stream</th>\n",
              "      <th>Internships</th>\n",
              "      <th>CGPA</th>\n",
              "      <th>Hostel</th>\n",
              "      <th>HistoryOfBacklogs</th>\n",
              "      <th>PlacedOrNot</th>\n",
              "    </tr>\n",
              "  </thead>\n",
              "  <tbody>\n",
              "    <tr>\n",
              "      <th>0</th>\n",
              "      <td>22</td>\n",
              "      <td>Male</td>\n",
              "      <td>Electronics And Communication</td>\n",
              "      <td>1</td>\n",
              "      <td>8</td>\n",
              "      <td>1</td>\n",
              "      <td>1</td>\n",
              "      <td>1</td>\n",
              "    </tr>\n",
              "    <tr>\n",
              "      <th>1</th>\n",
              "      <td>21</td>\n",
              "      <td>Female</td>\n",
              "      <td>Computer Science</td>\n",
              "      <td>0</td>\n",
              "      <td>7</td>\n",
              "      <td>1</td>\n",
              "      <td>1</td>\n",
              "      <td>1</td>\n",
              "    </tr>\n",
              "    <tr>\n",
              "      <th>2</th>\n",
              "      <td>22</td>\n",
              "      <td>Female</td>\n",
              "      <td>Information Technology</td>\n",
              "      <td>1</td>\n",
              "      <td>6</td>\n",
              "      <td>0</td>\n",
              "      <td>0</td>\n",
              "      <td>1</td>\n",
              "    </tr>\n",
              "    <tr>\n",
              "      <th>3</th>\n",
              "      <td>21</td>\n",
              "      <td>Male</td>\n",
              "      <td>Information Technology</td>\n",
              "      <td>0</td>\n",
              "      <td>8</td>\n",
              "      <td>0</td>\n",
              "      <td>1</td>\n",
              "      <td>1</td>\n",
              "    </tr>\n",
              "    <tr>\n",
              "      <th>4</th>\n",
              "      <td>22</td>\n",
              "      <td>Male</td>\n",
              "      <td>Mechanical</td>\n",
              "      <td>0</td>\n",
              "      <td>8</td>\n",
              "      <td>1</td>\n",
              "      <td>0</td>\n",
              "      <td>1</td>\n",
              "    </tr>\n",
              "  </tbody>\n",
              "</table>\n",
              "</div>\n",
              "    <div class=\"colab-df-buttons\">\n",
              "\n",
              "  <div class=\"colab-df-container\">\n",
              "    <button class=\"colab-df-convert\" onclick=\"convertToInteractive('df-9166f1f1-f2e9-4965-a84d-4f01b0c85809')\"\n",
              "            title=\"Convert this dataframe to an interactive table.\"\n",
              "            style=\"display:none;\">\n",
              "\n",
              "  <svg xmlns=\"http://www.w3.org/2000/svg\" height=\"24px\" viewBox=\"0 -960 960 960\">\n",
              "    <path d=\"M120-120v-720h720v720H120Zm60-500h600v-160H180v160Zm220 220h160v-160H400v160Zm0 220h160v-160H400v160ZM180-400h160v-160H180v160Zm440 0h160v-160H620v160ZM180-180h160v-160H180v160Zm440 0h160v-160H620v160Z\"/>\n",
              "  </svg>\n",
              "    </button>\n",
              "\n",
              "  <style>\n",
              "    .colab-df-container {\n",
              "      display:flex;\n",
              "      gap: 12px;\n",
              "    }\n",
              "\n",
              "    .colab-df-convert {\n",
              "      background-color: #E8F0FE;\n",
              "      border: none;\n",
              "      border-radius: 50%;\n",
              "      cursor: pointer;\n",
              "      display: none;\n",
              "      fill: #1967D2;\n",
              "      height: 32px;\n",
              "      padding: 0 0 0 0;\n",
              "      width: 32px;\n",
              "    }\n",
              "\n",
              "    .colab-df-convert:hover {\n",
              "      background-color: #E2EBFA;\n",
              "      box-shadow: 0px 1px 2px rgba(60, 64, 67, 0.3), 0px 1px 3px 1px rgba(60, 64, 67, 0.15);\n",
              "      fill: #174EA6;\n",
              "    }\n",
              "\n",
              "    .colab-df-buttons div {\n",
              "      margin-bottom: 4px;\n",
              "    }\n",
              "\n",
              "    [theme=dark] .colab-df-convert {\n",
              "      background-color: #3B4455;\n",
              "      fill: #D2E3FC;\n",
              "    }\n",
              "\n",
              "    [theme=dark] .colab-df-convert:hover {\n",
              "      background-color: #434B5C;\n",
              "      box-shadow: 0px 1px 3px 1px rgba(0, 0, 0, 0.15);\n",
              "      filter: drop-shadow(0px 1px 2px rgba(0, 0, 0, 0.3));\n",
              "      fill: #FFFFFF;\n",
              "    }\n",
              "  </style>\n",
              "\n",
              "    <script>\n",
              "      const buttonEl =\n",
              "        document.querySelector('#df-9166f1f1-f2e9-4965-a84d-4f01b0c85809 button.colab-df-convert');\n",
              "      buttonEl.style.display =\n",
              "        google.colab.kernel.accessAllowed ? 'block' : 'none';\n",
              "\n",
              "      async function convertToInteractive(key) {\n",
              "        const element = document.querySelector('#df-9166f1f1-f2e9-4965-a84d-4f01b0c85809');\n",
              "        const dataTable =\n",
              "          await google.colab.kernel.invokeFunction('convertToInteractive',\n",
              "                                                    [key], {});\n",
              "        if (!dataTable) return;\n",
              "\n",
              "        const docLinkHtml = 'Like what you see? Visit the ' +\n",
              "          '<a target=\"_blank\" href=https://colab.research.google.com/notebooks/data_table.ipynb>data table notebook</a>'\n",
              "          + ' to learn more about interactive tables.';\n",
              "        element.innerHTML = '';\n",
              "        dataTable['output_type'] = 'display_data';\n",
              "        await google.colab.output.renderOutput(dataTable, element);\n",
              "        const docLink = document.createElement('div');\n",
              "        docLink.innerHTML = docLinkHtml;\n",
              "        element.appendChild(docLink);\n",
              "      }\n",
              "    </script>\n",
              "  </div>\n",
              "\n",
              "\n",
              "    <div id=\"df-9b239f3f-1d26-4751-9838-a5ef7b675114\">\n",
              "      <button class=\"colab-df-quickchart\" onclick=\"quickchart('df-9b239f3f-1d26-4751-9838-a5ef7b675114')\"\n",
              "                title=\"Suggest charts\"\n",
              "                style=\"display:none;\">\n",
              "\n",
              "<svg xmlns=\"http://www.w3.org/2000/svg\" height=\"24px\"viewBox=\"0 0 24 24\"\n",
              "     width=\"24px\">\n",
              "    <g>\n",
              "        <path d=\"M19 3H5c-1.1 0-2 .9-2 2v14c0 1.1.9 2 2 2h14c1.1 0 2-.9 2-2V5c0-1.1-.9-2-2-2zM9 17H7v-7h2v7zm4 0h-2V7h2v10zm4 0h-2v-4h2v4z\"/>\n",
              "    </g>\n",
              "</svg>\n",
              "      </button>\n",
              "\n",
              "<style>\n",
              "  .colab-df-quickchart {\n",
              "      --bg-color: #E8F0FE;\n",
              "      --fill-color: #1967D2;\n",
              "      --hover-bg-color: #E2EBFA;\n",
              "      --hover-fill-color: #174EA6;\n",
              "      --disabled-fill-color: #AAA;\n",
              "      --disabled-bg-color: #DDD;\n",
              "  }\n",
              "\n",
              "  [theme=dark] .colab-df-quickchart {\n",
              "      --bg-color: #3B4455;\n",
              "      --fill-color: #D2E3FC;\n",
              "      --hover-bg-color: #434B5C;\n",
              "      --hover-fill-color: #FFFFFF;\n",
              "      --disabled-bg-color: #3B4455;\n",
              "      --disabled-fill-color: #666;\n",
              "  }\n",
              "\n",
              "  .colab-df-quickchart {\n",
              "    background-color: var(--bg-color);\n",
              "    border: none;\n",
              "    border-radius: 50%;\n",
              "    cursor: pointer;\n",
              "    display: none;\n",
              "    fill: var(--fill-color);\n",
              "    height: 32px;\n",
              "    padding: 0;\n",
              "    width: 32px;\n",
              "  }\n",
              "\n",
              "  .colab-df-quickchart:hover {\n",
              "    background-color: var(--hover-bg-color);\n",
              "    box-shadow: 0 1px 2px rgba(60, 64, 67, 0.3), 0 1px 3px 1px rgba(60, 64, 67, 0.15);\n",
              "    fill: var(--button-hover-fill-color);\n",
              "  }\n",
              "\n",
              "  .colab-df-quickchart-complete:disabled,\n",
              "  .colab-df-quickchart-complete:disabled:hover {\n",
              "    background-color: var(--disabled-bg-color);\n",
              "    fill: var(--disabled-fill-color);\n",
              "    box-shadow: none;\n",
              "  }\n",
              "\n",
              "  .colab-df-spinner {\n",
              "    border: 2px solid var(--fill-color);\n",
              "    border-color: transparent;\n",
              "    border-bottom-color: var(--fill-color);\n",
              "    animation:\n",
              "      spin 1s steps(1) infinite;\n",
              "  }\n",
              "\n",
              "  @keyframes spin {\n",
              "    0% {\n",
              "      border-color: transparent;\n",
              "      border-bottom-color: var(--fill-color);\n",
              "      border-left-color: var(--fill-color);\n",
              "    }\n",
              "    20% {\n",
              "      border-color: transparent;\n",
              "      border-left-color: var(--fill-color);\n",
              "      border-top-color: var(--fill-color);\n",
              "    }\n",
              "    30% {\n",
              "      border-color: transparent;\n",
              "      border-left-color: var(--fill-color);\n",
              "      border-top-color: var(--fill-color);\n",
              "      border-right-color: var(--fill-color);\n",
              "    }\n",
              "    40% {\n",
              "      border-color: transparent;\n",
              "      border-right-color: var(--fill-color);\n",
              "      border-top-color: var(--fill-color);\n",
              "    }\n",
              "    60% {\n",
              "      border-color: transparent;\n",
              "      border-right-color: var(--fill-color);\n",
              "    }\n",
              "    80% {\n",
              "      border-color: transparent;\n",
              "      border-right-color: var(--fill-color);\n",
              "      border-bottom-color: var(--fill-color);\n",
              "    }\n",
              "    90% {\n",
              "      border-color: transparent;\n",
              "      border-bottom-color: var(--fill-color);\n",
              "    }\n",
              "  }\n",
              "</style>\n",
              "\n",
              "      <script>\n",
              "        async function quickchart(key) {\n",
              "          const quickchartButtonEl =\n",
              "            document.querySelector('#' + key + ' button');\n",
              "          quickchartButtonEl.disabled = true;  // To prevent multiple clicks.\n",
              "          quickchartButtonEl.classList.add('colab-df-spinner');\n",
              "          try {\n",
              "            const charts = await google.colab.kernel.invokeFunction(\n",
              "                'suggestCharts', [key], {});\n",
              "          } catch (error) {\n",
              "            console.error('Error during call to suggestCharts:', error);\n",
              "          }\n",
              "          quickchartButtonEl.classList.remove('colab-df-spinner');\n",
              "          quickchartButtonEl.classList.add('colab-df-quickchart-complete');\n",
              "        }\n",
              "        (() => {\n",
              "          let quickchartButtonEl =\n",
              "            document.querySelector('#df-9b239f3f-1d26-4751-9838-a5ef7b675114 button');\n",
              "          quickchartButtonEl.style.display =\n",
              "            google.colab.kernel.accessAllowed ? 'block' : 'none';\n",
              "        })();\n",
              "      </script>\n",
              "    </div>\n",
              "\n",
              "    </div>\n",
              "  </div>\n"
            ],
            "application/vnd.google.colaboratory.intrinsic+json": {
              "type": "dataframe",
              "variable_name": "df",
              "summary": "{\n  \"name\": \"df\",\n  \"rows\": 2966,\n  \"fields\": [\n    {\n      \"column\": \"Age\",\n      \"properties\": {\n        \"dtype\": \"number\",\n        \"std\": 1,\n        \"min\": 19,\n        \"max\": 30,\n        \"num_unique_values\": 11,\n        \"samples\": [\n          30,\n          22,\n          19\n        ],\n        \"semantic_type\": \"\",\n        \"description\": \"\"\n      }\n    },\n    {\n      \"column\": \"Gender\",\n      \"properties\": {\n        \"dtype\": \"category\",\n        \"num_unique_values\": 2,\n        \"samples\": [\n          \"Female\",\n          \"Male\"\n        ],\n        \"semantic_type\": \"\",\n        \"description\": \"\"\n      }\n    },\n    {\n      \"column\": \"Stream\",\n      \"properties\": {\n        \"dtype\": \"category\",\n        \"num_unique_values\": 6,\n        \"samples\": [\n          \"Electronics And Communication\",\n          \"Computer Science\"\n        ],\n        \"semantic_type\": \"\",\n        \"description\": \"\"\n      }\n    },\n    {\n      \"column\": \"Internships\",\n      \"properties\": {\n        \"dtype\": \"number\",\n        \"std\": 0,\n        \"min\": 0,\n        \"max\": 3,\n        \"num_unique_values\": 4,\n        \"samples\": [\n          0,\n          3\n        ],\n        \"semantic_type\": \"\",\n        \"description\": \"\"\n      }\n    },\n    {\n      \"column\": \"CGPA\",\n      \"properties\": {\n        \"dtype\": \"number\",\n        \"std\": 0,\n        \"min\": 5,\n        \"max\": 9,\n        \"num_unique_values\": 5,\n        \"samples\": [\n          7,\n          5\n        ],\n        \"semantic_type\": \"\",\n        \"description\": \"\"\n      }\n    },\n    {\n      \"column\": \"Hostel\",\n      \"properties\": {\n        \"dtype\": \"number\",\n        \"std\": 0,\n        \"min\": 0,\n        \"max\": 1,\n        \"num_unique_values\": 2,\n        \"samples\": [\n          0,\n          1\n        ],\n        \"semantic_type\": \"\",\n        \"description\": \"\"\n      }\n    },\n    {\n      \"column\": \"HistoryOfBacklogs\",\n      \"properties\": {\n        \"dtype\": \"number\",\n        \"std\": 0,\n        \"min\": 0,\n        \"max\": 1,\n        \"num_unique_values\": 2,\n        \"samples\": [\n          0,\n          1\n        ],\n        \"semantic_type\": \"\",\n        \"description\": \"\"\n      }\n    },\n    {\n      \"column\": \"PlacedOrNot\",\n      \"properties\": {\n        \"dtype\": \"number\",\n        \"std\": 0,\n        \"min\": 0,\n        \"max\": 1,\n        \"num_unique_values\": 2,\n        \"samples\": [\n          0,\n          1\n        ],\n        \"semantic_type\": \"\",\n        \"description\": \"\"\n      }\n    }\n  ]\n}"
            }
          },
          "metadata": {},
          "execution_count": 4
        }
      ]
    },
    {
      "cell_type": "code",
      "source": [
        "df.tail()"
      ],
      "metadata": {
        "colab": {
          "base_uri": "https://localhost:8080/",
          "height": 206
        },
        "id": "Nh5rZC73mIWk",
        "outputId": "b35c00af-de7c-4894-f8cf-d2cbc720cd10"
      },
      "execution_count": 5,
      "outputs": [
        {
          "output_type": "execute_result",
          "data": {
            "text/plain": [
              "      Age Gender                  Stream  Internships  CGPA  Hostel  \\\n",
              "2961   23   Male  Information Technology            0     7       0   \n",
              "2962   23   Male              Mechanical            1     7       1   \n",
              "2963   22   Male  Information Technology            1     7       0   \n",
              "2964   22   Male        Computer Science            1     7       0   \n",
              "2965   23   Male                   Civil            0     8       0   \n",
              "\n",
              "      HistoryOfBacklogs  PlacedOrNot  \n",
              "2961                  0            0  \n",
              "2962                  0            0  \n",
              "2963                  0            0  \n",
              "2964                  0            0  \n",
              "2965                  0            1  "
            ],
            "text/html": [
              "\n",
              "  <div id=\"df-7fac882f-acb6-4855-a655-5f7c6fd2bd76\" class=\"colab-df-container\">\n",
              "    <div>\n",
              "<style scoped>\n",
              "    .dataframe tbody tr th:only-of-type {\n",
              "        vertical-align: middle;\n",
              "    }\n",
              "\n",
              "    .dataframe tbody tr th {\n",
              "        vertical-align: top;\n",
              "    }\n",
              "\n",
              "    .dataframe thead th {\n",
              "        text-align: right;\n",
              "    }\n",
              "</style>\n",
              "<table border=\"1\" class=\"dataframe\">\n",
              "  <thead>\n",
              "    <tr style=\"text-align: right;\">\n",
              "      <th></th>\n",
              "      <th>Age</th>\n",
              "      <th>Gender</th>\n",
              "      <th>Stream</th>\n",
              "      <th>Internships</th>\n",
              "      <th>CGPA</th>\n",
              "      <th>Hostel</th>\n",
              "      <th>HistoryOfBacklogs</th>\n",
              "      <th>PlacedOrNot</th>\n",
              "    </tr>\n",
              "  </thead>\n",
              "  <tbody>\n",
              "    <tr>\n",
              "      <th>2961</th>\n",
              "      <td>23</td>\n",
              "      <td>Male</td>\n",
              "      <td>Information Technology</td>\n",
              "      <td>0</td>\n",
              "      <td>7</td>\n",
              "      <td>0</td>\n",
              "      <td>0</td>\n",
              "      <td>0</td>\n",
              "    </tr>\n",
              "    <tr>\n",
              "      <th>2962</th>\n",
              "      <td>23</td>\n",
              "      <td>Male</td>\n",
              "      <td>Mechanical</td>\n",
              "      <td>1</td>\n",
              "      <td>7</td>\n",
              "      <td>1</td>\n",
              "      <td>0</td>\n",
              "      <td>0</td>\n",
              "    </tr>\n",
              "    <tr>\n",
              "      <th>2963</th>\n",
              "      <td>22</td>\n",
              "      <td>Male</td>\n",
              "      <td>Information Technology</td>\n",
              "      <td>1</td>\n",
              "      <td>7</td>\n",
              "      <td>0</td>\n",
              "      <td>0</td>\n",
              "      <td>0</td>\n",
              "    </tr>\n",
              "    <tr>\n",
              "      <th>2964</th>\n",
              "      <td>22</td>\n",
              "      <td>Male</td>\n",
              "      <td>Computer Science</td>\n",
              "      <td>1</td>\n",
              "      <td>7</td>\n",
              "      <td>0</td>\n",
              "      <td>0</td>\n",
              "      <td>0</td>\n",
              "    </tr>\n",
              "    <tr>\n",
              "      <th>2965</th>\n",
              "      <td>23</td>\n",
              "      <td>Male</td>\n",
              "      <td>Civil</td>\n",
              "      <td>0</td>\n",
              "      <td>8</td>\n",
              "      <td>0</td>\n",
              "      <td>0</td>\n",
              "      <td>1</td>\n",
              "    </tr>\n",
              "  </tbody>\n",
              "</table>\n",
              "</div>\n",
              "    <div class=\"colab-df-buttons\">\n",
              "\n",
              "  <div class=\"colab-df-container\">\n",
              "    <button class=\"colab-df-convert\" onclick=\"convertToInteractive('df-7fac882f-acb6-4855-a655-5f7c6fd2bd76')\"\n",
              "            title=\"Convert this dataframe to an interactive table.\"\n",
              "            style=\"display:none;\">\n",
              "\n",
              "  <svg xmlns=\"http://www.w3.org/2000/svg\" height=\"24px\" viewBox=\"0 -960 960 960\">\n",
              "    <path d=\"M120-120v-720h720v720H120Zm60-500h600v-160H180v160Zm220 220h160v-160H400v160Zm0 220h160v-160H400v160ZM180-400h160v-160H180v160Zm440 0h160v-160H620v160ZM180-180h160v-160H180v160Zm440 0h160v-160H620v160Z\"/>\n",
              "  </svg>\n",
              "    </button>\n",
              "\n",
              "  <style>\n",
              "    .colab-df-container {\n",
              "      display:flex;\n",
              "      gap: 12px;\n",
              "    }\n",
              "\n",
              "    .colab-df-convert {\n",
              "      background-color: #E8F0FE;\n",
              "      border: none;\n",
              "      border-radius: 50%;\n",
              "      cursor: pointer;\n",
              "      display: none;\n",
              "      fill: #1967D2;\n",
              "      height: 32px;\n",
              "      padding: 0 0 0 0;\n",
              "      width: 32px;\n",
              "    }\n",
              "\n",
              "    .colab-df-convert:hover {\n",
              "      background-color: #E2EBFA;\n",
              "      box-shadow: 0px 1px 2px rgba(60, 64, 67, 0.3), 0px 1px 3px 1px rgba(60, 64, 67, 0.15);\n",
              "      fill: #174EA6;\n",
              "    }\n",
              "\n",
              "    .colab-df-buttons div {\n",
              "      margin-bottom: 4px;\n",
              "    }\n",
              "\n",
              "    [theme=dark] .colab-df-convert {\n",
              "      background-color: #3B4455;\n",
              "      fill: #D2E3FC;\n",
              "    }\n",
              "\n",
              "    [theme=dark] .colab-df-convert:hover {\n",
              "      background-color: #434B5C;\n",
              "      box-shadow: 0px 1px 3px 1px rgba(0, 0, 0, 0.15);\n",
              "      filter: drop-shadow(0px 1px 2px rgba(0, 0, 0, 0.3));\n",
              "      fill: #FFFFFF;\n",
              "    }\n",
              "  </style>\n",
              "\n",
              "    <script>\n",
              "      const buttonEl =\n",
              "        document.querySelector('#df-7fac882f-acb6-4855-a655-5f7c6fd2bd76 button.colab-df-convert');\n",
              "      buttonEl.style.display =\n",
              "        google.colab.kernel.accessAllowed ? 'block' : 'none';\n",
              "\n",
              "      async function convertToInteractive(key) {\n",
              "        const element = document.querySelector('#df-7fac882f-acb6-4855-a655-5f7c6fd2bd76');\n",
              "        const dataTable =\n",
              "          await google.colab.kernel.invokeFunction('convertToInteractive',\n",
              "                                                    [key], {});\n",
              "        if (!dataTable) return;\n",
              "\n",
              "        const docLinkHtml = 'Like what you see? Visit the ' +\n",
              "          '<a target=\"_blank\" href=https://colab.research.google.com/notebooks/data_table.ipynb>data table notebook</a>'\n",
              "          + ' to learn more about interactive tables.';\n",
              "        element.innerHTML = '';\n",
              "        dataTable['output_type'] = 'display_data';\n",
              "        await google.colab.output.renderOutput(dataTable, element);\n",
              "        const docLink = document.createElement('div');\n",
              "        docLink.innerHTML = docLinkHtml;\n",
              "        element.appendChild(docLink);\n",
              "      }\n",
              "    </script>\n",
              "  </div>\n",
              "\n",
              "\n",
              "    <div id=\"df-81ad8707-d2b9-4608-82c6-58260563fb56\">\n",
              "      <button class=\"colab-df-quickchart\" onclick=\"quickchart('df-81ad8707-d2b9-4608-82c6-58260563fb56')\"\n",
              "                title=\"Suggest charts\"\n",
              "                style=\"display:none;\">\n",
              "\n",
              "<svg xmlns=\"http://www.w3.org/2000/svg\" height=\"24px\"viewBox=\"0 0 24 24\"\n",
              "     width=\"24px\">\n",
              "    <g>\n",
              "        <path d=\"M19 3H5c-1.1 0-2 .9-2 2v14c0 1.1.9 2 2 2h14c1.1 0 2-.9 2-2V5c0-1.1-.9-2-2-2zM9 17H7v-7h2v7zm4 0h-2V7h2v10zm4 0h-2v-4h2v4z\"/>\n",
              "    </g>\n",
              "</svg>\n",
              "      </button>\n",
              "\n",
              "<style>\n",
              "  .colab-df-quickchart {\n",
              "      --bg-color: #E8F0FE;\n",
              "      --fill-color: #1967D2;\n",
              "      --hover-bg-color: #E2EBFA;\n",
              "      --hover-fill-color: #174EA6;\n",
              "      --disabled-fill-color: #AAA;\n",
              "      --disabled-bg-color: #DDD;\n",
              "  }\n",
              "\n",
              "  [theme=dark] .colab-df-quickchart {\n",
              "      --bg-color: #3B4455;\n",
              "      --fill-color: #D2E3FC;\n",
              "      --hover-bg-color: #434B5C;\n",
              "      --hover-fill-color: #FFFFFF;\n",
              "      --disabled-bg-color: #3B4455;\n",
              "      --disabled-fill-color: #666;\n",
              "  }\n",
              "\n",
              "  .colab-df-quickchart {\n",
              "    background-color: var(--bg-color);\n",
              "    border: none;\n",
              "    border-radius: 50%;\n",
              "    cursor: pointer;\n",
              "    display: none;\n",
              "    fill: var(--fill-color);\n",
              "    height: 32px;\n",
              "    padding: 0;\n",
              "    width: 32px;\n",
              "  }\n",
              "\n",
              "  .colab-df-quickchart:hover {\n",
              "    background-color: var(--hover-bg-color);\n",
              "    box-shadow: 0 1px 2px rgba(60, 64, 67, 0.3), 0 1px 3px 1px rgba(60, 64, 67, 0.15);\n",
              "    fill: var(--button-hover-fill-color);\n",
              "  }\n",
              "\n",
              "  .colab-df-quickchart-complete:disabled,\n",
              "  .colab-df-quickchart-complete:disabled:hover {\n",
              "    background-color: var(--disabled-bg-color);\n",
              "    fill: var(--disabled-fill-color);\n",
              "    box-shadow: none;\n",
              "  }\n",
              "\n",
              "  .colab-df-spinner {\n",
              "    border: 2px solid var(--fill-color);\n",
              "    border-color: transparent;\n",
              "    border-bottom-color: var(--fill-color);\n",
              "    animation:\n",
              "      spin 1s steps(1) infinite;\n",
              "  }\n",
              "\n",
              "  @keyframes spin {\n",
              "    0% {\n",
              "      border-color: transparent;\n",
              "      border-bottom-color: var(--fill-color);\n",
              "      border-left-color: var(--fill-color);\n",
              "    }\n",
              "    20% {\n",
              "      border-color: transparent;\n",
              "      border-left-color: var(--fill-color);\n",
              "      border-top-color: var(--fill-color);\n",
              "    }\n",
              "    30% {\n",
              "      border-color: transparent;\n",
              "      border-left-color: var(--fill-color);\n",
              "      border-top-color: var(--fill-color);\n",
              "      border-right-color: var(--fill-color);\n",
              "    }\n",
              "    40% {\n",
              "      border-color: transparent;\n",
              "      border-right-color: var(--fill-color);\n",
              "      border-top-color: var(--fill-color);\n",
              "    }\n",
              "    60% {\n",
              "      border-color: transparent;\n",
              "      border-right-color: var(--fill-color);\n",
              "    }\n",
              "    80% {\n",
              "      border-color: transparent;\n",
              "      border-right-color: var(--fill-color);\n",
              "      border-bottom-color: var(--fill-color);\n",
              "    }\n",
              "    90% {\n",
              "      border-color: transparent;\n",
              "      border-bottom-color: var(--fill-color);\n",
              "    }\n",
              "  }\n",
              "</style>\n",
              "\n",
              "      <script>\n",
              "        async function quickchart(key) {\n",
              "          const quickchartButtonEl =\n",
              "            document.querySelector('#' + key + ' button');\n",
              "          quickchartButtonEl.disabled = true;  // To prevent multiple clicks.\n",
              "          quickchartButtonEl.classList.add('colab-df-spinner');\n",
              "          try {\n",
              "            const charts = await google.colab.kernel.invokeFunction(\n",
              "                'suggestCharts', [key], {});\n",
              "          } catch (error) {\n",
              "            console.error('Error during call to suggestCharts:', error);\n",
              "          }\n",
              "          quickchartButtonEl.classList.remove('colab-df-spinner');\n",
              "          quickchartButtonEl.classList.add('colab-df-quickchart-complete');\n",
              "        }\n",
              "        (() => {\n",
              "          let quickchartButtonEl =\n",
              "            document.querySelector('#df-81ad8707-d2b9-4608-82c6-58260563fb56 button');\n",
              "          quickchartButtonEl.style.display =\n",
              "            google.colab.kernel.accessAllowed ? 'block' : 'none';\n",
              "        })();\n",
              "      </script>\n",
              "    </div>\n",
              "\n",
              "    </div>\n",
              "  </div>\n"
            ],
            "application/vnd.google.colaboratory.intrinsic+json": {
              "type": "dataframe",
              "summary": "{\n  \"name\": \"df\",\n  \"rows\": 5,\n  \"fields\": [\n    {\n      \"column\": \"Age\",\n      \"properties\": {\n        \"dtype\": \"number\",\n        \"std\": 0,\n        \"min\": 22,\n        \"max\": 23,\n        \"num_unique_values\": 2,\n        \"samples\": [\n          22,\n          23\n        ],\n        \"semantic_type\": \"\",\n        \"description\": \"\"\n      }\n    },\n    {\n      \"column\": \"Gender\",\n      \"properties\": {\n        \"dtype\": \"category\",\n        \"num_unique_values\": 1,\n        \"samples\": [\n          \"Male\"\n        ],\n        \"semantic_type\": \"\",\n        \"description\": \"\"\n      }\n    },\n    {\n      \"column\": \"Stream\",\n      \"properties\": {\n        \"dtype\": \"string\",\n        \"num_unique_values\": 4,\n        \"samples\": [\n          \"Mechanical\"\n        ],\n        \"semantic_type\": \"\",\n        \"description\": \"\"\n      }\n    },\n    {\n      \"column\": \"Internships\",\n      \"properties\": {\n        \"dtype\": \"number\",\n        \"std\": 0,\n        \"min\": 0,\n        \"max\": 1,\n        \"num_unique_values\": 2,\n        \"samples\": [\n          1\n        ],\n        \"semantic_type\": \"\",\n        \"description\": \"\"\n      }\n    },\n    {\n      \"column\": \"CGPA\",\n      \"properties\": {\n        \"dtype\": \"number\",\n        \"std\": 0,\n        \"min\": 7,\n        \"max\": 8,\n        \"num_unique_values\": 2,\n        \"samples\": [\n          8\n        ],\n        \"semantic_type\": \"\",\n        \"description\": \"\"\n      }\n    },\n    {\n      \"column\": \"Hostel\",\n      \"properties\": {\n        \"dtype\": \"number\",\n        \"std\": 0,\n        \"min\": 0,\n        \"max\": 1,\n        \"num_unique_values\": 2,\n        \"samples\": [\n          1\n        ],\n        \"semantic_type\": \"\",\n        \"description\": \"\"\n      }\n    },\n    {\n      \"column\": \"HistoryOfBacklogs\",\n      \"properties\": {\n        \"dtype\": \"number\",\n        \"std\": 0,\n        \"min\": 0,\n        \"max\": 0,\n        \"num_unique_values\": 1,\n        \"samples\": [\n          0\n        ],\n        \"semantic_type\": \"\",\n        \"description\": \"\"\n      }\n    },\n    {\n      \"column\": \"PlacedOrNot\",\n      \"properties\": {\n        \"dtype\": \"number\",\n        \"std\": 0,\n        \"min\": 0,\n        \"max\": 1,\n        \"num_unique_values\": 2,\n        \"samples\": [\n          1\n        ],\n        \"semantic_type\": \"\",\n        \"description\": \"\"\n      }\n    }\n  ]\n}"
            }
          },
          "metadata": {},
          "execution_count": 5
        }
      ]
    },
    {
      "cell_type": "code",
      "source": [
        "df.sample(9)"
      ],
      "metadata": {
        "colab": {
          "base_uri": "https://localhost:8080/",
          "height": 331
        },
        "id": "LO5q55fumJwA",
        "outputId": "64b043db-626d-43e1-8900-d3f29f510302"
      },
      "execution_count": 6,
      "outputs": [
        {
          "output_type": "execute_result",
          "data": {
            "text/plain": [
              "      Age Gender                  Stream  Internships  CGPA  Hostel  \\\n",
              "1864   21   Male  Information Technology            1     7       1   \n",
              "579    22   Male        Computer Science            0     6       0   \n",
              "80     21   Male                   Civil            0     9       0   \n",
              "2255   19   Male                   Civil            1     6       0   \n",
              "17     21   Male                   Civil            0     6       0   \n",
              "661    22   Male        Computer Science            0     7       0   \n",
              "637    21   Male        Computer Science            2     6       0   \n",
              "355    22   Male              Electrical            0     6       0   \n",
              "366    22   Male        Computer Science            1     6       0   \n",
              "\n",
              "      HistoryOfBacklogs  PlacedOrNot  \n",
              "1864                  0            0  \n",
              "579                   0            0  \n",
              "80                    0            1  \n",
              "2255                  0            1  \n",
              "17                    0            0  \n",
              "661                   1            0  \n",
              "637                   0            1  \n",
              "355                   1            0  \n",
              "366                   0            0  "
            ],
            "text/html": [
              "\n",
              "  <div id=\"df-757f4afe-60fd-4dd4-b628-6c973b243e0b\" class=\"colab-df-container\">\n",
              "    <div>\n",
              "<style scoped>\n",
              "    .dataframe tbody tr th:only-of-type {\n",
              "        vertical-align: middle;\n",
              "    }\n",
              "\n",
              "    .dataframe tbody tr th {\n",
              "        vertical-align: top;\n",
              "    }\n",
              "\n",
              "    .dataframe thead th {\n",
              "        text-align: right;\n",
              "    }\n",
              "</style>\n",
              "<table border=\"1\" class=\"dataframe\">\n",
              "  <thead>\n",
              "    <tr style=\"text-align: right;\">\n",
              "      <th></th>\n",
              "      <th>Age</th>\n",
              "      <th>Gender</th>\n",
              "      <th>Stream</th>\n",
              "      <th>Internships</th>\n",
              "      <th>CGPA</th>\n",
              "      <th>Hostel</th>\n",
              "      <th>HistoryOfBacklogs</th>\n",
              "      <th>PlacedOrNot</th>\n",
              "    </tr>\n",
              "  </thead>\n",
              "  <tbody>\n",
              "    <tr>\n",
              "      <th>1864</th>\n",
              "      <td>21</td>\n",
              "      <td>Male</td>\n",
              "      <td>Information Technology</td>\n",
              "      <td>1</td>\n",
              "      <td>7</td>\n",
              "      <td>1</td>\n",
              "      <td>0</td>\n",
              "      <td>0</td>\n",
              "    </tr>\n",
              "    <tr>\n",
              "      <th>579</th>\n",
              "      <td>22</td>\n",
              "      <td>Male</td>\n",
              "      <td>Computer Science</td>\n",
              "      <td>0</td>\n",
              "      <td>6</td>\n",
              "      <td>0</td>\n",
              "      <td>0</td>\n",
              "      <td>0</td>\n",
              "    </tr>\n",
              "    <tr>\n",
              "      <th>80</th>\n",
              "      <td>21</td>\n",
              "      <td>Male</td>\n",
              "      <td>Civil</td>\n",
              "      <td>0</td>\n",
              "      <td>9</td>\n",
              "      <td>0</td>\n",
              "      <td>0</td>\n",
              "      <td>1</td>\n",
              "    </tr>\n",
              "    <tr>\n",
              "      <th>2255</th>\n",
              "      <td>19</td>\n",
              "      <td>Male</td>\n",
              "      <td>Civil</td>\n",
              "      <td>1</td>\n",
              "      <td>6</td>\n",
              "      <td>0</td>\n",
              "      <td>0</td>\n",
              "      <td>1</td>\n",
              "    </tr>\n",
              "    <tr>\n",
              "      <th>17</th>\n",
              "      <td>21</td>\n",
              "      <td>Male</td>\n",
              "      <td>Civil</td>\n",
              "      <td>0</td>\n",
              "      <td>6</td>\n",
              "      <td>0</td>\n",
              "      <td>0</td>\n",
              "      <td>0</td>\n",
              "    </tr>\n",
              "    <tr>\n",
              "      <th>661</th>\n",
              "      <td>22</td>\n",
              "      <td>Male</td>\n",
              "      <td>Computer Science</td>\n",
              "      <td>0</td>\n",
              "      <td>7</td>\n",
              "      <td>0</td>\n",
              "      <td>1</td>\n",
              "      <td>0</td>\n",
              "    </tr>\n",
              "    <tr>\n",
              "      <th>637</th>\n",
              "      <td>21</td>\n",
              "      <td>Male</td>\n",
              "      <td>Computer Science</td>\n",
              "      <td>2</td>\n",
              "      <td>6</td>\n",
              "      <td>0</td>\n",
              "      <td>0</td>\n",
              "      <td>1</td>\n",
              "    </tr>\n",
              "    <tr>\n",
              "      <th>355</th>\n",
              "      <td>22</td>\n",
              "      <td>Male</td>\n",
              "      <td>Electrical</td>\n",
              "      <td>0</td>\n",
              "      <td>6</td>\n",
              "      <td>0</td>\n",
              "      <td>1</td>\n",
              "      <td>0</td>\n",
              "    </tr>\n",
              "    <tr>\n",
              "      <th>366</th>\n",
              "      <td>22</td>\n",
              "      <td>Male</td>\n",
              "      <td>Computer Science</td>\n",
              "      <td>1</td>\n",
              "      <td>6</td>\n",
              "      <td>0</td>\n",
              "      <td>0</td>\n",
              "      <td>0</td>\n",
              "    </tr>\n",
              "  </tbody>\n",
              "</table>\n",
              "</div>\n",
              "    <div class=\"colab-df-buttons\">\n",
              "\n",
              "  <div class=\"colab-df-container\">\n",
              "    <button class=\"colab-df-convert\" onclick=\"convertToInteractive('df-757f4afe-60fd-4dd4-b628-6c973b243e0b')\"\n",
              "            title=\"Convert this dataframe to an interactive table.\"\n",
              "            style=\"display:none;\">\n",
              "\n",
              "  <svg xmlns=\"http://www.w3.org/2000/svg\" height=\"24px\" viewBox=\"0 -960 960 960\">\n",
              "    <path d=\"M120-120v-720h720v720H120Zm60-500h600v-160H180v160Zm220 220h160v-160H400v160Zm0 220h160v-160H400v160ZM180-400h160v-160H180v160Zm440 0h160v-160H620v160ZM180-180h160v-160H180v160Zm440 0h160v-160H620v160Z\"/>\n",
              "  </svg>\n",
              "    </button>\n",
              "\n",
              "  <style>\n",
              "    .colab-df-container {\n",
              "      display:flex;\n",
              "      gap: 12px;\n",
              "    }\n",
              "\n",
              "    .colab-df-convert {\n",
              "      background-color: #E8F0FE;\n",
              "      border: none;\n",
              "      border-radius: 50%;\n",
              "      cursor: pointer;\n",
              "      display: none;\n",
              "      fill: #1967D2;\n",
              "      height: 32px;\n",
              "      padding: 0 0 0 0;\n",
              "      width: 32px;\n",
              "    }\n",
              "\n",
              "    .colab-df-convert:hover {\n",
              "      background-color: #E2EBFA;\n",
              "      box-shadow: 0px 1px 2px rgba(60, 64, 67, 0.3), 0px 1px 3px 1px rgba(60, 64, 67, 0.15);\n",
              "      fill: #174EA6;\n",
              "    }\n",
              "\n",
              "    .colab-df-buttons div {\n",
              "      margin-bottom: 4px;\n",
              "    }\n",
              "\n",
              "    [theme=dark] .colab-df-convert {\n",
              "      background-color: #3B4455;\n",
              "      fill: #D2E3FC;\n",
              "    }\n",
              "\n",
              "    [theme=dark] .colab-df-convert:hover {\n",
              "      background-color: #434B5C;\n",
              "      box-shadow: 0px 1px 3px 1px rgba(0, 0, 0, 0.15);\n",
              "      filter: drop-shadow(0px 1px 2px rgba(0, 0, 0, 0.3));\n",
              "      fill: #FFFFFF;\n",
              "    }\n",
              "  </style>\n",
              "\n",
              "    <script>\n",
              "      const buttonEl =\n",
              "        document.querySelector('#df-757f4afe-60fd-4dd4-b628-6c973b243e0b button.colab-df-convert');\n",
              "      buttonEl.style.display =\n",
              "        google.colab.kernel.accessAllowed ? 'block' : 'none';\n",
              "\n",
              "      async function convertToInteractive(key) {\n",
              "        const element = document.querySelector('#df-757f4afe-60fd-4dd4-b628-6c973b243e0b');\n",
              "        const dataTable =\n",
              "          await google.colab.kernel.invokeFunction('convertToInteractive',\n",
              "                                                    [key], {});\n",
              "        if (!dataTable) return;\n",
              "\n",
              "        const docLinkHtml = 'Like what you see? Visit the ' +\n",
              "          '<a target=\"_blank\" href=https://colab.research.google.com/notebooks/data_table.ipynb>data table notebook</a>'\n",
              "          + ' to learn more about interactive tables.';\n",
              "        element.innerHTML = '';\n",
              "        dataTable['output_type'] = 'display_data';\n",
              "        await google.colab.output.renderOutput(dataTable, element);\n",
              "        const docLink = document.createElement('div');\n",
              "        docLink.innerHTML = docLinkHtml;\n",
              "        element.appendChild(docLink);\n",
              "      }\n",
              "    </script>\n",
              "  </div>\n",
              "\n",
              "\n",
              "    <div id=\"df-11a15305-d16b-4313-95a3-2eff623db0d9\">\n",
              "      <button class=\"colab-df-quickchart\" onclick=\"quickchart('df-11a15305-d16b-4313-95a3-2eff623db0d9')\"\n",
              "                title=\"Suggest charts\"\n",
              "                style=\"display:none;\">\n",
              "\n",
              "<svg xmlns=\"http://www.w3.org/2000/svg\" height=\"24px\"viewBox=\"0 0 24 24\"\n",
              "     width=\"24px\">\n",
              "    <g>\n",
              "        <path d=\"M19 3H5c-1.1 0-2 .9-2 2v14c0 1.1.9 2 2 2h14c1.1 0 2-.9 2-2V5c0-1.1-.9-2-2-2zM9 17H7v-7h2v7zm4 0h-2V7h2v10zm4 0h-2v-4h2v4z\"/>\n",
              "    </g>\n",
              "</svg>\n",
              "      </button>\n",
              "\n",
              "<style>\n",
              "  .colab-df-quickchart {\n",
              "      --bg-color: #E8F0FE;\n",
              "      --fill-color: #1967D2;\n",
              "      --hover-bg-color: #E2EBFA;\n",
              "      --hover-fill-color: #174EA6;\n",
              "      --disabled-fill-color: #AAA;\n",
              "      --disabled-bg-color: #DDD;\n",
              "  }\n",
              "\n",
              "  [theme=dark] .colab-df-quickchart {\n",
              "      --bg-color: #3B4455;\n",
              "      --fill-color: #D2E3FC;\n",
              "      --hover-bg-color: #434B5C;\n",
              "      --hover-fill-color: #FFFFFF;\n",
              "      --disabled-bg-color: #3B4455;\n",
              "      --disabled-fill-color: #666;\n",
              "  }\n",
              "\n",
              "  .colab-df-quickchart {\n",
              "    background-color: var(--bg-color);\n",
              "    border: none;\n",
              "    border-radius: 50%;\n",
              "    cursor: pointer;\n",
              "    display: none;\n",
              "    fill: var(--fill-color);\n",
              "    height: 32px;\n",
              "    padding: 0;\n",
              "    width: 32px;\n",
              "  }\n",
              "\n",
              "  .colab-df-quickchart:hover {\n",
              "    background-color: var(--hover-bg-color);\n",
              "    box-shadow: 0 1px 2px rgba(60, 64, 67, 0.3), 0 1px 3px 1px rgba(60, 64, 67, 0.15);\n",
              "    fill: var(--button-hover-fill-color);\n",
              "  }\n",
              "\n",
              "  .colab-df-quickchart-complete:disabled,\n",
              "  .colab-df-quickchart-complete:disabled:hover {\n",
              "    background-color: var(--disabled-bg-color);\n",
              "    fill: var(--disabled-fill-color);\n",
              "    box-shadow: none;\n",
              "  }\n",
              "\n",
              "  .colab-df-spinner {\n",
              "    border: 2px solid var(--fill-color);\n",
              "    border-color: transparent;\n",
              "    border-bottom-color: var(--fill-color);\n",
              "    animation:\n",
              "      spin 1s steps(1) infinite;\n",
              "  }\n",
              "\n",
              "  @keyframes spin {\n",
              "    0% {\n",
              "      border-color: transparent;\n",
              "      border-bottom-color: var(--fill-color);\n",
              "      border-left-color: var(--fill-color);\n",
              "    }\n",
              "    20% {\n",
              "      border-color: transparent;\n",
              "      border-left-color: var(--fill-color);\n",
              "      border-top-color: var(--fill-color);\n",
              "    }\n",
              "    30% {\n",
              "      border-color: transparent;\n",
              "      border-left-color: var(--fill-color);\n",
              "      border-top-color: var(--fill-color);\n",
              "      border-right-color: var(--fill-color);\n",
              "    }\n",
              "    40% {\n",
              "      border-color: transparent;\n",
              "      border-right-color: var(--fill-color);\n",
              "      border-top-color: var(--fill-color);\n",
              "    }\n",
              "    60% {\n",
              "      border-color: transparent;\n",
              "      border-right-color: var(--fill-color);\n",
              "    }\n",
              "    80% {\n",
              "      border-color: transparent;\n",
              "      border-right-color: var(--fill-color);\n",
              "      border-bottom-color: var(--fill-color);\n",
              "    }\n",
              "    90% {\n",
              "      border-color: transparent;\n",
              "      border-bottom-color: var(--fill-color);\n",
              "    }\n",
              "  }\n",
              "</style>\n",
              "\n",
              "      <script>\n",
              "        async function quickchart(key) {\n",
              "          const quickchartButtonEl =\n",
              "            document.querySelector('#' + key + ' button');\n",
              "          quickchartButtonEl.disabled = true;  // To prevent multiple clicks.\n",
              "          quickchartButtonEl.classList.add('colab-df-spinner');\n",
              "          try {\n",
              "            const charts = await google.colab.kernel.invokeFunction(\n",
              "                'suggestCharts', [key], {});\n",
              "          } catch (error) {\n",
              "            console.error('Error during call to suggestCharts:', error);\n",
              "          }\n",
              "          quickchartButtonEl.classList.remove('colab-df-spinner');\n",
              "          quickchartButtonEl.classList.add('colab-df-quickchart-complete');\n",
              "        }\n",
              "        (() => {\n",
              "          let quickchartButtonEl =\n",
              "            document.querySelector('#df-11a15305-d16b-4313-95a3-2eff623db0d9 button');\n",
              "          quickchartButtonEl.style.display =\n",
              "            google.colab.kernel.accessAllowed ? 'block' : 'none';\n",
              "        })();\n",
              "      </script>\n",
              "    </div>\n",
              "\n",
              "    </div>\n",
              "  </div>\n"
            ],
            "application/vnd.google.colaboratory.intrinsic+json": {
              "type": "dataframe",
              "summary": "{\n  \"name\": \"df\",\n  \"rows\": 9,\n  \"fields\": [\n    {\n      \"column\": \"Age\",\n      \"properties\": {\n        \"dtype\": \"number\",\n        \"std\": 0,\n        \"min\": 19,\n        \"max\": 22,\n        \"num_unique_values\": 3,\n        \"samples\": [\n          21,\n          22,\n          19\n        ],\n        \"semantic_type\": \"\",\n        \"description\": \"\"\n      }\n    },\n    {\n      \"column\": \"Gender\",\n      \"properties\": {\n        \"dtype\": \"category\",\n        \"num_unique_values\": 1,\n        \"samples\": [\n          \"Male\"\n        ],\n        \"semantic_type\": \"\",\n        \"description\": \"\"\n      }\n    },\n    {\n      \"column\": \"Stream\",\n      \"properties\": {\n        \"dtype\": \"category\",\n        \"num_unique_values\": 4,\n        \"samples\": [\n          \"Computer Science\"\n        ],\n        \"semantic_type\": \"\",\n        \"description\": \"\"\n      }\n    },\n    {\n      \"column\": \"Internships\",\n      \"properties\": {\n        \"dtype\": \"number\",\n        \"std\": 0,\n        \"min\": 0,\n        \"max\": 2,\n        \"num_unique_values\": 3,\n        \"samples\": [\n          1\n        ],\n        \"semantic_type\": \"\",\n        \"description\": \"\"\n      }\n    },\n    {\n      \"column\": \"CGPA\",\n      \"properties\": {\n        \"dtype\": \"number\",\n        \"std\": 1,\n        \"min\": 6,\n        \"max\": 9,\n        \"num_unique_values\": 3,\n        \"samples\": [\n          7\n        ],\n        \"semantic_type\": \"\",\n        \"description\": \"\"\n      }\n    },\n    {\n      \"column\": \"Hostel\",\n      \"properties\": {\n        \"dtype\": \"number\",\n        \"std\": 0,\n        \"min\": 0,\n        \"max\": 1,\n        \"num_unique_values\": 2,\n        \"samples\": [\n          0\n        ],\n        \"semantic_type\": \"\",\n        \"description\": \"\"\n      }\n    },\n    {\n      \"column\": \"HistoryOfBacklogs\",\n      \"properties\": {\n        \"dtype\": \"number\",\n        \"std\": 0,\n        \"min\": 0,\n        \"max\": 1,\n        \"num_unique_values\": 2,\n        \"samples\": [\n          1\n        ],\n        \"semantic_type\": \"\",\n        \"description\": \"\"\n      }\n    },\n    {\n      \"column\": \"PlacedOrNot\",\n      \"properties\": {\n        \"dtype\": \"number\",\n        \"std\": 0,\n        \"min\": 0,\n        \"max\": 1,\n        \"num_unique_values\": 2,\n        \"samples\": [\n          1\n        ],\n        \"semantic_type\": \"\",\n        \"description\": \"\"\n      }\n    }\n  ]\n}"
            }
          },
          "metadata": {},
          "execution_count": 6
        }
      ]
    },
    {
      "cell_type": "code",
      "source": [
        "df.dtypes"
      ],
      "metadata": {
        "colab": {
          "base_uri": "https://localhost:8080/",
          "height": 335
        },
        "id": "bKe64YJxmMQB",
        "outputId": "d5c912d9-4de2-44b1-c82f-5f5e79c24f83"
      },
      "execution_count": 7,
      "outputs": [
        {
          "output_type": "execute_result",
          "data": {
            "text/plain": [
              "Age                   int64\n",
              "Gender               object\n",
              "Stream               object\n",
              "Internships           int64\n",
              "CGPA                  int64\n",
              "Hostel                int64\n",
              "HistoryOfBacklogs     int64\n",
              "PlacedOrNot           int64\n",
              "dtype: object"
            ],
            "text/html": [
              "<div>\n",
              "<style scoped>\n",
              "    .dataframe tbody tr th:only-of-type {\n",
              "        vertical-align: middle;\n",
              "    }\n",
              "\n",
              "    .dataframe tbody tr th {\n",
              "        vertical-align: top;\n",
              "    }\n",
              "\n",
              "    .dataframe thead th {\n",
              "        text-align: right;\n",
              "    }\n",
              "</style>\n",
              "<table border=\"1\" class=\"dataframe\">\n",
              "  <thead>\n",
              "    <tr style=\"text-align: right;\">\n",
              "      <th></th>\n",
              "      <th>0</th>\n",
              "    </tr>\n",
              "  </thead>\n",
              "  <tbody>\n",
              "    <tr>\n",
              "      <th>Age</th>\n",
              "      <td>int64</td>\n",
              "    </tr>\n",
              "    <tr>\n",
              "      <th>Gender</th>\n",
              "      <td>object</td>\n",
              "    </tr>\n",
              "    <tr>\n",
              "      <th>Stream</th>\n",
              "      <td>object</td>\n",
              "    </tr>\n",
              "    <tr>\n",
              "      <th>Internships</th>\n",
              "      <td>int64</td>\n",
              "    </tr>\n",
              "    <tr>\n",
              "      <th>CGPA</th>\n",
              "      <td>int64</td>\n",
              "    </tr>\n",
              "    <tr>\n",
              "      <th>Hostel</th>\n",
              "      <td>int64</td>\n",
              "    </tr>\n",
              "    <tr>\n",
              "      <th>HistoryOfBacklogs</th>\n",
              "      <td>int64</td>\n",
              "    </tr>\n",
              "    <tr>\n",
              "      <th>PlacedOrNot</th>\n",
              "      <td>int64</td>\n",
              "    </tr>\n",
              "  </tbody>\n",
              "</table>\n",
              "</div><br><label><b>dtype:</b> object</label>"
            ]
          },
          "metadata": {},
          "execution_count": 7
        }
      ]
    },
    {
      "cell_type": "code",
      "source": [
        "df.info()"
      ],
      "metadata": {
        "colab": {
          "base_uri": "https://localhost:8080/"
        },
        "id": "d7li9BrzmOBl",
        "outputId": "6cc2d379-59b7-4a97-b956-ad77d5145316"
      },
      "execution_count": 8,
      "outputs": [
        {
          "output_type": "stream",
          "name": "stdout",
          "text": [
            "<class 'pandas.core.frame.DataFrame'>\n",
            "RangeIndex: 2966 entries, 0 to 2965\n",
            "Data columns (total 8 columns):\n",
            " #   Column             Non-Null Count  Dtype \n",
            "---  ------             --------------  ----- \n",
            " 0   Age                2966 non-null   int64 \n",
            " 1   Gender             2966 non-null   object\n",
            " 2   Stream             2966 non-null   object\n",
            " 3   Internships        2966 non-null   int64 \n",
            " 4   CGPA               2966 non-null   int64 \n",
            " 5   Hostel             2966 non-null   int64 \n",
            " 6   HistoryOfBacklogs  2966 non-null   int64 \n",
            " 7   PlacedOrNot        2966 non-null   int64 \n",
            "dtypes: int64(6), object(2)\n",
            "memory usage: 185.5+ KB\n"
          ]
        }
      ]
    },
    {
      "cell_type": "markdown",
      "source": [
        "**MATHEMATICAL DESCRIPTION OF DATA**"
      ],
      "metadata": {
        "id": "Lj_2oniLjXc6"
      }
    },
    {
      "cell_type": "code",
      "source": [
        "df.describe()"
      ],
      "metadata": {
        "colab": {
          "base_uri": "https://localhost:8080/",
          "height": 300
        },
        "id": "BsAcnosLmPX3",
        "outputId": "af7025d8-acd6-4d5c-c1d0-eb99b630d291"
      },
      "execution_count": 9,
      "outputs": [
        {
          "output_type": "execute_result",
          "data": {
            "text/plain": [
              "               Age  Internships         CGPA       Hostel  HistoryOfBacklogs  \\\n",
              "count  2966.000000  2966.000000  2966.000000  2966.000000        2966.000000   \n",
              "mean     21.485840     0.703641     7.073837     0.269049           0.192178   \n",
              "std       1.324933     0.740197     0.967748     0.443540           0.394079   \n",
              "min      19.000000     0.000000     5.000000     0.000000           0.000000   \n",
              "25%      21.000000     0.000000     6.000000     0.000000           0.000000   \n",
              "50%      21.000000     1.000000     7.000000     0.000000           0.000000   \n",
              "75%      22.000000     1.000000     8.000000     1.000000           0.000000   \n",
              "max      30.000000     3.000000     9.000000     1.000000           1.000000   \n",
              "\n",
              "       PlacedOrNot  \n",
              "count  2966.000000  \n",
              "mean      0.552596  \n",
              "std       0.497310  \n",
              "min       0.000000  \n",
              "25%       0.000000  \n",
              "50%       1.000000  \n",
              "75%       1.000000  \n",
              "max       1.000000  "
            ],
            "text/html": [
              "\n",
              "  <div id=\"df-6a52dfbe-2e48-44ce-ba31-e2d3799cff0c\" class=\"colab-df-container\">\n",
              "    <div>\n",
              "<style scoped>\n",
              "    .dataframe tbody tr th:only-of-type {\n",
              "        vertical-align: middle;\n",
              "    }\n",
              "\n",
              "    .dataframe tbody tr th {\n",
              "        vertical-align: top;\n",
              "    }\n",
              "\n",
              "    .dataframe thead th {\n",
              "        text-align: right;\n",
              "    }\n",
              "</style>\n",
              "<table border=\"1\" class=\"dataframe\">\n",
              "  <thead>\n",
              "    <tr style=\"text-align: right;\">\n",
              "      <th></th>\n",
              "      <th>Age</th>\n",
              "      <th>Internships</th>\n",
              "      <th>CGPA</th>\n",
              "      <th>Hostel</th>\n",
              "      <th>HistoryOfBacklogs</th>\n",
              "      <th>PlacedOrNot</th>\n",
              "    </tr>\n",
              "  </thead>\n",
              "  <tbody>\n",
              "    <tr>\n",
              "      <th>count</th>\n",
              "      <td>2966.000000</td>\n",
              "      <td>2966.000000</td>\n",
              "      <td>2966.000000</td>\n",
              "      <td>2966.000000</td>\n",
              "      <td>2966.000000</td>\n",
              "      <td>2966.000000</td>\n",
              "    </tr>\n",
              "    <tr>\n",
              "      <th>mean</th>\n",
              "      <td>21.485840</td>\n",
              "      <td>0.703641</td>\n",
              "      <td>7.073837</td>\n",
              "      <td>0.269049</td>\n",
              "      <td>0.192178</td>\n",
              "      <td>0.552596</td>\n",
              "    </tr>\n",
              "    <tr>\n",
              "      <th>std</th>\n",
              "      <td>1.324933</td>\n",
              "      <td>0.740197</td>\n",
              "      <td>0.967748</td>\n",
              "      <td>0.443540</td>\n",
              "      <td>0.394079</td>\n",
              "      <td>0.497310</td>\n",
              "    </tr>\n",
              "    <tr>\n",
              "      <th>min</th>\n",
              "      <td>19.000000</td>\n",
              "      <td>0.000000</td>\n",
              "      <td>5.000000</td>\n",
              "      <td>0.000000</td>\n",
              "      <td>0.000000</td>\n",
              "      <td>0.000000</td>\n",
              "    </tr>\n",
              "    <tr>\n",
              "      <th>25%</th>\n",
              "      <td>21.000000</td>\n",
              "      <td>0.000000</td>\n",
              "      <td>6.000000</td>\n",
              "      <td>0.000000</td>\n",
              "      <td>0.000000</td>\n",
              "      <td>0.000000</td>\n",
              "    </tr>\n",
              "    <tr>\n",
              "      <th>50%</th>\n",
              "      <td>21.000000</td>\n",
              "      <td>1.000000</td>\n",
              "      <td>7.000000</td>\n",
              "      <td>0.000000</td>\n",
              "      <td>0.000000</td>\n",
              "      <td>1.000000</td>\n",
              "    </tr>\n",
              "    <tr>\n",
              "      <th>75%</th>\n",
              "      <td>22.000000</td>\n",
              "      <td>1.000000</td>\n",
              "      <td>8.000000</td>\n",
              "      <td>1.000000</td>\n",
              "      <td>0.000000</td>\n",
              "      <td>1.000000</td>\n",
              "    </tr>\n",
              "    <tr>\n",
              "      <th>max</th>\n",
              "      <td>30.000000</td>\n",
              "      <td>3.000000</td>\n",
              "      <td>9.000000</td>\n",
              "      <td>1.000000</td>\n",
              "      <td>1.000000</td>\n",
              "      <td>1.000000</td>\n",
              "    </tr>\n",
              "  </tbody>\n",
              "</table>\n",
              "</div>\n",
              "    <div class=\"colab-df-buttons\">\n",
              "\n",
              "  <div class=\"colab-df-container\">\n",
              "    <button class=\"colab-df-convert\" onclick=\"convertToInteractive('df-6a52dfbe-2e48-44ce-ba31-e2d3799cff0c')\"\n",
              "            title=\"Convert this dataframe to an interactive table.\"\n",
              "            style=\"display:none;\">\n",
              "\n",
              "  <svg xmlns=\"http://www.w3.org/2000/svg\" height=\"24px\" viewBox=\"0 -960 960 960\">\n",
              "    <path d=\"M120-120v-720h720v720H120Zm60-500h600v-160H180v160Zm220 220h160v-160H400v160Zm0 220h160v-160H400v160ZM180-400h160v-160H180v160Zm440 0h160v-160H620v160ZM180-180h160v-160H180v160Zm440 0h160v-160H620v160Z\"/>\n",
              "  </svg>\n",
              "    </button>\n",
              "\n",
              "  <style>\n",
              "    .colab-df-container {\n",
              "      display:flex;\n",
              "      gap: 12px;\n",
              "    }\n",
              "\n",
              "    .colab-df-convert {\n",
              "      background-color: #E8F0FE;\n",
              "      border: none;\n",
              "      border-radius: 50%;\n",
              "      cursor: pointer;\n",
              "      display: none;\n",
              "      fill: #1967D2;\n",
              "      height: 32px;\n",
              "      padding: 0 0 0 0;\n",
              "      width: 32px;\n",
              "    }\n",
              "\n",
              "    .colab-df-convert:hover {\n",
              "      background-color: #E2EBFA;\n",
              "      box-shadow: 0px 1px 2px rgba(60, 64, 67, 0.3), 0px 1px 3px 1px rgba(60, 64, 67, 0.15);\n",
              "      fill: #174EA6;\n",
              "    }\n",
              "\n",
              "    .colab-df-buttons div {\n",
              "      margin-bottom: 4px;\n",
              "    }\n",
              "\n",
              "    [theme=dark] .colab-df-convert {\n",
              "      background-color: #3B4455;\n",
              "      fill: #D2E3FC;\n",
              "    }\n",
              "\n",
              "    [theme=dark] .colab-df-convert:hover {\n",
              "      background-color: #434B5C;\n",
              "      box-shadow: 0px 1px 3px 1px rgba(0, 0, 0, 0.15);\n",
              "      filter: drop-shadow(0px 1px 2px rgba(0, 0, 0, 0.3));\n",
              "      fill: #FFFFFF;\n",
              "    }\n",
              "  </style>\n",
              "\n",
              "    <script>\n",
              "      const buttonEl =\n",
              "        document.querySelector('#df-6a52dfbe-2e48-44ce-ba31-e2d3799cff0c button.colab-df-convert');\n",
              "      buttonEl.style.display =\n",
              "        google.colab.kernel.accessAllowed ? 'block' : 'none';\n",
              "\n",
              "      async function convertToInteractive(key) {\n",
              "        const element = document.querySelector('#df-6a52dfbe-2e48-44ce-ba31-e2d3799cff0c');\n",
              "        const dataTable =\n",
              "          await google.colab.kernel.invokeFunction('convertToInteractive',\n",
              "                                                    [key], {});\n",
              "        if (!dataTable) return;\n",
              "\n",
              "        const docLinkHtml = 'Like what you see? Visit the ' +\n",
              "          '<a target=\"_blank\" href=https://colab.research.google.com/notebooks/data_table.ipynb>data table notebook</a>'\n",
              "          + ' to learn more about interactive tables.';\n",
              "        element.innerHTML = '';\n",
              "        dataTable['output_type'] = 'display_data';\n",
              "        await google.colab.output.renderOutput(dataTable, element);\n",
              "        const docLink = document.createElement('div');\n",
              "        docLink.innerHTML = docLinkHtml;\n",
              "        element.appendChild(docLink);\n",
              "      }\n",
              "    </script>\n",
              "  </div>\n",
              "\n",
              "\n",
              "    <div id=\"df-1aaab571-246d-41d1-a520-9ed30589a9ce\">\n",
              "      <button class=\"colab-df-quickchart\" onclick=\"quickchart('df-1aaab571-246d-41d1-a520-9ed30589a9ce')\"\n",
              "                title=\"Suggest charts\"\n",
              "                style=\"display:none;\">\n",
              "\n",
              "<svg xmlns=\"http://www.w3.org/2000/svg\" height=\"24px\"viewBox=\"0 0 24 24\"\n",
              "     width=\"24px\">\n",
              "    <g>\n",
              "        <path d=\"M19 3H5c-1.1 0-2 .9-2 2v14c0 1.1.9 2 2 2h14c1.1 0 2-.9 2-2V5c0-1.1-.9-2-2-2zM9 17H7v-7h2v7zm4 0h-2V7h2v10zm4 0h-2v-4h2v4z\"/>\n",
              "    </g>\n",
              "</svg>\n",
              "      </button>\n",
              "\n",
              "<style>\n",
              "  .colab-df-quickchart {\n",
              "      --bg-color: #E8F0FE;\n",
              "      --fill-color: #1967D2;\n",
              "      --hover-bg-color: #E2EBFA;\n",
              "      --hover-fill-color: #174EA6;\n",
              "      --disabled-fill-color: #AAA;\n",
              "      --disabled-bg-color: #DDD;\n",
              "  }\n",
              "\n",
              "  [theme=dark] .colab-df-quickchart {\n",
              "      --bg-color: #3B4455;\n",
              "      --fill-color: #D2E3FC;\n",
              "      --hover-bg-color: #434B5C;\n",
              "      --hover-fill-color: #FFFFFF;\n",
              "      --disabled-bg-color: #3B4455;\n",
              "      --disabled-fill-color: #666;\n",
              "  }\n",
              "\n",
              "  .colab-df-quickchart {\n",
              "    background-color: var(--bg-color);\n",
              "    border: none;\n",
              "    border-radius: 50%;\n",
              "    cursor: pointer;\n",
              "    display: none;\n",
              "    fill: var(--fill-color);\n",
              "    height: 32px;\n",
              "    padding: 0;\n",
              "    width: 32px;\n",
              "  }\n",
              "\n",
              "  .colab-df-quickchart:hover {\n",
              "    background-color: var(--hover-bg-color);\n",
              "    box-shadow: 0 1px 2px rgba(60, 64, 67, 0.3), 0 1px 3px 1px rgba(60, 64, 67, 0.15);\n",
              "    fill: var(--button-hover-fill-color);\n",
              "  }\n",
              "\n",
              "  .colab-df-quickchart-complete:disabled,\n",
              "  .colab-df-quickchart-complete:disabled:hover {\n",
              "    background-color: var(--disabled-bg-color);\n",
              "    fill: var(--disabled-fill-color);\n",
              "    box-shadow: none;\n",
              "  }\n",
              "\n",
              "  .colab-df-spinner {\n",
              "    border: 2px solid var(--fill-color);\n",
              "    border-color: transparent;\n",
              "    border-bottom-color: var(--fill-color);\n",
              "    animation:\n",
              "      spin 1s steps(1) infinite;\n",
              "  }\n",
              "\n",
              "  @keyframes spin {\n",
              "    0% {\n",
              "      border-color: transparent;\n",
              "      border-bottom-color: var(--fill-color);\n",
              "      border-left-color: var(--fill-color);\n",
              "    }\n",
              "    20% {\n",
              "      border-color: transparent;\n",
              "      border-left-color: var(--fill-color);\n",
              "      border-top-color: var(--fill-color);\n",
              "    }\n",
              "    30% {\n",
              "      border-color: transparent;\n",
              "      border-left-color: var(--fill-color);\n",
              "      border-top-color: var(--fill-color);\n",
              "      border-right-color: var(--fill-color);\n",
              "    }\n",
              "    40% {\n",
              "      border-color: transparent;\n",
              "      border-right-color: var(--fill-color);\n",
              "      border-top-color: var(--fill-color);\n",
              "    }\n",
              "    60% {\n",
              "      border-color: transparent;\n",
              "      border-right-color: var(--fill-color);\n",
              "    }\n",
              "    80% {\n",
              "      border-color: transparent;\n",
              "      border-right-color: var(--fill-color);\n",
              "      border-bottom-color: var(--fill-color);\n",
              "    }\n",
              "    90% {\n",
              "      border-color: transparent;\n",
              "      border-bottom-color: var(--fill-color);\n",
              "    }\n",
              "  }\n",
              "</style>\n",
              "\n",
              "      <script>\n",
              "        async function quickchart(key) {\n",
              "          const quickchartButtonEl =\n",
              "            document.querySelector('#' + key + ' button');\n",
              "          quickchartButtonEl.disabled = true;  // To prevent multiple clicks.\n",
              "          quickchartButtonEl.classList.add('colab-df-spinner');\n",
              "          try {\n",
              "            const charts = await google.colab.kernel.invokeFunction(\n",
              "                'suggestCharts', [key], {});\n",
              "          } catch (error) {\n",
              "            console.error('Error during call to suggestCharts:', error);\n",
              "          }\n",
              "          quickchartButtonEl.classList.remove('colab-df-spinner');\n",
              "          quickchartButtonEl.classList.add('colab-df-quickchart-complete');\n",
              "        }\n",
              "        (() => {\n",
              "          let quickchartButtonEl =\n",
              "            document.querySelector('#df-1aaab571-246d-41d1-a520-9ed30589a9ce button');\n",
              "          quickchartButtonEl.style.display =\n",
              "            google.colab.kernel.accessAllowed ? 'block' : 'none';\n",
              "        })();\n",
              "      </script>\n",
              "    </div>\n",
              "\n",
              "    </div>\n",
              "  </div>\n"
            ],
            "application/vnd.google.colaboratory.intrinsic+json": {
              "type": "dataframe",
              "summary": "{\n  \"name\": \"df\",\n  \"rows\": 8,\n  \"fields\": [\n    {\n      \"column\": \"Age\",\n      \"properties\": {\n        \"dtype\": \"number\",\n        \"std\": 1041.8111041996838,\n        \"min\": 1.3249334527319803,\n        \"max\": 2966.0,\n        \"num_unique_values\": 7,\n        \"samples\": [\n          2966.0,\n          21.48583951449764,\n          22.0\n        ],\n        \"semantic_type\": \"\",\n        \"description\": \"\"\n      }\n    },\n    {\n      \"column\": \"Internships\",\n      \"properties\": {\n        \"dtype\": \"number\",\n        \"std\": 1048.314309886768,\n        \"min\": 0.0,\n        \"max\": 2966.0,\n        \"num_unique_values\": 6,\n        \"samples\": [\n          2966.0,\n          0.7036412677006069,\n          3.0\n        ],\n        \"semantic_type\": \"\",\n        \"description\": \"\"\n      }\n    },\n    {\n      \"column\": \"CGPA\",\n      \"properties\": {\n        \"dtype\": \"number\",\n        \"std\": 1046.468248669769,\n        \"min\": 0.967747987664593,\n        \"max\": 2966.0,\n        \"num_unique_values\": 8,\n        \"samples\": [\n          7.073836817262306,\n          7.0,\n          2966.0\n        ],\n        \"semantic_type\": \"\",\n        \"description\": \"\"\n      }\n    },\n    {\n      \"column\": \"Hostel\",\n      \"properties\": {\n        \"dtype\": \"number\",\n        \"std\": 1048.5024330074202,\n        \"min\": 0.0,\n        \"max\": 2966.0,\n        \"num_unique_values\": 5,\n        \"samples\": [\n          0.26904922454484154,\n          1.0,\n          0.4435403781544238\n        ],\n        \"semantic_type\": \"\",\n        \"description\": \"\"\n      }\n    },\n    {\n      \"column\": \"HistoryOfBacklogs\",\n      \"properties\": {\n        \"dtype\": \"number\",\n        \"std\": 1048.559295167915,\n        \"min\": 0.0,\n        \"max\": 2966.0,\n        \"num_unique_values\": 5,\n        \"samples\": [\n          0.19217801753202968,\n          1.0,\n          0.39407865523463964\n        ],\n        \"semantic_type\": \"\",\n        \"description\": \"\"\n      }\n    },\n    {\n      \"column\": \"PlacedOrNot\",\n      \"properties\": {\n        \"dtype\": \"number\",\n        \"std\": 1048.4348877695777,\n        \"min\": 0.0,\n        \"max\": 2966.0,\n        \"num_unique_values\": 5,\n        \"samples\": [\n          0.552596089008766,\n          1.0,\n          0.49730979826643884\n        ],\n        \"semantic_type\": \"\",\n        \"description\": \"\"\n      }\n    }\n  ]\n}"
            }
          },
          "metadata": {},
          "execution_count": 9
        }
      ]
    },
    {
      "cell_type": "markdown",
      "source": [
        "**PREPROCESSING, EDA AND FEATURE VISUALISATION**"
      ],
      "metadata": {
        "id": "w-kNCjEmjezw"
      }
    },
    {
      "cell_type": "markdown",
      "source": [
        "**1) PREPROCESSING**"
      ],
      "metadata": {
        "id": "3cnmzgsijlrg"
      }
    },
    {
      "cell_type": "code",
      "source": [
        "df.isnull().sum()\n"
      ],
      "metadata": {
        "colab": {
          "base_uri": "https://localhost:8080/",
          "height": 335
        },
        "id": "Txw7IuATmRXq",
        "outputId": "e818ce40-dceb-4e11-b46f-cda6fc647d67"
      },
      "execution_count": 10,
      "outputs": [
        {
          "output_type": "execute_result",
          "data": {
            "text/plain": [
              "Age                  0\n",
              "Gender               0\n",
              "Stream               0\n",
              "Internships          0\n",
              "CGPA                 0\n",
              "Hostel               0\n",
              "HistoryOfBacklogs    0\n",
              "PlacedOrNot          0\n",
              "dtype: int64"
            ],
            "text/html": [
              "<div>\n",
              "<style scoped>\n",
              "    .dataframe tbody tr th:only-of-type {\n",
              "        vertical-align: middle;\n",
              "    }\n",
              "\n",
              "    .dataframe tbody tr th {\n",
              "        vertical-align: top;\n",
              "    }\n",
              "\n",
              "    .dataframe thead th {\n",
              "        text-align: right;\n",
              "    }\n",
              "</style>\n",
              "<table border=\"1\" class=\"dataframe\">\n",
              "  <thead>\n",
              "    <tr style=\"text-align: right;\">\n",
              "      <th></th>\n",
              "      <th>0</th>\n",
              "    </tr>\n",
              "  </thead>\n",
              "  <tbody>\n",
              "    <tr>\n",
              "      <th>Age</th>\n",
              "      <td>0</td>\n",
              "    </tr>\n",
              "    <tr>\n",
              "      <th>Gender</th>\n",
              "      <td>0</td>\n",
              "    </tr>\n",
              "    <tr>\n",
              "      <th>Stream</th>\n",
              "      <td>0</td>\n",
              "    </tr>\n",
              "    <tr>\n",
              "      <th>Internships</th>\n",
              "      <td>0</td>\n",
              "    </tr>\n",
              "    <tr>\n",
              "      <th>CGPA</th>\n",
              "      <td>0</td>\n",
              "    </tr>\n",
              "    <tr>\n",
              "      <th>Hostel</th>\n",
              "      <td>0</td>\n",
              "    </tr>\n",
              "    <tr>\n",
              "      <th>HistoryOfBacklogs</th>\n",
              "      <td>0</td>\n",
              "    </tr>\n",
              "    <tr>\n",
              "      <th>PlacedOrNot</th>\n",
              "      <td>0</td>\n",
              "    </tr>\n",
              "  </tbody>\n",
              "</table>\n",
              "</div><br><label><b>dtype:</b> int64</label>"
            ]
          },
          "metadata": {},
          "execution_count": 10
        }
      ]
    },
    {
      "cell_type": "markdown",
      "source": [
        "**no null values**"
      ],
      "metadata": {
        "id": "r6CNbkRIjsDm"
      }
    },
    {
      "cell_type": "code",
      "source": [
        "# duplicate rows\n",
        "print(df.duplicated().sum())\n",
        "\n",
        "#drop duplicates\n",
        "df.drop_duplicates(inplace=True)"
      ],
      "metadata": {
        "colab": {
          "base_uri": "https://localhost:8080/"
        },
        "id": "v81AZMK3mSyi",
        "outputId": "418c5eb8-2d3e-4fb8-8b23-e845def89190"
      },
      "execution_count": 11,
      "outputs": [
        {
          "output_type": "stream",
          "name": "stdout",
          "text": [
            "1829\n"
          ]
        }
      ]
    },
    {
      "cell_type": "code",
      "source": [
        "print(df.duplicated().sum())"
      ],
      "metadata": {
        "colab": {
          "base_uri": "https://localhost:8080/"
        },
        "id": "_ZkUfkFimU6G",
        "outputId": "a3505494-976d-4c44-88e7-c98270910597"
      },
      "execution_count": 12,
      "outputs": [
        {
          "output_type": "stream",
          "name": "stdout",
          "text": [
            "0\n"
          ]
        }
      ]
    },
    {
      "cell_type": "markdown",
      "source": [
        "**EDA**"
      ],
      "metadata": {
        "id": "JAd5Zm3rjwXF"
      }
    },
    {
      "cell_type": "markdown",
      "source": [
        "**OUTPUT VISUALISED WRT TO TWO MAJOR FEATURES**"
      ],
      "metadata": {
        "id": "xpUi7Zk8kLX_"
      }
    },
    {
      "cell_type": "code",
      "source": [
        "from IPython.display import HTML\n",
        "\n",
        "fig = px.scatter(df, x=\"CGPA\", y=\"Internships\", color=\"PlacedOrNot\",hover_data=['CGPA'])\n",
        "HTML(fig.to_html(include_plotlyjs='cdn'))"
      ],
      "metadata": {
        "colab": {
          "base_uri": "https://localhost:8080/",
          "height": 467
        },
        "id": "wHHp6uphmWQ3",
        "outputId": "a3147a0d-caca-46ff-f99e-802edf9dda42"
      },
      "execution_count": 14,
      "outputs": [
        {
          "output_type": "execute_result",
          "data": {
            "text/plain": [
              "<IPython.core.display.HTML object>"
            ],
            "text/html": [
              "<html>\n",
              "<head><meta charset=\"utf-8\" /></head>\n",
              "<body>\n",
              "    <div>                        <script type=\"text/javascript\">window.PlotlyConfig = {MathJaxConfig: 'local'};</script>\n",
              "        <script charset=\"utf-8\" src=\"https://cdn.plot.ly/plotly-2.35.2.min.js\"></script>                <div id=\"0de2f8f8-63f8-4d22-96e1-939ab0503404\" class=\"plotly-graph-div\" style=\"height:100%; width:100%;\"></div>            <script type=\"text/javascript\">                                    window.PLOTLYENV=window.PLOTLYENV || {};                                    if (document.getElementById(\"0de2f8f8-63f8-4d22-96e1-939ab0503404\")) {                    Plotly.newPlot(                        \"0de2f8f8-63f8-4d22-96e1-939ab0503404\",                        [{\"hovertemplate\":\"CGPA=%{x}\\u003cbr\\u003eInternships=%{y}\\u003cbr\\u003ePlacedOrNot=%{marker.color}\\u003cextra\\u003e\\u003c\\u002fextra\\u003e\",\"legendgroup\":\"\",\"marker\":{\"color\":[1,1,1,1,1,0,0,0,1,0,0,1,0,1,1,0,0,0,1,0,0,0,0,1,1,1,1,1,1,0,0,1,0,1,1,0,1,0,1,1,1,1,1,1,0,1,1,1,0,1,1,1,1,1,1,1,1,1,1,1,1,1,1,1,1,1,1,1,1,1,1,1,1,1,0,0,0,1,1,1,0,0,0,0,1,1,0,1,0,0,1,1,1,1,1,1,0,1,0,1,1,1,1,0,1,1,0,0,1,0,1,0,0,1,1,1,1,0,0,1,1,1,1,1,1,0,1,0,0,1,1,0,1,0,1,1,0,0,1,1,0,0,1,0,1,0,0,1,1,0,1,0,0,1,0,0,0,0,0,0,0,0,0,0,0,0,0,0,0,1,0,1,0,0,1,1,0,0,1,0,0,1,1,0,0,0,0,0,1,1,0,1,1,0,0,1,0,0,1,0,0,1,1,1,1,1,0,1,1,0,1,0,0,0,1,0,0,1,1,1,1,1,1,0,0,0,0,1,1,1,0,0,1,1,1,1,1,1,1,1,1,0,1,0,0,1,0,1,1,1,1,1,1,0,1,1,1,1,0,0,0,0,0,0,0,0,0,0,0,0,0,1,1,0,0,0,0,0,0,0,1,0,0,0,0,0,0,0,0,0,1,1,0,1,0,1,0,1,1,1,0,0,1,1,0,1,1,0,1,1,1,0,1,1,1,0,1,1,1,1,1,1,1,1,0,1,1,1,0,0,0,0,0,1,0,1,0,1,1,1,1,1,0,0,0,1,0,0,0,0,1,1,1,1,1,1,0,1,0,0,1,1,1,1,0,1,1,0,1,1,0,1,1,0,1,1,0,0,0,0,0,0,0,1,0,1,0,1,1,1,1,1,1,1,1,1,1,1,1,1,1,0,1,1,1,1,1,0,1,1,1,1,1,1,0,0,1,1,0,1,1,1,0,1,1,0,1,0,1,1,0,0,1,1,1,1,1,1,1,1,0,0,1,0,1,1,1,1,1,1,1,1,1,0,1,1,1,1,1,0,1,1,1,1,1,1,0,0,0,1,1,1,1,1,1,0,0,0,1,1,1,1,1,0,1,1,0,0,1,1,1,1,0,1,1,1,0,0,0,0,1,1,1,0,1,0,1,1,0,1,1,1,1,0,1,0,0,1,1,1,1,1,1,1,1,1,1,1,1,1,1,1,1,0,1,1,1,1,1,1,1,1,1,1,1,1,1,1,1,1,0,0,1,1,1,1,1,1,1,0,1,1,0,1,1,1,1,1,1,1,1,1,1,0,1,1,0,1,1,1,0,1,1,0,0,0,1,0,1,0,1,1,1,1,0,1,1,0,0,1,1,1,1,0,1,1,0,1,1,1,1,0,1,1,1,1,0,0,0,0,0,0,0,0,0,1,0,1,0,1,1,1,1,0,1,1,1,1,0,0,1,0,1,0,1,1,1,0,0,0,0,0,0,1,1,0,1,0,0,0,0,0,0,1,1,1,1,1,1,1,1,1,1,0,0,0,0,0,0,0,0,0,1,0,0,0,0,0,0,1,1,1,0,1,0,0,1,1,0,0,0,1,0,1,0,1,1,1,1,0,1,0,1,0,0,1,1,1,1,1,1,1,0,1,1,0,0,1,0,1,1,0,1,0,1,1,1,0,0,0,0,0,0,0,1,0,0,0,0,0,1,0,0,0,1,0,0,0,0,0,1,0,0,1,0,0,0,0,0,0,0,1,0,1,0,0,1,1,0,0,0,0,1,0,0,0,1,1,1,0,0,0,0,0,1,1,0,1,1,1,1,0,0,1,0,0,0,1,0,0,1,0,1,1,1,1,1,1,1,1,1,1,0,1,1,1,1,1,1,0,0,0,1,1,1,1,1,1,0,1,1,0,1,1,1,1,1,0,1,0,0,1,0,0,1,1,0,0,1,0,0,0,0,1,0,1,1,0,0,1,0,0,1,1,0,1,0,1,1,0,1,1,1,0,0,1,0,1,0,1,1,1,0,1,1,0,0,1,1,1,1,1,0,0,0,0,0,0,1,0,1,1,1,0,1,1,1,1,1,1,1,1,1,1,1,0,1,1,0,1,1,0,1,1,0,1,1,1,1,0,0,1,0,1,0,1,1,1,0,1,1,1,0,1,1,0,0,0,1,1,1,0,0,1,0,1,1,0,0,0,1,0,0,0,0,1,0,1,1,1,1,0,1,1,0,0,1,1,1,1,0,0,0,0,0,0,0,1,0,0,1,1,0,0,0,0,0,0,0,0,0,1,1,1,0,1,0,1,0,1,0,1,0,0,0,0,0,1,1,1,1,0,1,1,0,1,0,1,0,0,1,0,0,0,0,0,0,0,0,1,1,1,1,1,1,1,1,1,1,1,1,1,1,1,1,1,1,1,1,1,1,1,1,1,1,0,1,1,1,1,1,1,1,1,1,1,1,0,1,1,1,1,0,0,1,1,0,0,0,0,1,1,1,0,0,0,0,0,1,1,0,1,0,1,1,0,1,0,1,1,1,1,1,0,1,1,0,0,1,0,0,0,0,1,1,0,0],\"coloraxis\":\"coloraxis\",\"symbol\":\"circle\"},\"mode\":\"markers\",\"name\":\"\",\"showlegend\":false,\"x\":[8,7,6,8,8,6,7,7,6,6,7,8,6,8,8,7,6,7,8,6,7,7,7,8,8,8,6,8,7,7,7,6,6,7,8,6,8,6,8,7,8,6,7,7,7,8,8,8,6,7,8,8,8,9,8,8,9,8,9,9,9,8,9,9,9,9,8,8,8,9,9,8,7,8,6,6,7,8,6,6,7,7,7,7,7,6,5,6,5,6,6,7,7,7,6,6,7,6,6,7,5,6,6,7,5,7,5,7,7,5,6,6,7,6,6,6,5,5,5,5,7,7,5,7,6,5,7,5,6,7,6,5,6,6,7,7,5,5,6,6,5,6,6,5,6,6,7,7,7,7,6,5,6,6,6,5,5,7,7,5,6,5,7,5,5,5,6,5,7,7,6,6,7,7,8,8,6,6,6,7,7,8,8,6,7,6,6,6,8,8,7,7,8,7,6,8,7,6,6,7,6,8,8,8,8,6,6,8,8,7,6,6,7,6,8,7,7,6,7,8,6,7,6,6,7,6,6,7,7,6,7,6,8,6,6,8,7,8,6,6,6,6,7,6,6,6,7,7,6,8,7,7,6,6,8,8,7,8,7,6,6,6,7,7,7,6,6,6,7,7,6,8,8,6,6,6,5,6,5,5,6,5,5,7,7,6,6,6,6,6,7,8,6,8,6,8,6,8,8,6,7,7,7,7,6,6,8,7,6,6,7,7,8,8,8,7,6,6,7,7,6,8,8,7,7,6,8,8,7,6,7,6,7,8,7,8,6,8,8,8,8,8,6,7,7,8,7,6,7,7,8,7,8,6,7,7,7,8,6,6,7,8,8,6,7,8,6,6,6,8,7,8,8,7,7,6,6,7,7,7,6,7,6,8,6,6,7,6,8,6,6,8,9,7,9,6,6,8,8,8,6,7,9,8,8,8,8,7,9,8,9,6,9,8,7,7,8,9,7,9,8,8,7,7,8,7,7,7,8,6,6,7,6,8,6,8,8,6,6,8,7,7,8,6,8,8,8,7,8,6,8,8,7,7,8,7,8,7,6,6,6,6,8,7,7,8,6,7,7,8,8,7,7,7,8,6,7,6,6,8,7,8,6,6,7,8,7,7,6,7,7,6,6,8,8,7,6,6,7,7,8,6,8,7,6,7,8,8,7,8,9,8,7,7,9,7,7,7,9,9,9,9,8,9,9,8,9,9,8,9,9,9,8,7,9,7,7,9,9,9,9,9,8,9,9,9,9,9,9,9,7,7,9,9,8,9,8,9,9,7,8,9,7,9,8,8,9,9,9,9,9,8,7,7,6,6,7,7,6,7,7,6,6,7,7,7,6,7,6,7,6,6,6,6,7,6,6,7,7,7,6,7,7,7,6,6,7,6,7,7,7,7,6,6,6,6,7,7,7,6,6,7,7,6,6,8,7,6,6,8,8,6,8,6,8,6,6,8,7,7,7,7,7,7,6,8,8,7,6,7,6,6,7,8,7,7,8,7,7,7,6,6,6,7,7,7,8,8,7,8,7,8,6,6,5,5,6,5,5,5,5,6,6,5,5,5,5,5,6,7,7,6,7,7,7,6,8,8,7,7,7,8,7,8,7,8,8,8,7,7,7,7,8,7,6,8,7,6,8,6,7,7,7,8,7,7,7,8,7,8,8,6,6,6,8,7,8,7,7,6,5,5,5,5,6,5,5,5,5,5,6,5,5,6,6,5,5,5,5,5,6,5,6,6,5,5,5,5,6,6,6,8,7,8,6,7,8,8,7,6,7,6,8,7,6,6,7,6,8,6,6,7,7,6,7,8,7,8,8,8,8,7,7,7,7,7,7,7,7,7,7,6,8,6,7,8,8,7,8,8,7,7,7,8,8,8,8,8,7,7,7,7,7,7,8,8,8,8,7,7,8,7,8,8,8,8,8,7,8,7,7,8,7,7,8,7,6,7,8,6,6,7,6,8,6,6,7,6,6,6,7,6,8,8,6,8,7,8,6,7,8,7,7,6,6,8,6,7,6,8,7,9,6,9,6,7,5,9,8,9,6,7,5,5,5,5,5,5,9,5,9,6,9,5,8,9,6,9,8,9,8,7,9,9,7,7,9,7,5,9,7,5,9,9,5,9,6,9,8,7,6,6,7,7,6,6,7,7,6,6,6,6,6,8,8,6,6,6,8,8,8,7,6,7,7,6,7,7,6,6,6,6,6,7,7,7,6,7,7,7,8,6,8,8,7,6,8,8,8,7,7,7,7,7,6,7,6,6,6,7,7,8,7,7,6,6,7,6,6,6,7,8,8,6,6,8,7,8,6,8,6,6,7,6,7,7,6,7,7,6,8,7,8,8,6,6,6,8,7,6,6,6,7,7,7,6,6,7,7,9,9,7,9,7,9,9,8,9,9,9,9,7,9,9,9,8,9,8,9,9,9,7,9,7,7,7,9,9,9,9,8,8,8,9,9,9,8,7,8,7,8,8,7,7,8,8,7,6,6,6,6,8,8,6,7,6,6,7,8,7,6,7,6,8,8,7,8,6,8,8,7,8,6,6,8,8,6,6,8,6,6,7,7,8,8,6,7],\"xaxis\":\"x\",\"y\":[1,0,1,0,0,0,0,1,2,1,1,1,2,1,2,1,0,1,0,1,0,1,0,0,1,1,0,1,1,1,0,1,1,0,1,1,0,1,0,1,2,3,1,2,0,0,1,1,3,1,0,0,1,2,0,0,0,1,0,1,2,0,0,3,1,0,0,0,1,0,1,0,2,0,0,1,1,1,1,1,2,2,0,0,0,0,1,2,0,1,0,1,1,1,1,1,0,0,0,1,3,0,2,1,1,2,1,1,2,0,0,0,1,1,1,0,0,0,0,1,0,3,2,0,1,0,1,0,2,0,2,0,2,1,0,0,0,1,3,0,0,1,1,2,1,0,0,0,0,1,1,1,1,2,1,0,2,1,1,1,0,0,0,0,0,1,2,1,2,2,1,2,1,0,0,2,0,1,3,1,1,1,2,1,0,0,1,0,1,0,1,2,1,1,0,2,0,1,2,1,1,3,0,1,1,2,1,1,1,1,2,0,1,0,0,0,1,0,2,1,0,0,1,2,0,1,2,2,1,1,0,0,2,0,1,0,2,1,0,0,0,0,0,1,1,0,0,2,0,1,1,0,0,0,2,0,0,0,1,0,0,0,0,0,0,1,1,1,0,0,0,1,2,0,0,1,1,0,1,1,2,2,0,2,0,1,0,0,0,2,3,0,1,1,0,1,1,1,0,2,1,0,0,0,1,0,1,0,1,0,0,2,1,0,0,1,2,0,2,1,0,3,3,0,0,2,0,1,0,1,2,0,1,1,1,1,1,1,1,1,0,1,1,1,1,0,0,0,0,2,0,1,1,1,2,1,2,1,2,1,1,2,2,2,1,2,2,1,2,2,2,2,2,1,1,0,1,1,1,1,1,0,0,2,0,2,0,2,1,2,0,1,0,1,0,1,1,0,0,0,1,0,1,0,2,1,1,1,1,2,0,0,0,0,1,1,0,0,0,0,1,1,0,3,1,1,1,0,0,1,1,0,1,0,0,1,1,1,1,2,1,0,2,0,1,2,0,1,0,0,1,0,0,3,0,0,0,2,0,1,2,0,1,1,0,3,1,1,2,2,1,2,1,0,0,1,0,0,1,1,2,1,2,1,2,2,2,2,2,1,1,1,1,2,2,2,1,1,2,1,2,2,2,2,2,2,2,2,2,1,1,2,2,2,2,2,1,2,1,1,2,2,1,2,1,2,2,2,1,2,1,2,2,2,1,2,1,0,0,1,0,0,1,0,2,0,1,0,0,0,1,1,1,1,1,0,1,0,0,1,2,1,0,2,2,1,0,1,0,0,1,1,0,0,1,0,0,1,1,2,1,1,0,1,1,0,0,1,0,1,0,0,0,0,0,0,1,1,0,1,1,0,0,0,0,1,0,1,1,2,0,1,0,0,1,0,1,0,1,1,1,3,1,0,1,0,2,3,1,3,1,3,1,3,1,1,1,0,1,0,1,2,2,0,1,0,1,0,1,1,1,0,0,0,1,1,0,0,1,2,0,1,0,0,2,1,0,1,1,0,1,0,2,0,2,1,1,0,1,0,0,2,0,1,2,0,0,0,1,0,1,1,1,1,0,0,0,0,0,0,0,1,1,0,2,2,0,1,1,1,0,1,1,2,0,3,0,0,0,2,0,1,0,1,2,1,0,1,0,0,0,1,1,0,0,1,2,0,0,0,1,0,0,2,0,0,1,1,1,0,0,0,1,1,2,0,1,0,0,2,3,1,0,1,0,1,0,0,1,0,0,1,3,0,1,0,1,1,1,1,0,1,0,1,1,1,0,0,1,0,1,1,0,1,1,1,1,1,0,0,2,0,0,1,1,1,0,1,0,0,2,0,2,2,2,1,1,0,0,0,1,1,3,1,0,1,1,1,1,0,1,3,1,0,3,1,1,1,1,2,0,0,0,1,1,1,1,1,2,1,0,0,1,1,2,0,0,0,0,0,0,1,1,2,0,3,2,1,2,2,0,0,1,2,0,2,1,0,2,2,0,3,1,0,0,0,1,1,0,1,2,1,0,1,1,0,0,0,2,0,3,1,1,0,1,1,0,2,0,0,0,0,1,0,1,1,1,1,2,1,0,1,3,0,0,0,1,2,1,1,3,0,0,3,0,3,1,2,1,0,1,2,0,1,0,1,0,1,0,0,1,3,1,1,0,1,1,1,1,1,0,0,0,2,0,1,0,0,0,3,2,1,1,0,0,1,0,0,2,1,1,0,0,2,1,1,1,0,0,2,1,0,0,1,3,1,1,2,1,1,1,0,1,1,0,0,0,0,1,0,0,0,1,0,1,0,0,1,1,2,1,2,2,0,0,3,0,1,2,2,0,2,0,0,1,3,0,3,1,0,2,0,0,0,1,0,2,1,0,2,0,0,1,3,0,1,0,1,0,2,0,1,0,0,0,1,3,3,3,0,1,1,0,1,0,1,0,1,0,0,0,1,3,1,0,1,1,1,2,1,2,2,1,1,0,2,1,0,0,1,2,1,0,0,0,0,1,1,3,1,1,1,1,1,1,1,1,1,3,2,0,0,2,0,0,1,1,0,0,0,0,1,1,0,1,0,1],\"yaxis\":\"y\",\"type\":\"scattergl\"}],                        {\"template\":{\"data\":{\"histogram2dcontour\":[{\"type\":\"histogram2dcontour\",\"colorbar\":{\"outlinewidth\":0,\"ticks\":\"\"},\"colorscale\":[[0.0,\"#0d0887\"],[0.1111111111111111,\"#46039f\"],[0.2222222222222222,\"#7201a8\"],[0.3333333333333333,\"#9c179e\"],[0.4444444444444444,\"#bd3786\"],[0.5555555555555556,\"#d8576b\"],[0.6666666666666666,\"#ed7953\"],[0.7777777777777778,\"#fb9f3a\"],[0.8888888888888888,\"#fdca26\"],[1.0,\"#f0f921\"]]}],\"choropleth\":[{\"type\":\"choropleth\",\"colorbar\":{\"outlinewidth\":0,\"ticks\":\"\"}}],\"histogram2d\":[{\"type\":\"histogram2d\",\"colorbar\":{\"outlinewidth\":0,\"ticks\":\"\"},\"colorscale\":[[0.0,\"#0d0887\"],[0.1111111111111111,\"#46039f\"],[0.2222222222222222,\"#7201a8\"],[0.3333333333333333,\"#9c179e\"],[0.4444444444444444,\"#bd3786\"],[0.5555555555555556,\"#d8576b\"],[0.6666666666666666,\"#ed7953\"],[0.7777777777777778,\"#fb9f3a\"],[0.8888888888888888,\"#fdca26\"],[1.0,\"#f0f921\"]]}],\"heatmap\":[{\"type\":\"heatmap\",\"colorbar\":{\"outlinewidth\":0,\"ticks\":\"\"},\"colorscale\":[[0.0,\"#0d0887\"],[0.1111111111111111,\"#46039f\"],[0.2222222222222222,\"#7201a8\"],[0.3333333333333333,\"#9c179e\"],[0.4444444444444444,\"#bd3786\"],[0.5555555555555556,\"#d8576b\"],[0.6666666666666666,\"#ed7953\"],[0.7777777777777778,\"#fb9f3a\"],[0.8888888888888888,\"#fdca26\"],[1.0,\"#f0f921\"]]}],\"heatmapgl\":[{\"type\":\"heatmapgl\",\"colorbar\":{\"outlinewidth\":0,\"ticks\":\"\"},\"colorscale\":[[0.0,\"#0d0887\"],[0.1111111111111111,\"#46039f\"],[0.2222222222222222,\"#7201a8\"],[0.3333333333333333,\"#9c179e\"],[0.4444444444444444,\"#bd3786\"],[0.5555555555555556,\"#d8576b\"],[0.6666666666666666,\"#ed7953\"],[0.7777777777777778,\"#fb9f3a\"],[0.8888888888888888,\"#fdca26\"],[1.0,\"#f0f921\"]]}],\"contourcarpet\":[{\"type\":\"contourcarpet\",\"colorbar\":{\"outlinewidth\":0,\"ticks\":\"\"}}],\"contour\":[{\"type\":\"contour\",\"colorbar\":{\"outlinewidth\":0,\"ticks\":\"\"},\"colorscale\":[[0.0,\"#0d0887\"],[0.1111111111111111,\"#46039f\"],[0.2222222222222222,\"#7201a8\"],[0.3333333333333333,\"#9c179e\"],[0.4444444444444444,\"#bd3786\"],[0.5555555555555556,\"#d8576b\"],[0.6666666666666666,\"#ed7953\"],[0.7777777777777778,\"#fb9f3a\"],[0.8888888888888888,\"#fdca26\"],[1.0,\"#f0f921\"]]}],\"surface\":[{\"type\":\"surface\",\"colorbar\":{\"outlinewidth\":0,\"ticks\":\"\"},\"colorscale\":[[0.0,\"#0d0887\"],[0.1111111111111111,\"#46039f\"],[0.2222222222222222,\"#7201a8\"],[0.3333333333333333,\"#9c179e\"],[0.4444444444444444,\"#bd3786\"],[0.5555555555555556,\"#d8576b\"],[0.6666666666666666,\"#ed7953\"],[0.7777777777777778,\"#fb9f3a\"],[0.8888888888888888,\"#fdca26\"],[1.0,\"#f0f921\"]]}],\"mesh3d\":[{\"type\":\"mesh3d\",\"colorbar\":{\"outlinewidth\":0,\"ticks\":\"\"}}],\"scatter\":[{\"fillpattern\":{\"fillmode\":\"overlay\",\"size\":10,\"solidity\":0.2},\"type\":\"scatter\"}],\"parcoords\":[{\"type\":\"parcoords\",\"line\":{\"colorbar\":{\"outlinewidth\":0,\"ticks\":\"\"}}}],\"scatterpolargl\":[{\"type\":\"scatterpolargl\",\"marker\":{\"colorbar\":{\"outlinewidth\":0,\"ticks\":\"\"}}}],\"bar\":[{\"error_x\":{\"color\":\"#2a3f5f\"},\"error_y\":{\"color\":\"#2a3f5f\"},\"marker\":{\"line\":{\"color\":\"#E5ECF6\",\"width\":0.5},\"pattern\":{\"fillmode\":\"overlay\",\"size\":10,\"solidity\":0.2}},\"type\":\"bar\"}],\"scattergeo\":[{\"type\":\"scattergeo\",\"marker\":{\"colorbar\":{\"outlinewidth\":0,\"ticks\":\"\"}}}],\"scatterpolar\":[{\"type\":\"scatterpolar\",\"marker\":{\"colorbar\":{\"outlinewidth\":0,\"ticks\":\"\"}}}],\"histogram\":[{\"marker\":{\"pattern\":{\"fillmode\":\"overlay\",\"size\":10,\"solidity\":0.2}},\"type\":\"histogram\"}],\"scattergl\":[{\"type\":\"scattergl\",\"marker\":{\"colorbar\":{\"outlinewidth\":0,\"ticks\":\"\"}}}],\"scatter3d\":[{\"type\":\"scatter3d\",\"line\":{\"colorbar\":{\"outlinewidth\":0,\"ticks\":\"\"}},\"marker\":{\"colorbar\":{\"outlinewidth\":0,\"ticks\":\"\"}}}],\"scattermapbox\":[{\"type\":\"scattermapbox\",\"marker\":{\"colorbar\":{\"outlinewidth\":0,\"ticks\":\"\"}}}],\"scatterternary\":[{\"type\":\"scatterternary\",\"marker\":{\"colorbar\":{\"outlinewidth\":0,\"ticks\":\"\"}}}],\"scattercarpet\":[{\"type\":\"scattercarpet\",\"marker\":{\"colorbar\":{\"outlinewidth\":0,\"ticks\":\"\"}}}],\"carpet\":[{\"aaxis\":{\"endlinecolor\":\"#2a3f5f\",\"gridcolor\":\"white\",\"linecolor\":\"white\",\"minorgridcolor\":\"white\",\"startlinecolor\":\"#2a3f5f\"},\"baxis\":{\"endlinecolor\":\"#2a3f5f\",\"gridcolor\":\"white\",\"linecolor\":\"white\",\"minorgridcolor\":\"white\",\"startlinecolor\":\"#2a3f5f\"},\"type\":\"carpet\"}],\"table\":[{\"cells\":{\"fill\":{\"color\":\"#EBF0F8\"},\"line\":{\"color\":\"white\"}},\"header\":{\"fill\":{\"color\":\"#C8D4E3\"},\"line\":{\"color\":\"white\"}},\"type\":\"table\"}],\"barpolar\":[{\"marker\":{\"line\":{\"color\":\"#E5ECF6\",\"width\":0.5},\"pattern\":{\"fillmode\":\"overlay\",\"size\":10,\"solidity\":0.2}},\"type\":\"barpolar\"}],\"pie\":[{\"automargin\":true,\"type\":\"pie\"}]},\"layout\":{\"autotypenumbers\":\"strict\",\"colorway\":[\"#636efa\",\"#EF553B\",\"#00cc96\",\"#ab63fa\",\"#FFA15A\",\"#19d3f3\",\"#FF6692\",\"#B6E880\",\"#FF97FF\",\"#FECB52\"],\"font\":{\"color\":\"#2a3f5f\"},\"hovermode\":\"closest\",\"hoverlabel\":{\"align\":\"left\"},\"paper_bgcolor\":\"white\",\"plot_bgcolor\":\"#E5ECF6\",\"polar\":{\"bgcolor\":\"#E5ECF6\",\"angularaxis\":{\"gridcolor\":\"white\",\"linecolor\":\"white\",\"ticks\":\"\"},\"radialaxis\":{\"gridcolor\":\"white\",\"linecolor\":\"white\",\"ticks\":\"\"}},\"ternary\":{\"bgcolor\":\"#E5ECF6\",\"aaxis\":{\"gridcolor\":\"white\",\"linecolor\":\"white\",\"ticks\":\"\"},\"baxis\":{\"gridcolor\":\"white\",\"linecolor\":\"white\",\"ticks\":\"\"},\"caxis\":{\"gridcolor\":\"white\",\"linecolor\":\"white\",\"ticks\":\"\"}},\"coloraxis\":{\"colorbar\":{\"outlinewidth\":0,\"ticks\":\"\"}},\"colorscale\":{\"sequential\":[[0.0,\"#0d0887\"],[0.1111111111111111,\"#46039f\"],[0.2222222222222222,\"#7201a8\"],[0.3333333333333333,\"#9c179e\"],[0.4444444444444444,\"#bd3786\"],[0.5555555555555556,\"#d8576b\"],[0.6666666666666666,\"#ed7953\"],[0.7777777777777778,\"#fb9f3a\"],[0.8888888888888888,\"#fdca26\"],[1.0,\"#f0f921\"]],\"sequentialminus\":[[0.0,\"#0d0887\"],[0.1111111111111111,\"#46039f\"],[0.2222222222222222,\"#7201a8\"],[0.3333333333333333,\"#9c179e\"],[0.4444444444444444,\"#bd3786\"],[0.5555555555555556,\"#d8576b\"],[0.6666666666666666,\"#ed7953\"],[0.7777777777777778,\"#fb9f3a\"],[0.8888888888888888,\"#fdca26\"],[1.0,\"#f0f921\"]],\"diverging\":[[0,\"#8e0152\"],[0.1,\"#c51b7d\"],[0.2,\"#de77ae\"],[0.3,\"#f1b6da\"],[0.4,\"#fde0ef\"],[0.5,\"#f7f7f7\"],[0.6,\"#e6f5d0\"],[0.7,\"#b8e186\"],[0.8,\"#7fbc41\"],[0.9,\"#4d9221\"],[1,\"#276419\"]]},\"xaxis\":{\"gridcolor\":\"white\",\"linecolor\":\"white\",\"ticks\":\"\",\"title\":{\"standoff\":15},\"zerolinecolor\":\"white\",\"automargin\":true,\"zerolinewidth\":2},\"yaxis\":{\"gridcolor\":\"white\",\"linecolor\":\"white\",\"ticks\":\"\",\"title\":{\"standoff\":15},\"zerolinecolor\":\"white\",\"automargin\":true,\"zerolinewidth\":2},\"scene\":{\"xaxis\":{\"backgroundcolor\":\"#E5ECF6\",\"gridcolor\":\"white\",\"linecolor\":\"white\",\"showbackground\":true,\"ticks\":\"\",\"zerolinecolor\":\"white\",\"gridwidth\":2},\"yaxis\":{\"backgroundcolor\":\"#E5ECF6\",\"gridcolor\":\"white\",\"linecolor\":\"white\",\"showbackground\":true,\"ticks\":\"\",\"zerolinecolor\":\"white\",\"gridwidth\":2},\"zaxis\":{\"backgroundcolor\":\"#E5ECF6\",\"gridcolor\":\"white\",\"linecolor\":\"white\",\"showbackground\":true,\"ticks\":\"\",\"zerolinecolor\":\"white\",\"gridwidth\":2}},\"shapedefaults\":{\"line\":{\"color\":\"#2a3f5f\"}},\"annotationdefaults\":{\"arrowcolor\":\"#2a3f5f\",\"arrowhead\":0,\"arrowwidth\":1},\"geo\":{\"bgcolor\":\"white\",\"landcolor\":\"#E5ECF6\",\"subunitcolor\":\"white\",\"showland\":true,\"showlakes\":true,\"lakecolor\":\"white\"},\"title\":{\"x\":0.05},\"mapbox\":{\"style\":\"light\"}}},\"xaxis\":{\"anchor\":\"y\",\"domain\":[0.0,1.0],\"title\":{\"text\":\"CGPA\"}},\"yaxis\":{\"anchor\":\"x\",\"domain\":[0.0,1.0],\"title\":{\"text\":\"Internships\"}},\"coloraxis\":{\"colorbar\":{\"title\":{\"text\":\"PlacedOrNot\"}},\"colorscale\":[[0.0,\"#0d0887\"],[0.1111111111111111,\"#46039f\"],[0.2222222222222222,\"#7201a8\"],[0.3333333333333333,\"#9c179e\"],[0.4444444444444444,\"#bd3786\"],[0.5555555555555556,\"#d8576b\"],[0.6666666666666666,\"#ed7953\"],[0.7777777777777778,\"#fb9f3a\"],[0.8888888888888888,\"#fdca26\"],[1.0,\"#f0f921\"]]},\"legend\":{\"tracegroupgap\":0},\"margin\":{\"t\":60}},                        {\"responsive\": true}                    )                };                            </script>        </div>\n",
              "</body>\n",
              "</html>"
            ]
          },
          "metadata": {},
          "execution_count": 14
        }
      ]
    },
    {
      "cell_type": "markdown",
      "source": [
        "**COUNT OF PLACED AND NOT**"
      ],
      "metadata": {
        "id": "TWpN6rKTkaEq"
      }
    },
    {
      "cell_type": "code",
      "source": [
        "fig = px.histogram(df, x='PlacedOrNot', color='PlacedOrNot', barmode='group')\n",
        "HTML(fig.to_html(include_plotlyjs='cdn'))"
      ],
      "metadata": {
        "colab": {
          "base_uri": "https://localhost:8080/",
          "height": 467
        },
        "id": "5oMtnX7lkSbU",
        "outputId": "d37d07e8-c58f-40d2-d36b-6572c2f06ba2"
      },
      "execution_count": 15,
      "outputs": [
        {
          "output_type": "execute_result",
          "data": {
            "text/plain": [
              "<IPython.core.display.HTML object>"
            ],
            "text/html": [
              "<html>\n",
              "<head><meta charset=\"utf-8\" /></head>\n",
              "<body>\n",
              "    <div>                        <script type=\"text/javascript\">window.PlotlyConfig = {MathJaxConfig: 'local'};</script>\n",
              "        <script charset=\"utf-8\" src=\"https://cdn.plot.ly/plotly-2.35.2.min.js\"></script>                <div id=\"91d9aeee-7738-4711-8253-183cbe976c5c\" class=\"plotly-graph-div\" style=\"height:100%; width:100%;\"></div>            <script type=\"text/javascript\">                                    window.PLOTLYENV=window.PLOTLYENV || {};                                    if (document.getElementById(\"91d9aeee-7738-4711-8253-183cbe976c5c\")) {                    Plotly.newPlot(                        \"91d9aeee-7738-4711-8253-183cbe976c5c\",                        [{\"alignmentgroup\":\"True\",\"bingroup\":\"x\",\"hovertemplate\":\"PlacedOrNot=%{x}\\u003cbr\\u003ecount=%{y}\\u003cextra\\u003e\\u003c\\u002fextra\\u003e\",\"legendgroup\":\"1\",\"marker\":{\"color\":\"#636efa\",\"pattern\":{\"shape\":\"\"}},\"name\":\"1\",\"offsetgroup\":\"1\",\"orientation\":\"v\",\"showlegend\":true,\"x\":[1,1,1,1,1,1,1,1,1,1,1,1,1,1,1,1,1,1,1,1,1,1,1,1,1,1,1,1,1,1,1,1,1,1,1,1,1,1,1,1,1,1,1,1,1,1,1,1,1,1,1,1,1,1,1,1,1,1,1,1,1,1,1,1,1,1,1,1,1,1,1,1,1,1,1,1,1,1,1,1,1,1,1,1,1,1,1,1,1,1,1,1,1,1,1,1,1,1,1,1,1,1,1,1,1,1,1,1,1,1,1,1,1,1,1,1,1,1,1,1,1,1,1,1,1,1,1,1,1,1,1,1,1,1,1,1,1,1,1,1,1,1,1,1,1,1,1,1,1,1,1,1,1,1,1,1,1,1,1,1,1,1,1,1,1,1,1,1,1,1,1,1,1,1,1,1,1,1,1,1,1,1,1,1,1,1,1,1,1,1,1,1,1,1,1,1,1,1,1,1,1,1,1,1,1,1,1,1,1,1,1,1,1,1,1,1,1,1,1,1,1,1,1,1,1,1,1,1,1,1,1,1,1,1,1,1,1,1,1,1,1,1,1,1,1,1,1,1,1,1,1,1,1,1,1,1,1,1,1,1,1,1,1,1,1,1,1,1,1,1,1,1,1,1,1,1,1,1,1,1,1,1,1,1,1,1,1,1,1,1,1,1,1,1,1,1,1,1,1,1,1,1,1,1,1,1,1,1,1,1,1,1,1,1,1,1,1,1,1,1,1,1,1,1,1,1,1,1,1,1,1,1,1,1,1,1,1,1,1,1,1,1,1,1,1,1,1,1,1,1,1,1,1,1,1,1,1,1,1,1,1,1,1,1,1,1,1,1,1,1,1,1,1,1,1,1,1,1,1,1,1,1,1,1,1,1,1,1,1,1,1,1,1,1,1,1,1,1,1,1,1,1,1,1,1,1,1,1,1,1,1,1,1,1,1,1,1,1,1,1,1,1,1,1,1,1,1,1,1,1,1,1,1,1,1,1,1,1,1,1,1,1,1,1,1,1,1,1,1,1,1,1,1,1,1,1,1,1,1,1,1,1,1,1,1,1,1,1,1,1,1,1,1,1,1,1,1,1,1,1,1,1,1,1,1,1,1,1,1,1,1,1,1,1,1,1,1,1,1,1,1,1,1,1,1,1,1,1,1,1,1,1,1,1,1,1,1,1,1,1,1,1,1,1,1,1,1,1,1,1,1,1,1,1,1,1,1,1,1,1,1,1,1,1,1,1,1,1,1,1,1,1,1,1,1,1,1,1,1,1,1,1,1,1,1,1,1,1,1,1,1,1,1,1,1,1,1,1,1,1,1,1,1,1,1,1,1,1,1,1,1,1,1,1,1,1,1,1,1,1,1,1,1,1,1,1,1,1,1,1,1,1,1,1,1,1,1,1,1,1,1,1,1,1,1,1,1,1,1,1,1,1,1,1,1,1,1,1,1,1,1,1,1,1,1,1,1,1,1,1,1,1,1,1,1,1,1,1,1],\"xaxis\":\"x\",\"yaxis\":\"y\",\"type\":\"histogram\"},{\"alignmentgroup\":\"True\",\"bingroup\":\"x\",\"hovertemplate\":\"PlacedOrNot=%{x}\\u003cbr\\u003ecount=%{y}\\u003cextra\\u003e\\u003c\\u002fextra\\u003e\",\"legendgroup\":\"0\",\"marker\":{\"color\":\"#EF553B\",\"pattern\":{\"shape\":\"\"}},\"name\":\"0\",\"offsetgroup\":\"0\",\"orientation\":\"v\",\"showlegend\":true,\"x\":[0,0,0,0,0,0,0,0,0,0,0,0,0,0,0,0,0,0,0,0,0,0,0,0,0,0,0,0,0,0,0,0,0,0,0,0,0,0,0,0,0,0,0,0,0,0,0,0,0,0,0,0,0,0,0,0,0,0,0,0,0,0,0,0,0,0,0,0,0,0,0,0,0,0,0,0,0,0,0,0,0,0,0,0,0,0,0,0,0,0,0,0,0,0,0,0,0,0,0,0,0,0,0,0,0,0,0,0,0,0,0,0,0,0,0,0,0,0,0,0,0,0,0,0,0,0,0,0,0,0,0,0,0,0,0,0,0,0,0,0,0,0,0,0,0,0,0,0,0,0,0,0,0,0,0,0,0,0,0,0,0,0,0,0,0,0,0,0,0,0,0,0,0,0,0,0,0,0,0,0,0,0,0,0,0,0,0,0,0,0,0,0,0,0,0,0,0,0,0,0,0,0,0,0,0,0,0,0,0,0,0,0,0,0,0,0,0,0,0,0,0,0,0,0,0,0,0,0,0,0,0,0,0,0,0,0,0,0,0,0,0,0,0,0,0,0,0,0,0,0,0,0,0,0,0,0,0,0,0,0,0,0,0,0,0,0,0,0,0,0,0,0,0,0,0,0,0,0,0,0,0,0,0,0,0,0,0,0,0,0,0,0,0,0,0,0,0,0,0,0,0,0,0,0,0,0,0,0,0,0,0,0,0,0,0,0,0,0,0,0,0,0,0,0,0,0,0,0,0,0,0,0,0,0,0,0,0,0,0,0,0,0,0,0,0,0,0,0,0,0,0,0,0,0,0,0,0,0,0,0,0,0,0,0,0,0,0,0,0,0,0,0,0,0,0,0,0,0,0,0,0,0,0,0,0,0,0,0,0,0,0,0,0,0,0,0,0,0,0,0,0,0,0,0,0,0,0,0,0,0,0,0,0,0,0,0,0,0,0,0,0,0,0,0,0,0,0,0,0,0,0,0,0,0,0,0,0,0,0,0,0,0,0,0,0,0,0,0,0,0,0,0,0,0,0,0,0,0,0,0,0,0,0,0,0,0,0,0,0,0,0,0,0,0,0,0,0,0],\"xaxis\":\"x\",\"yaxis\":\"y\",\"type\":\"histogram\"}],                        {\"template\":{\"data\":{\"histogram2dcontour\":[{\"type\":\"histogram2dcontour\",\"colorbar\":{\"outlinewidth\":0,\"ticks\":\"\"},\"colorscale\":[[0.0,\"#0d0887\"],[0.1111111111111111,\"#46039f\"],[0.2222222222222222,\"#7201a8\"],[0.3333333333333333,\"#9c179e\"],[0.4444444444444444,\"#bd3786\"],[0.5555555555555556,\"#d8576b\"],[0.6666666666666666,\"#ed7953\"],[0.7777777777777778,\"#fb9f3a\"],[0.8888888888888888,\"#fdca26\"],[1.0,\"#f0f921\"]]}],\"choropleth\":[{\"type\":\"choropleth\",\"colorbar\":{\"outlinewidth\":0,\"ticks\":\"\"}}],\"histogram2d\":[{\"type\":\"histogram2d\",\"colorbar\":{\"outlinewidth\":0,\"ticks\":\"\"},\"colorscale\":[[0.0,\"#0d0887\"],[0.1111111111111111,\"#46039f\"],[0.2222222222222222,\"#7201a8\"],[0.3333333333333333,\"#9c179e\"],[0.4444444444444444,\"#bd3786\"],[0.5555555555555556,\"#d8576b\"],[0.6666666666666666,\"#ed7953\"],[0.7777777777777778,\"#fb9f3a\"],[0.8888888888888888,\"#fdca26\"],[1.0,\"#f0f921\"]]}],\"heatmap\":[{\"type\":\"heatmap\",\"colorbar\":{\"outlinewidth\":0,\"ticks\":\"\"},\"colorscale\":[[0.0,\"#0d0887\"],[0.1111111111111111,\"#46039f\"],[0.2222222222222222,\"#7201a8\"],[0.3333333333333333,\"#9c179e\"],[0.4444444444444444,\"#bd3786\"],[0.5555555555555556,\"#d8576b\"],[0.6666666666666666,\"#ed7953\"],[0.7777777777777778,\"#fb9f3a\"],[0.8888888888888888,\"#fdca26\"],[1.0,\"#f0f921\"]]}],\"heatmapgl\":[{\"type\":\"heatmapgl\",\"colorbar\":{\"outlinewidth\":0,\"ticks\":\"\"},\"colorscale\":[[0.0,\"#0d0887\"],[0.1111111111111111,\"#46039f\"],[0.2222222222222222,\"#7201a8\"],[0.3333333333333333,\"#9c179e\"],[0.4444444444444444,\"#bd3786\"],[0.5555555555555556,\"#d8576b\"],[0.6666666666666666,\"#ed7953\"],[0.7777777777777778,\"#fb9f3a\"],[0.8888888888888888,\"#fdca26\"],[1.0,\"#f0f921\"]]}],\"contourcarpet\":[{\"type\":\"contourcarpet\",\"colorbar\":{\"outlinewidth\":0,\"ticks\":\"\"}}],\"contour\":[{\"type\":\"contour\",\"colorbar\":{\"outlinewidth\":0,\"ticks\":\"\"},\"colorscale\":[[0.0,\"#0d0887\"],[0.1111111111111111,\"#46039f\"],[0.2222222222222222,\"#7201a8\"],[0.3333333333333333,\"#9c179e\"],[0.4444444444444444,\"#bd3786\"],[0.5555555555555556,\"#d8576b\"],[0.6666666666666666,\"#ed7953\"],[0.7777777777777778,\"#fb9f3a\"],[0.8888888888888888,\"#fdca26\"],[1.0,\"#f0f921\"]]}],\"surface\":[{\"type\":\"surface\",\"colorbar\":{\"outlinewidth\":0,\"ticks\":\"\"},\"colorscale\":[[0.0,\"#0d0887\"],[0.1111111111111111,\"#46039f\"],[0.2222222222222222,\"#7201a8\"],[0.3333333333333333,\"#9c179e\"],[0.4444444444444444,\"#bd3786\"],[0.5555555555555556,\"#d8576b\"],[0.6666666666666666,\"#ed7953\"],[0.7777777777777778,\"#fb9f3a\"],[0.8888888888888888,\"#fdca26\"],[1.0,\"#f0f921\"]]}],\"mesh3d\":[{\"type\":\"mesh3d\",\"colorbar\":{\"outlinewidth\":0,\"ticks\":\"\"}}],\"scatter\":[{\"fillpattern\":{\"fillmode\":\"overlay\",\"size\":10,\"solidity\":0.2},\"type\":\"scatter\"}],\"parcoords\":[{\"type\":\"parcoords\",\"line\":{\"colorbar\":{\"outlinewidth\":0,\"ticks\":\"\"}}}],\"scatterpolargl\":[{\"type\":\"scatterpolargl\",\"marker\":{\"colorbar\":{\"outlinewidth\":0,\"ticks\":\"\"}}}],\"bar\":[{\"error_x\":{\"color\":\"#2a3f5f\"},\"error_y\":{\"color\":\"#2a3f5f\"},\"marker\":{\"line\":{\"color\":\"#E5ECF6\",\"width\":0.5},\"pattern\":{\"fillmode\":\"overlay\",\"size\":10,\"solidity\":0.2}},\"type\":\"bar\"}],\"scattergeo\":[{\"type\":\"scattergeo\",\"marker\":{\"colorbar\":{\"outlinewidth\":0,\"ticks\":\"\"}}}],\"scatterpolar\":[{\"type\":\"scatterpolar\",\"marker\":{\"colorbar\":{\"outlinewidth\":0,\"ticks\":\"\"}}}],\"histogram\":[{\"marker\":{\"pattern\":{\"fillmode\":\"overlay\",\"size\":10,\"solidity\":0.2}},\"type\":\"histogram\"}],\"scattergl\":[{\"type\":\"scattergl\",\"marker\":{\"colorbar\":{\"outlinewidth\":0,\"ticks\":\"\"}}}],\"scatter3d\":[{\"type\":\"scatter3d\",\"line\":{\"colorbar\":{\"outlinewidth\":0,\"ticks\":\"\"}},\"marker\":{\"colorbar\":{\"outlinewidth\":0,\"ticks\":\"\"}}}],\"scattermapbox\":[{\"type\":\"scattermapbox\",\"marker\":{\"colorbar\":{\"outlinewidth\":0,\"ticks\":\"\"}}}],\"scatterternary\":[{\"type\":\"scatterternary\",\"marker\":{\"colorbar\":{\"outlinewidth\":0,\"ticks\":\"\"}}}],\"scattercarpet\":[{\"type\":\"scattercarpet\",\"marker\":{\"colorbar\":{\"outlinewidth\":0,\"ticks\":\"\"}}}],\"carpet\":[{\"aaxis\":{\"endlinecolor\":\"#2a3f5f\",\"gridcolor\":\"white\",\"linecolor\":\"white\",\"minorgridcolor\":\"white\",\"startlinecolor\":\"#2a3f5f\"},\"baxis\":{\"endlinecolor\":\"#2a3f5f\",\"gridcolor\":\"white\",\"linecolor\":\"white\",\"minorgridcolor\":\"white\",\"startlinecolor\":\"#2a3f5f\"},\"type\":\"carpet\"}],\"table\":[{\"cells\":{\"fill\":{\"color\":\"#EBF0F8\"},\"line\":{\"color\":\"white\"}},\"header\":{\"fill\":{\"color\":\"#C8D4E3\"},\"line\":{\"color\":\"white\"}},\"type\":\"table\"}],\"barpolar\":[{\"marker\":{\"line\":{\"color\":\"#E5ECF6\",\"width\":0.5},\"pattern\":{\"fillmode\":\"overlay\",\"size\":10,\"solidity\":0.2}},\"type\":\"barpolar\"}],\"pie\":[{\"automargin\":true,\"type\":\"pie\"}]},\"layout\":{\"autotypenumbers\":\"strict\",\"colorway\":[\"#636efa\",\"#EF553B\",\"#00cc96\",\"#ab63fa\",\"#FFA15A\",\"#19d3f3\",\"#FF6692\",\"#B6E880\",\"#FF97FF\",\"#FECB52\"],\"font\":{\"color\":\"#2a3f5f\"},\"hovermode\":\"closest\",\"hoverlabel\":{\"align\":\"left\"},\"paper_bgcolor\":\"white\",\"plot_bgcolor\":\"#E5ECF6\",\"polar\":{\"bgcolor\":\"#E5ECF6\",\"angularaxis\":{\"gridcolor\":\"white\",\"linecolor\":\"white\",\"ticks\":\"\"},\"radialaxis\":{\"gridcolor\":\"white\",\"linecolor\":\"white\",\"ticks\":\"\"}},\"ternary\":{\"bgcolor\":\"#E5ECF6\",\"aaxis\":{\"gridcolor\":\"white\",\"linecolor\":\"white\",\"ticks\":\"\"},\"baxis\":{\"gridcolor\":\"white\",\"linecolor\":\"white\",\"ticks\":\"\"},\"caxis\":{\"gridcolor\":\"white\",\"linecolor\":\"white\",\"ticks\":\"\"}},\"coloraxis\":{\"colorbar\":{\"outlinewidth\":0,\"ticks\":\"\"}},\"colorscale\":{\"sequential\":[[0.0,\"#0d0887\"],[0.1111111111111111,\"#46039f\"],[0.2222222222222222,\"#7201a8\"],[0.3333333333333333,\"#9c179e\"],[0.4444444444444444,\"#bd3786\"],[0.5555555555555556,\"#d8576b\"],[0.6666666666666666,\"#ed7953\"],[0.7777777777777778,\"#fb9f3a\"],[0.8888888888888888,\"#fdca26\"],[1.0,\"#f0f921\"]],\"sequentialminus\":[[0.0,\"#0d0887\"],[0.1111111111111111,\"#46039f\"],[0.2222222222222222,\"#7201a8\"],[0.3333333333333333,\"#9c179e\"],[0.4444444444444444,\"#bd3786\"],[0.5555555555555556,\"#d8576b\"],[0.6666666666666666,\"#ed7953\"],[0.7777777777777778,\"#fb9f3a\"],[0.8888888888888888,\"#fdca26\"],[1.0,\"#f0f921\"]],\"diverging\":[[0,\"#8e0152\"],[0.1,\"#c51b7d\"],[0.2,\"#de77ae\"],[0.3,\"#f1b6da\"],[0.4,\"#fde0ef\"],[0.5,\"#f7f7f7\"],[0.6,\"#e6f5d0\"],[0.7,\"#b8e186\"],[0.8,\"#7fbc41\"],[0.9,\"#4d9221\"],[1,\"#276419\"]]},\"xaxis\":{\"gridcolor\":\"white\",\"linecolor\":\"white\",\"ticks\":\"\",\"title\":{\"standoff\":15},\"zerolinecolor\":\"white\",\"automargin\":true,\"zerolinewidth\":2},\"yaxis\":{\"gridcolor\":\"white\",\"linecolor\":\"white\",\"ticks\":\"\",\"title\":{\"standoff\":15},\"zerolinecolor\":\"white\",\"automargin\":true,\"zerolinewidth\":2},\"scene\":{\"xaxis\":{\"backgroundcolor\":\"#E5ECF6\",\"gridcolor\":\"white\",\"linecolor\":\"white\",\"showbackground\":true,\"ticks\":\"\",\"zerolinecolor\":\"white\",\"gridwidth\":2},\"yaxis\":{\"backgroundcolor\":\"#E5ECF6\",\"gridcolor\":\"white\",\"linecolor\":\"white\",\"showbackground\":true,\"ticks\":\"\",\"zerolinecolor\":\"white\",\"gridwidth\":2},\"zaxis\":{\"backgroundcolor\":\"#E5ECF6\",\"gridcolor\":\"white\",\"linecolor\":\"white\",\"showbackground\":true,\"ticks\":\"\",\"zerolinecolor\":\"white\",\"gridwidth\":2}},\"shapedefaults\":{\"line\":{\"color\":\"#2a3f5f\"}},\"annotationdefaults\":{\"arrowcolor\":\"#2a3f5f\",\"arrowhead\":0,\"arrowwidth\":1},\"geo\":{\"bgcolor\":\"white\",\"landcolor\":\"#E5ECF6\",\"subunitcolor\":\"white\",\"showland\":true,\"showlakes\":true,\"lakecolor\":\"white\"},\"title\":{\"x\":0.05},\"mapbox\":{\"style\":\"light\"}}},\"xaxis\":{\"anchor\":\"y\",\"domain\":[0.0,1.0],\"title\":{\"text\":\"PlacedOrNot\"},\"categoryorder\":\"array\",\"categoryarray\":[1,0]},\"yaxis\":{\"anchor\":\"x\",\"domain\":[0.0,1.0],\"title\":{\"text\":\"count\"}},\"legend\":{\"title\":{\"text\":\"PlacedOrNot\"},\"tracegroupgap\":0},\"margin\":{\"t\":60},\"barmode\":\"group\"},                        {\"responsive\": true}                    )                };                            </script>        </div>\n",
              "</body>\n",
              "</html>"
            ]
          },
          "metadata": {},
          "execution_count": 15
        }
      ]
    },
    {
      "cell_type": "code",
      "source": [
        "# Pie Chart\n",
        "fig = px.pie(df, values=df['PlacedOrNot'].value_counts().values, names=df['PlacedOrNot'].value_counts().index, title='Placed Vs Not Placed')\n",
        "HTML(fig.to_html(include_plotlyjs='cdn'))"
      ],
      "metadata": {
        "colab": {
          "base_uri": "https://localhost:8080/",
          "height": 467
        },
        "id": "KF9QWo5tkepN",
        "outputId": "830862bc-09da-4d9e-dc0b-9ecf54db7bd7"
      },
      "execution_count": 16,
      "outputs": [
        {
          "output_type": "execute_result",
          "data": {
            "text/plain": [
              "<IPython.core.display.HTML object>"
            ],
            "text/html": [
              "<html>\n",
              "<head><meta charset=\"utf-8\" /></head>\n",
              "<body>\n",
              "    <div>                        <script type=\"text/javascript\">window.PlotlyConfig = {MathJaxConfig: 'local'};</script>\n",
              "        <script charset=\"utf-8\" src=\"https://cdn.plot.ly/plotly-2.35.2.min.js\"></script>                <div id=\"f6aff584-eb4a-4c12-90e3-45e23dee4d82\" class=\"plotly-graph-div\" style=\"height:100%; width:100%;\"></div>            <script type=\"text/javascript\">                                    window.PLOTLYENV=window.PLOTLYENV || {};                                    if (document.getElementById(\"f6aff584-eb4a-4c12-90e3-45e23dee4d82\")) {                    Plotly.newPlot(                        \"f6aff584-eb4a-4c12-90e3-45e23dee4d82\",                        [{\"domain\":{\"x\":[0.0,1.0],\"y\":[0.0,1.0]},\"hovertemplate\":\"label=%{label}\\u003cbr\\u003evalue=%{value}\\u003cextra\\u003e\\u003c\\u002fextra\\u003e\",\"labels\":[1,0],\"legendgroup\":\"\",\"name\":\"\",\"showlegend\":true,\"values\":[659,478],\"type\":\"pie\"}],                        {\"template\":{\"data\":{\"histogram2dcontour\":[{\"type\":\"histogram2dcontour\",\"colorbar\":{\"outlinewidth\":0,\"ticks\":\"\"},\"colorscale\":[[0.0,\"#0d0887\"],[0.1111111111111111,\"#46039f\"],[0.2222222222222222,\"#7201a8\"],[0.3333333333333333,\"#9c179e\"],[0.4444444444444444,\"#bd3786\"],[0.5555555555555556,\"#d8576b\"],[0.6666666666666666,\"#ed7953\"],[0.7777777777777778,\"#fb9f3a\"],[0.8888888888888888,\"#fdca26\"],[1.0,\"#f0f921\"]]}],\"choropleth\":[{\"type\":\"choropleth\",\"colorbar\":{\"outlinewidth\":0,\"ticks\":\"\"}}],\"histogram2d\":[{\"type\":\"histogram2d\",\"colorbar\":{\"outlinewidth\":0,\"ticks\":\"\"},\"colorscale\":[[0.0,\"#0d0887\"],[0.1111111111111111,\"#46039f\"],[0.2222222222222222,\"#7201a8\"],[0.3333333333333333,\"#9c179e\"],[0.4444444444444444,\"#bd3786\"],[0.5555555555555556,\"#d8576b\"],[0.6666666666666666,\"#ed7953\"],[0.7777777777777778,\"#fb9f3a\"],[0.8888888888888888,\"#fdca26\"],[1.0,\"#f0f921\"]]}],\"heatmap\":[{\"type\":\"heatmap\",\"colorbar\":{\"outlinewidth\":0,\"ticks\":\"\"},\"colorscale\":[[0.0,\"#0d0887\"],[0.1111111111111111,\"#46039f\"],[0.2222222222222222,\"#7201a8\"],[0.3333333333333333,\"#9c179e\"],[0.4444444444444444,\"#bd3786\"],[0.5555555555555556,\"#d8576b\"],[0.6666666666666666,\"#ed7953\"],[0.7777777777777778,\"#fb9f3a\"],[0.8888888888888888,\"#fdca26\"],[1.0,\"#f0f921\"]]}],\"heatmapgl\":[{\"type\":\"heatmapgl\",\"colorbar\":{\"outlinewidth\":0,\"ticks\":\"\"},\"colorscale\":[[0.0,\"#0d0887\"],[0.1111111111111111,\"#46039f\"],[0.2222222222222222,\"#7201a8\"],[0.3333333333333333,\"#9c179e\"],[0.4444444444444444,\"#bd3786\"],[0.5555555555555556,\"#d8576b\"],[0.6666666666666666,\"#ed7953\"],[0.7777777777777778,\"#fb9f3a\"],[0.8888888888888888,\"#fdca26\"],[1.0,\"#f0f921\"]]}],\"contourcarpet\":[{\"type\":\"contourcarpet\",\"colorbar\":{\"outlinewidth\":0,\"ticks\":\"\"}}],\"contour\":[{\"type\":\"contour\",\"colorbar\":{\"outlinewidth\":0,\"ticks\":\"\"},\"colorscale\":[[0.0,\"#0d0887\"],[0.1111111111111111,\"#46039f\"],[0.2222222222222222,\"#7201a8\"],[0.3333333333333333,\"#9c179e\"],[0.4444444444444444,\"#bd3786\"],[0.5555555555555556,\"#d8576b\"],[0.6666666666666666,\"#ed7953\"],[0.7777777777777778,\"#fb9f3a\"],[0.8888888888888888,\"#fdca26\"],[1.0,\"#f0f921\"]]}],\"surface\":[{\"type\":\"surface\",\"colorbar\":{\"outlinewidth\":0,\"ticks\":\"\"},\"colorscale\":[[0.0,\"#0d0887\"],[0.1111111111111111,\"#46039f\"],[0.2222222222222222,\"#7201a8\"],[0.3333333333333333,\"#9c179e\"],[0.4444444444444444,\"#bd3786\"],[0.5555555555555556,\"#d8576b\"],[0.6666666666666666,\"#ed7953\"],[0.7777777777777778,\"#fb9f3a\"],[0.8888888888888888,\"#fdca26\"],[1.0,\"#f0f921\"]]}],\"mesh3d\":[{\"type\":\"mesh3d\",\"colorbar\":{\"outlinewidth\":0,\"ticks\":\"\"}}],\"scatter\":[{\"fillpattern\":{\"fillmode\":\"overlay\",\"size\":10,\"solidity\":0.2},\"type\":\"scatter\"}],\"parcoords\":[{\"type\":\"parcoords\",\"line\":{\"colorbar\":{\"outlinewidth\":0,\"ticks\":\"\"}}}],\"scatterpolargl\":[{\"type\":\"scatterpolargl\",\"marker\":{\"colorbar\":{\"outlinewidth\":0,\"ticks\":\"\"}}}],\"bar\":[{\"error_x\":{\"color\":\"#2a3f5f\"},\"error_y\":{\"color\":\"#2a3f5f\"},\"marker\":{\"line\":{\"color\":\"#E5ECF6\",\"width\":0.5},\"pattern\":{\"fillmode\":\"overlay\",\"size\":10,\"solidity\":0.2}},\"type\":\"bar\"}],\"scattergeo\":[{\"type\":\"scattergeo\",\"marker\":{\"colorbar\":{\"outlinewidth\":0,\"ticks\":\"\"}}}],\"scatterpolar\":[{\"type\":\"scatterpolar\",\"marker\":{\"colorbar\":{\"outlinewidth\":0,\"ticks\":\"\"}}}],\"histogram\":[{\"marker\":{\"pattern\":{\"fillmode\":\"overlay\",\"size\":10,\"solidity\":0.2}},\"type\":\"histogram\"}],\"scattergl\":[{\"type\":\"scattergl\",\"marker\":{\"colorbar\":{\"outlinewidth\":0,\"ticks\":\"\"}}}],\"scatter3d\":[{\"type\":\"scatter3d\",\"line\":{\"colorbar\":{\"outlinewidth\":0,\"ticks\":\"\"}},\"marker\":{\"colorbar\":{\"outlinewidth\":0,\"ticks\":\"\"}}}],\"scattermapbox\":[{\"type\":\"scattermapbox\",\"marker\":{\"colorbar\":{\"outlinewidth\":0,\"ticks\":\"\"}}}],\"scatterternary\":[{\"type\":\"scatterternary\",\"marker\":{\"colorbar\":{\"outlinewidth\":0,\"ticks\":\"\"}}}],\"scattercarpet\":[{\"type\":\"scattercarpet\",\"marker\":{\"colorbar\":{\"outlinewidth\":0,\"ticks\":\"\"}}}],\"carpet\":[{\"aaxis\":{\"endlinecolor\":\"#2a3f5f\",\"gridcolor\":\"white\",\"linecolor\":\"white\",\"minorgridcolor\":\"white\",\"startlinecolor\":\"#2a3f5f\"},\"baxis\":{\"endlinecolor\":\"#2a3f5f\",\"gridcolor\":\"white\",\"linecolor\":\"white\",\"minorgridcolor\":\"white\",\"startlinecolor\":\"#2a3f5f\"},\"type\":\"carpet\"}],\"table\":[{\"cells\":{\"fill\":{\"color\":\"#EBF0F8\"},\"line\":{\"color\":\"white\"}},\"header\":{\"fill\":{\"color\":\"#C8D4E3\"},\"line\":{\"color\":\"white\"}},\"type\":\"table\"}],\"barpolar\":[{\"marker\":{\"line\":{\"color\":\"#E5ECF6\",\"width\":0.5},\"pattern\":{\"fillmode\":\"overlay\",\"size\":10,\"solidity\":0.2}},\"type\":\"barpolar\"}],\"pie\":[{\"automargin\":true,\"type\":\"pie\"}]},\"layout\":{\"autotypenumbers\":\"strict\",\"colorway\":[\"#636efa\",\"#EF553B\",\"#00cc96\",\"#ab63fa\",\"#FFA15A\",\"#19d3f3\",\"#FF6692\",\"#B6E880\",\"#FF97FF\",\"#FECB52\"],\"font\":{\"color\":\"#2a3f5f\"},\"hovermode\":\"closest\",\"hoverlabel\":{\"align\":\"left\"},\"paper_bgcolor\":\"white\",\"plot_bgcolor\":\"#E5ECF6\",\"polar\":{\"bgcolor\":\"#E5ECF6\",\"angularaxis\":{\"gridcolor\":\"white\",\"linecolor\":\"white\",\"ticks\":\"\"},\"radialaxis\":{\"gridcolor\":\"white\",\"linecolor\":\"white\",\"ticks\":\"\"}},\"ternary\":{\"bgcolor\":\"#E5ECF6\",\"aaxis\":{\"gridcolor\":\"white\",\"linecolor\":\"white\",\"ticks\":\"\"},\"baxis\":{\"gridcolor\":\"white\",\"linecolor\":\"white\",\"ticks\":\"\"},\"caxis\":{\"gridcolor\":\"white\",\"linecolor\":\"white\",\"ticks\":\"\"}},\"coloraxis\":{\"colorbar\":{\"outlinewidth\":0,\"ticks\":\"\"}},\"colorscale\":{\"sequential\":[[0.0,\"#0d0887\"],[0.1111111111111111,\"#46039f\"],[0.2222222222222222,\"#7201a8\"],[0.3333333333333333,\"#9c179e\"],[0.4444444444444444,\"#bd3786\"],[0.5555555555555556,\"#d8576b\"],[0.6666666666666666,\"#ed7953\"],[0.7777777777777778,\"#fb9f3a\"],[0.8888888888888888,\"#fdca26\"],[1.0,\"#f0f921\"]],\"sequentialminus\":[[0.0,\"#0d0887\"],[0.1111111111111111,\"#46039f\"],[0.2222222222222222,\"#7201a8\"],[0.3333333333333333,\"#9c179e\"],[0.4444444444444444,\"#bd3786\"],[0.5555555555555556,\"#d8576b\"],[0.6666666666666666,\"#ed7953\"],[0.7777777777777778,\"#fb9f3a\"],[0.8888888888888888,\"#fdca26\"],[1.0,\"#f0f921\"]],\"diverging\":[[0,\"#8e0152\"],[0.1,\"#c51b7d\"],[0.2,\"#de77ae\"],[0.3,\"#f1b6da\"],[0.4,\"#fde0ef\"],[0.5,\"#f7f7f7\"],[0.6,\"#e6f5d0\"],[0.7,\"#b8e186\"],[0.8,\"#7fbc41\"],[0.9,\"#4d9221\"],[1,\"#276419\"]]},\"xaxis\":{\"gridcolor\":\"white\",\"linecolor\":\"white\",\"ticks\":\"\",\"title\":{\"standoff\":15},\"zerolinecolor\":\"white\",\"automargin\":true,\"zerolinewidth\":2},\"yaxis\":{\"gridcolor\":\"white\",\"linecolor\":\"white\",\"ticks\":\"\",\"title\":{\"standoff\":15},\"zerolinecolor\":\"white\",\"automargin\":true,\"zerolinewidth\":2},\"scene\":{\"xaxis\":{\"backgroundcolor\":\"#E5ECF6\",\"gridcolor\":\"white\",\"linecolor\":\"white\",\"showbackground\":true,\"ticks\":\"\",\"zerolinecolor\":\"white\",\"gridwidth\":2},\"yaxis\":{\"backgroundcolor\":\"#E5ECF6\",\"gridcolor\":\"white\",\"linecolor\":\"white\",\"showbackground\":true,\"ticks\":\"\",\"zerolinecolor\":\"white\",\"gridwidth\":2},\"zaxis\":{\"backgroundcolor\":\"#E5ECF6\",\"gridcolor\":\"white\",\"linecolor\":\"white\",\"showbackground\":true,\"ticks\":\"\",\"zerolinecolor\":\"white\",\"gridwidth\":2}},\"shapedefaults\":{\"line\":{\"color\":\"#2a3f5f\"}},\"annotationdefaults\":{\"arrowcolor\":\"#2a3f5f\",\"arrowhead\":0,\"arrowwidth\":1},\"geo\":{\"bgcolor\":\"white\",\"landcolor\":\"#E5ECF6\",\"subunitcolor\":\"white\",\"showland\":true,\"showlakes\":true,\"lakecolor\":\"white\"},\"title\":{\"x\":0.05},\"mapbox\":{\"style\":\"light\"}}},\"legend\":{\"tracegroupgap\":0},\"title\":{\"text\":\"Placed Vs Not Placed\"}},                        {\"responsive\": true}                    )                };                            </script>        </div>\n",
              "</body>\n",
              "</html>"
            ]
          },
          "metadata": {},
          "execution_count": 16
        }
      ]
    },
    {
      "cell_type": "markdown",
      "source": [
        "**MAX AND MIN AGE OF PERSON WHO IS PLACED**"
      ],
      "metadata": {
        "id": "di2WK5A5klJT"
      }
    },
    {
      "cell_type": "code",
      "source": [
        "print(\"Max Age of Placed Person: \",df[(df['Age'] == df['Age'].max()) & (df['PlacedOrNot']==1)]['Age'].values[0])\n",
        "print(\"Min Age of Placed Person: \",df[(df['Age'] == df['Age'].min()) & (df['PlacedOrNot']==1)]['Age'].values[0])"
      ],
      "metadata": {
        "colab": {
          "base_uri": "https://localhost:8080/"
        },
        "id": "RAaxhYKKmZo3",
        "outputId": "ff015d54-c308-4dca-8c0f-886988f6283c"
      },
      "execution_count": 17,
      "outputs": [
        {
          "output_type": "stream",
          "name": "stdout",
          "text": [
            "Max Age of Placed Person:  30\n",
            "Min Age of Placed Person:  19\n"
          ]
        }
      ]
    },
    {
      "cell_type": "markdown",
      "source": [
        "**MAX AND MIN INTERNSHIPS DONE BY STUDENT WHO IS PLACED**"
      ],
      "metadata": {
        "id": "6HtnL93jks7e"
      }
    },
    {
      "cell_type": "code",
      "source": [
        "print(\"Max Internships Done by the Placed Student: \",df[(df['Internships'] == df['Internships'].max()) & (df['PlacedOrNot']==1)]['Internships'].values[0])\n",
        "print(\"No of students who did max Internships and are placed: \",df[(df['Internships'] == df['Internships'].max()) & (df['PlacedOrNot']==1)]['Internships'].value_counts().values[0])\n",
        "\n",
        "print(\"Min Internships Done by the Placed Person: \",df[(df['Internships'] == df['Internships'].min()) & (df['PlacedOrNot']==1)]['Internships'].values[0])\n",
        "print(\"No of students who did min Internships and are placed: \",df[(df['Internships'] == df['Internships'].min()) & (df['PlacedOrNot']==1)]['Internships'].value_counts().values[0])"
      ],
      "metadata": {
        "colab": {
          "base_uri": "https://localhost:8080/"
        },
        "id": "6pFOLiHOmekv",
        "outputId": "38a40106-6e48-44af-ca26-d36a30a48941"
      },
      "execution_count": 18,
      "outputs": [
        {
          "output_type": "stream",
          "name": "stdout",
          "text": [
            "Max Internships Done by the Placed Student:  3\n",
            "No of students who did max Internships and are placed:  35\n",
            "Min Internships Done by the Placed Person:  0\n",
            "No of students who did min Internships and are placed:  232\n"
          ]
        }
      ]
    },
    {
      "cell_type": "markdown",
      "source": [
        "**MAX AND MIN CGPA OF STUDENT WHO IS PLACED**"
      ],
      "metadata": {
        "id": "ESrNcV6-kylM"
      }
    },
    {
      "cell_type": "code",
      "source": [
        "print(\"Max CGPA of Placed Student: \",df[(df['CGPA'] == df['CGPA'].max()) & (df['PlacedOrNot']==1)]['CGPA'].values[0])\n",
        "print(\"No of students has max CGPA and are placed: \",df[(df['CGPA'] == df['CGPA'].max()) & (df['PlacedOrNot']==1)]['CGPA'].value_counts().values[0])\n",
        "\n",
        "print(\"Min CGPA of Placed Person: \",df[(df['CGPA'] == df['CGPA'].min()) & (df['PlacedOrNot']==1)]['CGPA'].values[0])\n",
        "print(\"No of students has min CGPA and are placed: \",df[(df['CGPA'] == df['CGPA'].min()) & (df['PlacedOrNot']==1)]['CGPA'].value_counts().values[0])"
      ],
      "metadata": {
        "colab": {
          "base_uri": "https://localhost:8080/"
        },
        "id": "d-ievKHbmgFb",
        "outputId": "f15da7cc-386f-4ba2-b699-3567dce35031"
      },
      "execution_count": 19,
      "outputs": [
        {
          "output_type": "stream",
          "name": "stdout",
          "text": [
            "Max CGPA of Placed Student:  9\n",
            "No of students has max CGPA and are placed:  99\n",
            "Min CGPA of Placed Person:  5\n",
            "No of students has min CGPA and are placed:  5\n"
          ]
        }
      ]
    },
    {
      "cell_type": "markdown",
      "source": [
        "**STATISTICAL REPRESENTATION FOR MATHEMATICAL UNDERSTANDING**"
      ],
      "metadata": {
        "id": "SUctifJCk8rw"
      }
    },
    {
      "cell_type": "code",
      "source": [
        "fig = px.box(df, y='CGPA')\n",
        "HTML(fig.to_html(include_plotlyjs='cdn'))"
      ],
      "metadata": {
        "colab": {
          "base_uri": "https://localhost:8080/",
          "height": 467
        },
        "id": "VMc3GMO3mhuz",
        "outputId": "27a501ce-8423-45d1-d6d2-c962bbb7ed88"
      },
      "execution_count": 20,
      "outputs": [
        {
          "output_type": "execute_result",
          "data": {
            "text/plain": [
              "<IPython.core.display.HTML object>"
            ],
            "text/html": [
              "<html>\n",
              "<head><meta charset=\"utf-8\" /></head>\n",
              "<body>\n",
              "    <div>                        <script type=\"text/javascript\">window.PlotlyConfig = {MathJaxConfig: 'local'};</script>\n",
              "        <script charset=\"utf-8\" src=\"https://cdn.plot.ly/plotly-2.35.2.min.js\"></script>                <div id=\"923677a1-1742-40ba-9a97-e26e19554b15\" class=\"plotly-graph-div\" style=\"height:100%; width:100%;\"></div>            <script type=\"text/javascript\">                                    window.PLOTLYENV=window.PLOTLYENV || {};                                    if (document.getElementById(\"923677a1-1742-40ba-9a97-e26e19554b15\")) {                    Plotly.newPlot(                        \"923677a1-1742-40ba-9a97-e26e19554b15\",                        [{\"alignmentgroup\":\"True\",\"hovertemplate\":\"CGPA=%{y}\\u003cextra\\u003e\\u003c\\u002fextra\\u003e\",\"legendgroup\":\"\",\"marker\":{\"color\":\"#636efa\"},\"name\":\"\",\"notched\":false,\"offsetgroup\":\"\",\"orientation\":\"v\",\"showlegend\":false,\"x0\":\" \",\"xaxis\":\"x\",\"y\":[8,7,6,8,8,6,7,7,6,6,7,8,6,8,8,7,6,7,8,6,7,7,7,8,8,8,6,8,7,7,7,6,6,7,8,6,8,6,8,7,8,6,7,7,7,8,8,8,6,7,8,8,8,9,8,8,9,8,9,9,9,8,9,9,9,9,8,8,8,9,9,8,7,8,6,6,7,8,6,6,7,7,7,7,7,6,5,6,5,6,6,7,7,7,6,6,7,6,6,7,5,6,6,7,5,7,5,7,7,5,6,6,7,6,6,6,5,5,5,5,7,7,5,7,6,5,7,5,6,7,6,5,6,6,7,7,5,5,6,6,5,6,6,5,6,6,7,7,7,7,6,5,6,6,6,5,5,7,7,5,6,5,7,5,5,5,6,5,7,7,6,6,7,7,8,8,6,6,6,7,7,8,8,6,7,6,6,6,8,8,7,7,8,7,6,8,7,6,6,7,6,8,8,8,8,6,6,8,8,7,6,6,7,6,8,7,7,6,7,8,6,7,6,6,7,6,6,7,7,6,7,6,8,6,6,8,7,8,6,6,6,6,7,6,6,6,7,7,6,8,7,7,6,6,8,8,7,8,7,6,6,6,7,7,7,6,6,6,7,7,6,8,8,6,6,6,5,6,5,5,6,5,5,7,7,6,6,6,6,6,7,8,6,8,6,8,6,8,8,6,7,7,7,7,6,6,8,7,6,6,7,7,8,8,8,7,6,6,7,7,6,8,8,7,7,6,8,8,7,6,7,6,7,8,7,8,6,8,8,8,8,8,6,7,7,8,7,6,7,7,8,7,8,6,7,7,7,8,6,6,7,8,8,6,7,8,6,6,6,8,7,8,8,7,7,6,6,7,7,7,6,7,6,8,6,6,7,6,8,6,6,8,9,7,9,6,6,8,8,8,6,7,9,8,8,8,8,7,9,8,9,6,9,8,7,7,8,9,7,9,8,8,7,7,8,7,7,7,8,6,6,7,6,8,6,8,8,6,6,8,7,7,8,6,8,8,8,7,8,6,8,8,7,7,8,7,8,7,6,6,6,6,8,7,7,8,6,7,7,8,8,7,7,7,8,6,7,6,6,8,7,8,6,6,7,8,7,7,6,7,7,6,6,8,8,7,6,6,7,7,8,6,8,7,6,7,8,8,7,8,9,8,7,7,9,7,7,7,9,9,9,9,8,9,9,8,9,9,8,9,9,9,8,7,9,7,7,9,9,9,9,9,8,9,9,9,9,9,9,9,7,7,9,9,8,9,8,9,9,7,8,9,7,9,8,8,9,9,9,9,9,8,7,7,6,6,7,7,6,7,7,6,6,7,7,7,6,7,6,7,6,6,6,6,7,6,6,7,7,7,6,7,7,7,6,6,7,6,7,7,7,7,6,6,6,6,7,7,7,6,6,7,7,6,6,8,7,6,6,8,8,6,8,6,8,6,6,8,7,7,7,7,7,7,6,8,8,7,6,7,6,6,7,8,7,7,8,7,7,7,6,6,6,7,7,7,8,8,7,8,7,8,6,6,5,5,6,5,5,5,5,6,6,5,5,5,5,5,6,7,7,6,7,7,7,6,8,8,7,7,7,8,7,8,7,8,8,8,7,7,7,7,8,7,6,8,7,6,8,6,7,7,7,8,7,7,7,8,7,8,8,6,6,6,8,7,8,7,7,6,5,5,5,5,6,5,5,5,5,5,6,5,5,6,6,5,5,5,5,5,6,5,6,6,5,5,5,5,6,6,6,8,7,8,6,7,8,8,7,6,7,6,8,7,6,6,7,6,8,6,6,7,7,6,7,8,7,8,8,8,8,7,7,7,7,7,7,7,7,7,7,6,8,6,7,8,8,7,8,8,7,7,7,8,8,8,8,8,7,7,7,7,7,7,8,8,8,8,7,7,8,7,8,8,8,8,8,7,8,7,7,8,7,7,8,7,6,7,8,6,6,7,6,8,6,6,7,6,6,6,7,6,8,8,6,8,7,8,6,7,8,7,7,6,6,8,6,7,6,8,7,9,6,9,6,7,5,9,8,9,6,7,5,5,5,5,5,5,9,5,9,6,9,5,8,9,6,9,8,9,8,7,9,9,7,7,9,7,5,9,7,5,9,9,5,9,6,9,8,7,6,6,7,7,6,6,7,7,6,6,6,6,6,8,8,6,6,6,8,8,8,7,6,7,7,6,7,7,6,6,6,6,6,7,7,7,6,7,7,7,8,6,8,8,7,6,8,8,8,7,7,7,7,7,6,7,6,6,6,7,7,8,7,7,6,6,7,6,6,6,7,8,8,6,6,8,7,8,6,8,6,6,7,6,7,7,6,7,7,6,8,7,8,8,6,6,6,8,7,6,6,6,7,7,7,6,6,7,7,9,9,7,9,7,9,9,8,9,9,9,9,7,9,9,9,8,9,8,9,9,9,7,9,7,7,7,9,9,9,9,8,8,8,9,9,9,8,7,8,7,8,8,7,7,8,8,7,6,6,6,6,8,8,6,7,6,6,7,8,7,6,7,6,8,8,7,8,6,8,8,7,8,6,6,8,8,6,6,8,6,6,7,7,8,8,6,7],\"y0\":\" \",\"yaxis\":\"y\",\"type\":\"box\"}],                        {\"template\":{\"data\":{\"histogram2dcontour\":[{\"type\":\"histogram2dcontour\",\"colorbar\":{\"outlinewidth\":0,\"ticks\":\"\"},\"colorscale\":[[0.0,\"#0d0887\"],[0.1111111111111111,\"#46039f\"],[0.2222222222222222,\"#7201a8\"],[0.3333333333333333,\"#9c179e\"],[0.4444444444444444,\"#bd3786\"],[0.5555555555555556,\"#d8576b\"],[0.6666666666666666,\"#ed7953\"],[0.7777777777777778,\"#fb9f3a\"],[0.8888888888888888,\"#fdca26\"],[1.0,\"#f0f921\"]]}],\"choropleth\":[{\"type\":\"choropleth\",\"colorbar\":{\"outlinewidth\":0,\"ticks\":\"\"}}],\"histogram2d\":[{\"type\":\"histogram2d\",\"colorbar\":{\"outlinewidth\":0,\"ticks\":\"\"},\"colorscale\":[[0.0,\"#0d0887\"],[0.1111111111111111,\"#46039f\"],[0.2222222222222222,\"#7201a8\"],[0.3333333333333333,\"#9c179e\"],[0.4444444444444444,\"#bd3786\"],[0.5555555555555556,\"#d8576b\"],[0.6666666666666666,\"#ed7953\"],[0.7777777777777778,\"#fb9f3a\"],[0.8888888888888888,\"#fdca26\"],[1.0,\"#f0f921\"]]}],\"heatmap\":[{\"type\":\"heatmap\",\"colorbar\":{\"outlinewidth\":0,\"ticks\":\"\"},\"colorscale\":[[0.0,\"#0d0887\"],[0.1111111111111111,\"#46039f\"],[0.2222222222222222,\"#7201a8\"],[0.3333333333333333,\"#9c179e\"],[0.4444444444444444,\"#bd3786\"],[0.5555555555555556,\"#d8576b\"],[0.6666666666666666,\"#ed7953\"],[0.7777777777777778,\"#fb9f3a\"],[0.8888888888888888,\"#fdca26\"],[1.0,\"#f0f921\"]]}],\"heatmapgl\":[{\"type\":\"heatmapgl\",\"colorbar\":{\"outlinewidth\":0,\"ticks\":\"\"},\"colorscale\":[[0.0,\"#0d0887\"],[0.1111111111111111,\"#46039f\"],[0.2222222222222222,\"#7201a8\"],[0.3333333333333333,\"#9c179e\"],[0.4444444444444444,\"#bd3786\"],[0.5555555555555556,\"#d8576b\"],[0.6666666666666666,\"#ed7953\"],[0.7777777777777778,\"#fb9f3a\"],[0.8888888888888888,\"#fdca26\"],[1.0,\"#f0f921\"]]}],\"contourcarpet\":[{\"type\":\"contourcarpet\",\"colorbar\":{\"outlinewidth\":0,\"ticks\":\"\"}}],\"contour\":[{\"type\":\"contour\",\"colorbar\":{\"outlinewidth\":0,\"ticks\":\"\"},\"colorscale\":[[0.0,\"#0d0887\"],[0.1111111111111111,\"#46039f\"],[0.2222222222222222,\"#7201a8\"],[0.3333333333333333,\"#9c179e\"],[0.4444444444444444,\"#bd3786\"],[0.5555555555555556,\"#d8576b\"],[0.6666666666666666,\"#ed7953\"],[0.7777777777777778,\"#fb9f3a\"],[0.8888888888888888,\"#fdca26\"],[1.0,\"#f0f921\"]]}],\"surface\":[{\"type\":\"surface\",\"colorbar\":{\"outlinewidth\":0,\"ticks\":\"\"},\"colorscale\":[[0.0,\"#0d0887\"],[0.1111111111111111,\"#46039f\"],[0.2222222222222222,\"#7201a8\"],[0.3333333333333333,\"#9c179e\"],[0.4444444444444444,\"#bd3786\"],[0.5555555555555556,\"#d8576b\"],[0.6666666666666666,\"#ed7953\"],[0.7777777777777778,\"#fb9f3a\"],[0.8888888888888888,\"#fdca26\"],[1.0,\"#f0f921\"]]}],\"mesh3d\":[{\"type\":\"mesh3d\",\"colorbar\":{\"outlinewidth\":0,\"ticks\":\"\"}}],\"scatter\":[{\"fillpattern\":{\"fillmode\":\"overlay\",\"size\":10,\"solidity\":0.2},\"type\":\"scatter\"}],\"parcoords\":[{\"type\":\"parcoords\",\"line\":{\"colorbar\":{\"outlinewidth\":0,\"ticks\":\"\"}}}],\"scatterpolargl\":[{\"type\":\"scatterpolargl\",\"marker\":{\"colorbar\":{\"outlinewidth\":0,\"ticks\":\"\"}}}],\"bar\":[{\"error_x\":{\"color\":\"#2a3f5f\"},\"error_y\":{\"color\":\"#2a3f5f\"},\"marker\":{\"line\":{\"color\":\"#E5ECF6\",\"width\":0.5},\"pattern\":{\"fillmode\":\"overlay\",\"size\":10,\"solidity\":0.2}},\"type\":\"bar\"}],\"scattergeo\":[{\"type\":\"scattergeo\",\"marker\":{\"colorbar\":{\"outlinewidth\":0,\"ticks\":\"\"}}}],\"scatterpolar\":[{\"type\":\"scatterpolar\",\"marker\":{\"colorbar\":{\"outlinewidth\":0,\"ticks\":\"\"}}}],\"histogram\":[{\"marker\":{\"pattern\":{\"fillmode\":\"overlay\",\"size\":10,\"solidity\":0.2}},\"type\":\"histogram\"}],\"scattergl\":[{\"type\":\"scattergl\",\"marker\":{\"colorbar\":{\"outlinewidth\":0,\"ticks\":\"\"}}}],\"scatter3d\":[{\"type\":\"scatter3d\",\"line\":{\"colorbar\":{\"outlinewidth\":0,\"ticks\":\"\"}},\"marker\":{\"colorbar\":{\"outlinewidth\":0,\"ticks\":\"\"}}}],\"scattermapbox\":[{\"type\":\"scattermapbox\",\"marker\":{\"colorbar\":{\"outlinewidth\":0,\"ticks\":\"\"}}}],\"scatterternary\":[{\"type\":\"scatterternary\",\"marker\":{\"colorbar\":{\"outlinewidth\":0,\"ticks\":\"\"}}}],\"scattercarpet\":[{\"type\":\"scattercarpet\",\"marker\":{\"colorbar\":{\"outlinewidth\":0,\"ticks\":\"\"}}}],\"carpet\":[{\"aaxis\":{\"endlinecolor\":\"#2a3f5f\",\"gridcolor\":\"white\",\"linecolor\":\"white\",\"minorgridcolor\":\"white\",\"startlinecolor\":\"#2a3f5f\"},\"baxis\":{\"endlinecolor\":\"#2a3f5f\",\"gridcolor\":\"white\",\"linecolor\":\"white\",\"minorgridcolor\":\"white\",\"startlinecolor\":\"#2a3f5f\"},\"type\":\"carpet\"}],\"table\":[{\"cells\":{\"fill\":{\"color\":\"#EBF0F8\"},\"line\":{\"color\":\"white\"}},\"header\":{\"fill\":{\"color\":\"#C8D4E3\"},\"line\":{\"color\":\"white\"}},\"type\":\"table\"}],\"barpolar\":[{\"marker\":{\"line\":{\"color\":\"#E5ECF6\",\"width\":0.5},\"pattern\":{\"fillmode\":\"overlay\",\"size\":10,\"solidity\":0.2}},\"type\":\"barpolar\"}],\"pie\":[{\"automargin\":true,\"type\":\"pie\"}]},\"layout\":{\"autotypenumbers\":\"strict\",\"colorway\":[\"#636efa\",\"#EF553B\",\"#00cc96\",\"#ab63fa\",\"#FFA15A\",\"#19d3f3\",\"#FF6692\",\"#B6E880\",\"#FF97FF\",\"#FECB52\"],\"font\":{\"color\":\"#2a3f5f\"},\"hovermode\":\"closest\",\"hoverlabel\":{\"align\":\"left\"},\"paper_bgcolor\":\"white\",\"plot_bgcolor\":\"#E5ECF6\",\"polar\":{\"bgcolor\":\"#E5ECF6\",\"angularaxis\":{\"gridcolor\":\"white\",\"linecolor\":\"white\",\"ticks\":\"\"},\"radialaxis\":{\"gridcolor\":\"white\",\"linecolor\":\"white\",\"ticks\":\"\"}},\"ternary\":{\"bgcolor\":\"#E5ECF6\",\"aaxis\":{\"gridcolor\":\"white\",\"linecolor\":\"white\",\"ticks\":\"\"},\"baxis\":{\"gridcolor\":\"white\",\"linecolor\":\"white\",\"ticks\":\"\"},\"caxis\":{\"gridcolor\":\"white\",\"linecolor\":\"white\",\"ticks\":\"\"}},\"coloraxis\":{\"colorbar\":{\"outlinewidth\":0,\"ticks\":\"\"}},\"colorscale\":{\"sequential\":[[0.0,\"#0d0887\"],[0.1111111111111111,\"#46039f\"],[0.2222222222222222,\"#7201a8\"],[0.3333333333333333,\"#9c179e\"],[0.4444444444444444,\"#bd3786\"],[0.5555555555555556,\"#d8576b\"],[0.6666666666666666,\"#ed7953\"],[0.7777777777777778,\"#fb9f3a\"],[0.8888888888888888,\"#fdca26\"],[1.0,\"#f0f921\"]],\"sequentialminus\":[[0.0,\"#0d0887\"],[0.1111111111111111,\"#46039f\"],[0.2222222222222222,\"#7201a8\"],[0.3333333333333333,\"#9c179e\"],[0.4444444444444444,\"#bd3786\"],[0.5555555555555556,\"#d8576b\"],[0.6666666666666666,\"#ed7953\"],[0.7777777777777778,\"#fb9f3a\"],[0.8888888888888888,\"#fdca26\"],[1.0,\"#f0f921\"]],\"diverging\":[[0,\"#8e0152\"],[0.1,\"#c51b7d\"],[0.2,\"#de77ae\"],[0.3,\"#f1b6da\"],[0.4,\"#fde0ef\"],[0.5,\"#f7f7f7\"],[0.6,\"#e6f5d0\"],[0.7,\"#b8e186\"],[0.8,\"#7fbc41\"],[0.9,\"#4d9221\"],[1,\"#276419\"]]},\"xaxis\":{\"gridcolor\":\"white\",\"linecolor\":\"white\",\"ticks\":\"\",\"title\":{\"standoff\":15},\"zerolinecolor\":\"white\",\"automargin\":true,\"zerolinewidth\":2},\"yaxis\":{\"gridcolor\":\"white\",\"linecolor\":\"white\",\"ticks\":\"\",\"title\":{\"standoff\":15},\"zerolinecolor\":\"white\",\"automargin\":true,\"zerolinewidth\":2},\"scene\":{\"xaxis\":{\"backgroundcolor\":\"#E5ECF6\",\"gridcolor\":\"white\",\"linecolor\":\"white\",\"showbackground\":true,\"ticks\":\"\",\"zerolinecolor\":\"white\",\"gridwidth\":2},\"yaxis\":{\"backgroundcolor\":\"#E5ECF6\",\"gridcolor\":\"white\",\"linecolor\":\"white\",\"showbackground\":true,\"ticks\":\"\",\"zerolinecolor\":\"white\",\"gridwidth\":2},\"zaxis\":{\"backgroundcolor\":\"#E5ECF6\",\"gridcolor\":\"white\",\"linecolor\":\"white\",\"showbackground\":true,\"ticks\":\"\",\"zerolinecolor\":\"white\",\"gridwidth\":2}},\"shapedefaults\":{\"line\":{\"color\":\"#2a3f5f\"}},\"annotationdefaults\":{\"arrowcolor\":\"#2a3f5f\",\"arrowhead\":0,\"arrowwidth\":1},\"geo\":{\"bgcolor\":\"white\",\"landcolor\":\"#E5ECF6\",\"subunitcolor\":\"white\",\"showland\":true,\"showlakes\":true,\"lakecolor\":\"white\"},\"title\":{\"x\":0.05},\"mapbox\":{\"style\":\"light\"}}},\"xaxis\":{\"anchor\":\"y\",\"domain\":[0.0,1.0]},\"yaxis\":{\"anchor\":\"x\",\"domain\":[0.0,1.0],\"title\":{\"text\":\"CGPA\"}},\"legend\":{\"tracegroupgap\":0},\"margin\":{\"t\":60},\"boxmode\":\"group\"},                        {\"responsive\": true}                    )                };                            </script>        </div>\n",
              "</body>\n",
              "</html>"
            ]
          },
          "metadata": {},
          "execution_count": 20
        }
      ]
    },
    {
      "cell_type": "code",
      "source": [
        "fig = px.box(df, y='Age')\n",
        "HTML(fig.to_html(include_plotlyjs='cdn'))"
      ],
      "metadata": {
        "colab": {
          "base_uri": "https://localhost:8080/",
          "height": 467
        },
        "id": "6jOHMPLKmjh-",
        "outputId": "afb16516-4840-46cd-a8cf-244fafa2de66"
      },
      "execution_count": 21,
      "outputs": [
        {
          "output_type": "execute_result",
          "data": {
            "text/plain": [
              "<IPython.core.display.HTML object>"
            ],
            "text/html": [
              "<html>\n",
              "<head><meta charset=\"utf-8\" /></head>\n",
              "<body>\n",
              "    <div>                        <script type=\"text/javascript\">window.PlotlyConfig = {MathJaxConfig: 'local'};</script>\n",
              "        <script charset=\"utf-8\" src=\"https://cdn.plot.ly/plotly-2.35.2.min.js\"></script>                <div id=\"0785a280-f948-414f-8488-118d89036591\" class=\"plotly-graph-div\" style=\"height:100%; width:100%;\"></div>            <script type=\"text/javascript\">                                    window.PLOTLYENV=window.PLOTLYENV || {};                                    if (document.getElementById(\"0785a280-f948-414f-8488-118d89036591\")) {                    Plotly.newPlot(                        \"0785a280-f948-414f-8488-118d89036591\",                        [{\"alignmentgroup\":\"True\",\"hovertemplate\":\"Age=%{y}\\u003cextra\\u003e\\u003c\\u002fextra\\u003e\",\"legendgroup\":\"\",\"marker\":{\"color\":\"#636efa\"},\"name\":\"\",\"notched\":false,\"offsetgroup\":\"\",\"orientation\":\"v\",\"showlegend\":false,\"x0\":\" \",\"xaxis\":\"x\",\"y\":[22,21,22,21,22,22,21,21,21,21,22,22,21,21,21,22,21,21,22,21,22,22,22,21,22,22,21,22,21,21,21,21,21,22,22,22,22,22,22,21,22,21,21,21,21,22,21,21,21,21,21,21,21,21,22,21,21,21,22,22,22,21,22,22,22,21,22,22,21,21,21,21,21,21,21,22,22,21,22,21,22,21,22,21,23,23,23,24,23,23,24,24,24,23,23,24,24,24,23,23,24,23,23,23,23,23,24,24,24,24,23,23,23,24,23,24,24,23,24,23,23,24,24,23,24,23,24,24,23,24,24,23,24,23,24,22,22,22,21,21,21,21,21,21,21,22,22,21,21,22,22,21,22,22,21,22,21,22,21,22,21,22,21,21,21,22,21,21,22,21,22,21,21,21,21,21,22,21,21,21,22,22,22,21,22,21,21,22,22,21,22,21,21,22,22,21,22,21,21,21,22,21,21,22,22,21,22,21,21,21,22,21,22,21,22,21,21,21,21,22,21,21,21,21,22,22,22,22,22,22,21,22,22,22,22,21,22,22,22,22,22,21,21,21,22,22,22,22,21,21,22,21,22,22,21,22,22,21,21,21,21,22,22,22,21,21,22,22,22,22,21,21,21,21,22,22,21,21,22,21,21,21,22,22,21,21,21,22,21,22,21,21,21,22,21,21,21,22,28,22,22,22,22,21,22,21,22,22,21,22,22,22,21,21,21,22,21,22,22,22,21,21,22,21,21,21,22,21,21,21,22,21,22,22,21,22,22,21,21,30,22,22,22,21,22,22,21,22,22,21,22,21,21,22,22,22,21,22,21,22,21,21,21,22,22,22,22,22,21,21,22,22,22,21,21,22,22,22,22,22,21,22,22,21,21,22,25,26,24,25,24,25,23,24,25,26,26,25,26,24,23,23,24,25,24,23,26,23,26,26,26,26,24,23,26,23,24,26,25,23,24,23,23,26,26,23,26,26,23,26,23,24,25,26,24,26,25,21,21,22,21,22,21,22,21,22,22,22,22,21,21,21,21,22,22,21,22,21,21,21,21,22,22,21,22,22,21,21,21,22,21,22,22,22,22,22,21,22,21,21,21,21,22,21,22,22,21,22,22,21,22,21,22,21,22,21,21,22,22,22,21,22,21,22,22,21,21,22,22,21,22,21,21,22,21,21,22,21,21,22,21,21,21,21,21,22,21,21,22,22,21,22,22,22,21,21,21,22,21,21,21,22,22,22,22,22,21,22,21,22,22,22,21,22,22,22,21,22,21,21,21,22,22,22,21,21,22,21,21,21,22,21,25,26,24,25,26,26,26,26,24,26,26,26,26,26,26,25,26,24,26,26,24,24,25,25,26,26,25,25,26,26,26,26,24,25,26,26,25,25,24,26,26,25,25,25,21,21,21,22,22,22,21,22,22,22,21,22,22,28,22,22,22,22,24,24,24,24,20,23,23,23,22,23,23,23,20,24,20,22,20,23,23,20,20,23,20,23,24,20,20,23,20,24,23,23,23,24,20,20,21,24,21,20,20,21,23,24,24,23,23,22,24,20,20,24,24,21,23,21,23,20,24,24,20,23,24,20,23,24,23,23,21,24,22,23,24,20,20,24,21,20,24,20,23,22,23,24,20,20,23,22,20,24,23,23,21,20,20,21,23,23,24,20,20,24,24,21,20,23,23,20,20,24,24,23,22,23,23,23,23,20,23,23,22,21,20,23,21,21,23,21,20,24,23,23,22,22,23,23,21,23,20,20,22,24,20,23,22,20,20,20,22,24,23,23,24,24,24,20,20,24,24,22,24,20,20,20,20,24,23,21,20,23,24,21,20,20,20,23,20,23,20,23,20,19,19,19,20,19,22,19,22,20,19,21,19,19,19,20,20,22,20,20,22,19,20,20,19,19,19,19,19,20,19,20,20,19,20,21,19,19,20,19,19,19,19,19,20,22,21,19,19,19,20,22,20,20,19,19,22,19,19,19,19,21,19,20,20,19,20,19,20,19,20,19,19,20,19,20,20,21,19,19,20,19,21,19,19,19,20,21,21,22,19,21,20,22,19,22,19,19,22,19,19,22,19,20,19,21,20,19,19,22,20,19,20,20,22,19,19,21,20,21,22,20,19,20,19,21,20,19,19,21,20,19,20,19,19,20,20,22,19,20,19,20,19,21,19,19,19,19,19,19,20,19,19,19,20,22,20,19,20,19,22,19,19,20,19,19,19,20,20,20,19,19,29,19,20,19,20,20,19,20,20,19,20,20,20,20,19,19,19,22,22,19,21,22,19,20,21,19,19,28,19,19,20,19,19,19,21,19,22,19,20,22,19,21,20,20,21,20,21,20,20,21,20,20,21,20,20,20,21,20,20,21,21,20,20,20,20,20,20,20,20,21,20,20,21,21,21,20,20,21,20,20,21,20,21,20,20,20,20,20,21,20,20,20,20,20,20,21,20,21,20,21,20,20,20,20,20,21,20,20,20,20,20,20,20,20,21,20,23,22,23,23,23,22,22,23,23,23,22,23,22,23,23,22,23,23,23,23,23,23,23,23,23,23,23,23,23,23,23,23,23,23,23],\"y0\":\" \",\"yaxis\":\"y\",\"type\":\"box\"}],                        {\"template\":{\"data\":{\"histogram2dcontour\":[{\"type\":\"histogram2dcontour\",\"colorbar\":{\"outlinewidth\":0,\"ticks\":\"\"},\"colorscale\":[[0.0,\"#0d0887\"],[0.1111111111111111,\"#46039f\"],[0.2222222222222222,\"#7201a8\"],[0.3333333333333333,\"#9c179e\"],[0.4444444444444444,\"#bd3786\"],[0.5555555555555556,\"#d8576b\"],[0.6666666666666666,\"#ed7953\"],[0.7777777777777778,\"#fb9f3a\"],[0.8888888888888888,\"#fdca26\"],[1.0,\"#f0f921\"]]}],\"choropleth\":[{\"type\":\"choropleth\",\"colorbar\":{\"outlinewidth\":0,\"ticks\":\"\"}}],\"histogram2d\":[{\"type\":\"histogram2d\",\"colorbar\":{\"outlinewidth\":0,\"ticks\":\"\"},\"colorscale\":[[0.0,\"#0d0887\"],[0.1111111111111111,\"#46039f\"],[0.2222222222222222,\"#7201a8\"],[0.3333333333333333,\"#9c179e\"],[0.4444444444444444,\"#bd3786\"],[0.5555555555555556,\"#d8576b\"],[0.6666666666666666,\"#ed7953\"],[0.7777777777777778,\"#fb9f3a\"],[0.8888888888888888,\"#fdca26\"],[1.0,\"#f0f921\"]]}],\"heatmap\":[{\"type\":\"heatmap\",\"colorbar\":{\"outlinewidth\":0,\"ticks\":\"\"},\"colorscale\":[[0.0,\"#0d0887\"],[0.1111111111111111,\"#46039f\"],[0.2222222222222222,\"#7201a8\"],[0.3333333333333333,\"#9c179e\"],[0.4444444444444444,\"#bd3786\"],[0.5555555555555556,\"#d8576b\"],[0.6666666666666666,\"#ed7953\"],[0.7777777777777778,\"#fb9f3a\"],[0.8888888888888888,\"#fdca26\"],[1.0,\"#f0f921\"]]}],\"heatmapgl\":[{\"type\":\"heatmapgl\",\"colorbar\":{\"outlinewidth\":0,\"ticks\":\"\"},\"colorscale\":[[0.0,\"#0d0887\"],[0.1111111111111111,\"#46039f\"],[0.2222222222222222,\"#7201a8\"],[0.3333333333333333,\"#9c179e\"],[0.4444444444444444,\"#bd3786\"],[0.5555555555555556,\"#d8576b\"],[0.6666666666666666,\"#ed7953\"],[0.7777777777777778,\"#fb9f3a\"],[0.8888888888888888,\"#fdca26\"],[1.0,\"#f0f921\"]]}],\"contourcarpet\":[{\"type\":\"contourcarpet\",\"colorbar\":{\"outlinewidth\":0,\"ticks\":\"\"}}],\"contour\":[{\"type\":\"contour\",\"colorbar\":{\"outlinewidth\":0,\"ticks\":\"\"},\"colorscale\":[[0.0,\"#0d0887\"],[0.1111111111111111,\"#46039f\"],[0.2222222222222222,\"#7201a8\"],[0.3333333333333333,\"#9c179e\"],[0.4444444444444444,\"#bd3786\"],[0.5555555555555556,\"#d8576b\"],[0.6666666666666666,\"#ed7953\"],[0.7777777777777778,\"#fb9f3a\"],[0.8888888888888888,\"#fdca26\"],[1.0,\"#f0f921\"]]}],\"surface\":[{\"type\":\"surface\",\"colorbar\":{\"outlinewidth\":0,\"ticks\":\"\"},\"colorscale\":[[0.0,\"#0d0887\"],[0.1111111111111111,\"#46039f\"],[0.2222222222222222,\"#7201a8\"],[0.3333333333333333,\"#9c179e\"],[0.4444444444444444,\"#bd3786\"],[0.5555555555555556,\"#d8576b\"],[0.6666666666666666,\"#ed7953\"],[0.7777777777777778,\"#fb9f3a\"],[0.8888888888888888,\"#fdca26\"],[1.0,\"#f0f921\"]]}],\"mesh3d\":[{\"type\":\"mesh3d\",\"colorbar\":{\"outlinewidth\":0,\"ticks\":\"\"}}],\"scatter\":[{\"fillpattern\":{\"fillmode\":\"overlay\",\"size\":10,\"solidity\":0.2},\"type\":\"scatter\"}],\"parcoords\":[{\"type\":\"parcoords\",\"line\":{\"colorbar\":{\"outlinewidth\":0,\"ticks\":\"\"}}}],\"scatterpolargl\":[{\"type\":\"scatterpolargl\",\"marker\":{\"colorbar\":{\"outlinewidth\":0,\"ticks\":\"\"}}}],\"bar\":[{\"error_x\":{\"color\":\"#2a3f5f\"},\"error_y\":{\"color\":\"#2a3f5f\"},\"marker\":{\"line\":{\"color\":\"#E5ECF6\",\"width\":0.5},\"pattern\":{\"fillmode\":\"overlay\",\"size\":10,\"solidity\":0.2}},\"type\":\"bar\"}],\"scattergeo\":[{\"type\":\"scattergeo\",\"marker\":{\"colorbar\":{\"outlinewidth\":0,\"ticks\":\"\"}}}],\"scatterpolar\":[{\"type\":\"scatterpolar\",\"marker\":{\"colorbar\":{\"outlinewidth\":0,\"ticks\":\"\"}}}],\"histogram\":[{\"marker\":{\"pattern\":{\"fillmode\":\"overlay\",\"size\":10,\"solidity\":0.2}},\"type\":\"histogram\"}],\"scattergl\":[{\"type\":\"scattergl\",\"marker\":{\"colorbar\":{\"outlinewidth\":0,\"ticks\":\"\"}}}],\"scatter3d\":[{\"type\":\"scatter3d\",\"line\":{\"colorbar\":{\"outlinewidth\":0,\"ticks\":\"\"}},\"marker\":{\"colorbar\":{\"outlinewidth\":0,\"ticks\":\"\"}}}],\"scattermapbox\":[{\"type\":\"scattermapbox\",\"marker\":{\"colorbar\":{\"outlinewidth\":0,\"ticks\":\"\"}}}],\"scatterternary\":[{\"type\":\"scatterternary\",\"marker\":{\"colorbar\":{\"outlinewidth\":0,\"ticks\":\"\"}}}],\"scattercarpet\":[{\"type\":\"scattercarpet\",\"marker\":{\"colorbar\":{\"outlinewidth\":0,\"ticks\":\"\"}}}],\"carpet\":[{\"aaxis\":{\"endlinecolor\":\"#2a3f5f\",\"gridcolor\":\"white\",\"linecolor\":\"white\",\"minorgridcolor\":\"white\",\"startlinecolor\":\"#2a3f5f\"},\"baxis\":{\"endlinecolor\":\"#2a3f5f\",\"gridcolor\":\"white\",\"linecolor\":\"white\",\"minorgridcolor\":\"white\",\"startlinecolor\":\"#2a3f5f\"},\"type\":\"carpet\"}],\"table\":[{\"cells\":{\"fill\":{\"color\":\"#EBF0F8\"},\"line\":{\"color\":\"white\"}},\"header\":{\"fill\":{\"color\":\"#C8D4E3\"},\"line\":{\"color\":\"white\"}},\"type\":\"table\"}],\"barpolar\":[{\"marker\":{\"line\":{\"color\":\"#E5ECF6\",\"width\":0.5},\"pattern\":{\"fillmode\":\"overlay\",\"size\":10,\"solidity\":0.2}},\"type\":\"barpolar\"}],\"pie\":[{\"automargin\":true,\"type\":\"pie\"}]},\"layout\":{\"autotypenumbers\":\"strict\",\"colorway\":[\"#636efa\",\"#EF553B\",\"#00cc96\",\"#ab63fa\",\"#FFA15A\",\"#19d3f3\",\"#FF6692\",\"#B6E880\",\"#FF97FF\",\"#FECB52\"],\"font\":{\"color\":\"#2a3f5f\"},\"hovermode\":\"closest\",\"hoverlabel\":{\"align\":\"left\"},\"paper_bgcolor\":\"white\",\"plot_bgcolor\":\"#E5ECF6\",\"polar\":{\"bgcolor\":\"#E5ECF6\",\"angularaxis\":{\"gridcolor\":\"white\",\"linecolor\":\"white\",\"ticks\":\"\"},\"radialaxis\":{\"gridcolor\":\"white\",\"linecolor\":\"white\",\"ticks\":\"\"}},\"ternary\":{\"bgcolor\":\"#E5ECF6\",\"aaxis\":{\"gridcolor\":\"white\",\"linecolor\":\"white\",\"ticks\":\"\"},\"baxis\":{\"gridcolor\":\"white\",\"linecolor\":\"white\",\"ticks\":\"\"},\"caxis\":{\"gridcolor\":\"white\",\"linecolor\":\"white\",\"ticks\":\"\"}},\"coloraxis\":{\"colorbar\":{\"outlinewidth\":0,\"ticks\":\"\"}},\"colorscale\":{\"sequential\":[[0.0,\"#0d0887\"],[0.1111111111111111,\"#46039f\"],[0.2222222222222222,\"#7201a8\"],[0.3333333333333333,\"#9c179e\"],[0.4444444444444444,\"#bd3786\"],[0.5555555555555556,\"#d8576b\"],[0.6666666666666666,\"#ed7953\"],[0.7777777777777778,\"#fb9f3a\"],[0.8888888888888888,\"#fdca26\"],[1.0,\"#f0f921\"]],\"sequentialminus\":[[0.0,\"#0d0887\"],[0.1111111111111111,\"#46039f\"],[0.2222222222222222,\"#7201a8\"],[0.3333333333333333,\"#9c179e\"],[0.4444444444444444,\"#bd3786\"],[0.5555555555555556,\"#d8576b\"],[0.6666666666666666,\"#ed7953\"],[0.7777777777777778,\"#fb9f3a\"],[0.8888888888888888,\"#fdca26\"],[1.0,\"#f0f921\"]],\"diverging\":[[0,\"#8e0152\"],[0.1,\"#c51b7d\"],[0.2,\"#de77ae\"],[0.3,\"#f1b6da\"],[0.4,\"#fde0ef\"],[0.5,\"#f7f7f7\"],[0.6,\"#e6f5d0\"],[0.7,\"#b8e186\"],[0.8,\"#7fbc41\"],[0.9,\"#4d9221\"],[1,\"#276419\"]]},\"xaxis\":{\"gridcolor\":\"white\",\"linecolor\":\"white\",\"ticks\":\"\",\"title\":{\"standoff\":15},\"zerolinecolor\":\"white\",\"automargin\":true,\"zerolinewidth\":2},\"yaxis\":{\"gridcolor\":\"white\",\"linecolor\":\"white\",\"ticks\":\"\",\"title\":{\"standoff\":15},\"zerolinecolor\":\"white\",\"automargin\":true,\"zerolinewidth\":2},\"scene\":{\"xaxis\":{\"backgroundcolor\":\"#E5ECF6\",\"gridcolor\":\"white\",\"linecolor\":\"white\",\"showbackground\":true,\"ticks\":\"\",\"zerolinecolor\":\"white\",\"gridwidth\":2},\"yaxis\":{\"backgroundcolor\":\"#E5ECF6\",\"gridcolor\":\"white\",\"linecolor\":\"white\",\"showbackground\":true,\"ticks\":\"\",\"zerolinecolor\":\"white\",\"gridwidth\":2},\"zaxis\":{\"backgroundcolor\":\"#E5ECF6\",\"gridcolor\":\"white\",\"linecolor\":\"white\",\"showbackground\":true,\"ticks\":\"\",\"zerolinecolor\":\"white\",\"gridwidth\":2}},\"shapedefaults\":{\"line\":{\"color\":\"#2a3f5f\"}},\"annotationdefaults\":{\"arrowcolor\":\"#2a3f5f\",\"arrowhead\":0,\"arrowwidth\":1},\"geo\":{\"bgcolor\":\"white\",\"landcolor\":\"#E5ECF6\",\"subunitcolor\":\"white\",\"showland\":true,\"showlakes\":true,\"lakecolor\":\"white\"},\"title\":{\"x\":0.05},\"mapbox\":{\"style\":\"light\"}}},\"xaxis\":{\"anchor\":\"y\",\"domain\":[0.0,1.0]},\"yaxis\":{\"anchor\":\"x\",\"domain\":[0.0,1.0],\"title\":{\"text\":\"Age\"}},\"legend\":{\"tracegroupgap\":0},\"margin\":{\"t\":60},\"boxmode\":\"group\"},                        {\"responsive\": true}                    )                };                            </script>        </div>\n",
              "</body>\n",
              "</html>"
            ]
          },
          "metadata": {},
          "execution_count": 21
        }
      ]
    },
    {
      "cell_type": "code",
      "source": [
        "fig = px.box(df, y=['Internships','CGPA', 'Age'])\n",
        "HTML(fig.to_html(include_plotlyjs='cdn'))"
      ],
      "metadata": {
        "colab": {
          "base_uri": "https://localhost:8080/",
          "height": 467
        },
        "id": "XMH38V3BlFzL",
        "outputId": "00c8a548-b06e-4326-eb4c-b98c5b79bf84"
      },
      "execution_count": 22,
      "outputs": [
        {
          "output_type": "execute_result",
          "data": {
            "text/plain": [
              "<IPython.core.display.HTML object>"
            ],
            "text/html": [
              "<html>\n",
              "<head><meta charset=\"utf-8\" /></head>\n",
              "<body>\n",
              "    <div>                        <script type=\"text/javascript\">window.PlotlyConfig = {MathJaxConfig: 'local'};</script>\n",
              "        <script charset=\"utf-8\" src=\"https://cdn.plot.ly/plotly-2.35.2.min.js\"></script>                <div id=\"082cabc6-ff11-4e56-822f-6b7365cce2ee\" class=\"plotly-graph-div\" style=\"height:100%; width:100%;\"></div>            <script type=\"text/javascript\">                                    window.PLOTLYENV=window.PLOTLYENV || {};                                    if (document.getElementById(\"082cabc6-ff11-4e56-822f-6b7365cce2ee\")) {                    Plotly.newPlot(                        \"082cabc6-ff11-4e56-822f-6b7365cce2ee\",                        [{\"alignmentgroup\":\"True\",\"hovertemplate\":\"variable=%{x}\\u003cbr\\u003evalue=%{y}\\u003cextra\\u003e\\u003c\\u002fextra\\u003e\",\"legendgroup\":\"\",\"marker\":{\"color\":\"#636efa\"},\"name\":\"\",\"notched\":false,\"offsetgroup\":\"\",\"orientation\":\"v\",\"showlegend\":false,\"x\":[\"Internships\",\"Internships\",\"Internships\",\"Internships\",\"Internships\",\"Internships\",\"Internships\",\"Internships\",\"Internships\",\"Internships\",\"Internships\",\"Internships\",\"Internships\",\"Internships\",\"Internships\",\"Internships\",\"Internships\",\"Internships\",\"Internships\",\"Internships\",\"Internships\",\"Internships\",\"Internships\",\"Internships\",\"Internships\",\"Internships\",\"Internships\",\"Internships\",\"Internships\",\"Internships\",\"Internships\",\"Internships\",\"Internships\",\"Internships\",\"Internships\",\"Internships\",\"Internships\",\"Internships\",\"Internships\",\"Internships\",\"Internships\",\"Internships\",\"Internships\",\"Internships\",\"Internships\",\"Internships\",\"Internships\",\"Internships\",\"Internships\",\"Internships\",\"Internships\",\"Internships\",\"Internships\",\"Internships\",\"Internships\",\"Internships\",\"Internships\",\"Internships\",\"Internships\",\"Internships\",\"Internships\",\"Internships\",\"Internships\",\"Internships\",\"Internships\",\"Internships\",\"Internships\",\"Internships\",\"Internships\",\"Internships\",\"Internships\",\"Internships\",\"Internships\",\"Internships\",\"Internships\",\"Internships\",\"Internships\",\"Internships\",\"Internships\",\"Internships\",\"Internships\",\"Internships\",\"Internships\",\"Internships\",\"Internships\",\"Internships\",\"Internships\",\"Internships\",\"Internships\",\"Internships\",\"Internships\",\"Internships\",\"Internships\",\"Internships\",\"Internships\",\"Internships\",\"Internships\",\"Internships\",\"Internships\",\"Internships\",\"Internships\",\"Internships\",\"Internships\",\"Internships\",\"Internships\",\"Internships\",\"Internships\",\"Internships\",\"Internships\",\"Internships\",\"Internships\",\"Internships\",\"Internships\",\"Internships\",\"Internships\",\"Internships\",\"Internships\",\"Internships\",\"Internships\",\"Internships\",\"Internships\",\"Internships\",\"Internships\",\"Internships\",\"Internships\",\"Internships\",\"Internships\",\"Internships\",\"Internships\",\"Internships\",\"Internships\",\"Internships\",\"Internships\",\"Internships\",\"Internships\",\"Internships\",\"Internships\",\"Internships\",\"Internships\",\"Internships\",\"Internships\",\"Internships\",\"Internships\",\"Internships\",\"Internships\",\"Internships\",\"Internships\",\"Internships\",\"Internships\",\"Internships\",\"Internships\",\"Internships\",\"Internships\",\"Internships\",\"Internships\",\"Internships\",\"Internships\",\"Internships\",\"Internships\",\"Internships\",\"Internships\",\"Internships\",\"Internships\",\"Internships\",\"Internships\",\"Internships\",\"Internships\",\"Internships\",\"Internships\",\"Internships\",\"Internships\",\"Internships\",\"Internships\",\"Internships\",\"Internships\",\"Internships\",\"Internships\",\"Internships\",\"Internships\",\"Internships\",\"Internships\",\"Internships\",\"Internships\",\"Internships\",\"Internships\",\"Internships\",\"Internships\",\"Internships\",\"Internships\",\"Internships\",\"Internships\",\"Internships\",\"Internships\",\"Internships\",\"Internships\",\"Internships\",\"Internships\",\"Internships\",\"Internships\",\"Internships\",\"Internships\",\"Internships\",\"Internships\",\"Internships\",\"Internships\",\"Internships\",\"Internships\",\"Internships\",\"Internships\",\"Internships\",\"Internships\",\"Internships\",\"Internships\",\"Internships\",\"Internships\",\"Internships\",\"Internships\",\"Internships\",\"Internships\",\"Internships\",\"Internships\",\"Internships\",\"Internships\",\"Internships\",\"Internships\",\"Internships\",\"Internships\",\"Internships\",\"Internships\",\"Internships\",\"Internships\",\"Internships\",\"Internships\",\"Internships\",\"Internships\",\"Internships\",\"Internships\",\"Internships\",\"Internships\",\"Internships\",\"Internships\",\"Internships\",\"Internships\",\"Internships\",\"Internships\",\"Internships\",\"Internships\",\"Internships\",\"Internships\",\"Internships\",\"Internships\",\"Internships\",\"Internships\",\"Internships\",\"Internships\",\"Internships\",\"Internships\",\"Internships\",\"Internships\",\"Internships\",\"Internships\",\"Internships\",\"Internships\",\"Internships\",\"Internships\",\"Internships\",\"Internships\",\"Internships\",\"Internships\",\"Internships\",\"Internships\",\"Internships\",\"Internships\",\"Internships\",\"Internships\",\"Internships\",\"Internships\",\"Internships\",\"Internships\",\"Internships\",\"Internships\",\"Internships\",\"Internships\",\"Internships\",\"Internships\",\"Internships\",\"Internships\",\"Internships\",\"Internships\",\"Internships\",\"Internships\",\"Internships\",\"Internships\",\"Internships\",\"Internships\",\"Internships\",\"Internships\",\"Internships\",\"Internships\",\"Internships\",\"Internships\",\"Internships\",\"Internships\",\"Internships\",\"Internships\",\"Internships\",\"Internships\",\"Internships\",\"Internships\",\"Internships\",\"Internships\",\"Internships\",\"Internships\",\"Internships\",\"Internships\",\"Internships\",\"Internships\",\"Internships\",\"Internships\",\"Internships\",\"Internships\",\"Internships\",\"Internships\",\"Internships\",\"Internships\",\"Internships\",\"Internships\",\"Internships\",\"Internships\",\"Internships\",\"Internships\",\"Internships\",\"Internships\",\"Internships\",\"Internships\",\"Internships\",\"Internships\",\"Internships\",\"Internships\",\"Internships\",\"Internships\",\"Internships\",\"Internships\",\"Internships\",\"Internships\",\"Internships\",\"Internships\",\"Internships\",\"Internships\",\"Internships\",\"Internships\",\"Internships\",\"Internships\",\"Internships\",\"Internships\",\"Internships\",\"Internships\",\"Internships\",\"Internships\",\"Internships\",\"Internships\",\"Internships\",\"Internships\",\"Internships\",\"Internships\",\"Internships\",\"Internships\",\"Internships\",\"Internships\",\"Internships\",\"Internships\",\"Internships\",\"Internships\",\"Internships\",\"Internships\",\"Internships\",\"Internships\",\"Internships\",\"Internships\",\"Internships\",\"Internships\",\"Internships\",\"Internships\",\"Internships\",\"Internships\",\"Internships\",\"Internships\",\"Internships\",\"Internships\",\"Internships\",\"Internships\",\"Internships\",\"Internships\",\"Internships\",\"Internships\",\"Internships\",\"Internships\",\"Internships\",\"Internships\",\"Internships\",\"Internships\",\"Internships\",\"Internships\",\"Internships\",\"Internships\",\"Internships\",\"Internships\",\"Internships\",\"Internships\",\"Internships\",\"Internships\",\"Internships\",\"Internships\",\"Internships\",\"Internships\",\"Internships\",\"Internships\",\"Internships\",\"Internships\",\"Internships\",\"Internships\",\"Internships\",\"Internships\",\"Internships\",\"Internships\",\"Internships\",\"Internships\",\"Internships\",\"Internships\",\"Internships\",\"Internships\",\"Internships\",\"Internships\",\"Internships\",\"Internships\",\"Internships\",\"Internships\",\"Internships\",\"Internships\",\"Internships\",\"Internships\",\"Internships\",\"Internships\",\"Internships\",\"Internships\",\"Internships\",\"Internships\",\"Internships\",\"Internships\",\"Internships\",\"Internships\",\"Internships\",\"Internships\",\"Internships\",\"Internships\",\"Internships\",\"Internships\",\"Internships\",\"Internships\",\"Internships\",\"Internships\",\"Internships\",\"Internships\",\"Internships\",\"Internships\",\"Internships\",\"Internships\",\"Internships\",\"Internships\",\"Internships\",\"Internships\",\"Internships\",\"Internships\",\"Internships\",\"Internships\",\"Internships\",\"Internships\",\"Internships\",\"Internships\",\"Internships\",\"Internships\",\"Internships\",\"Internships\",\"Internships\",\"Internships\",\"Internships\",\"Internships\",\"Internships\",\"Internships\",\"Internships\",\"Internships\",\"Internships\",\"Internships\",\"Internships\",\"Internships\",\"Internships\",\"Internships\",\"Internships\",\"Internships\",\"Internships\",\"Internships\",\"Internships\",\"Internships\",\"Internships\",\"Internships\",\"Internships\",\"Internships\",\"Internships\",\"Internships\",\"Internships\",\"Internships\",\"Internships\",\"Internships\",\"Internships\",\"Internships\",\"Internships\",\"Internships\",\"Internships\",\"Internships\",\"Internships\",\"Internships\",\"Internships\",\"Internships\",\"Internships\",\"Internships\",\"Internships\",\"Internships\",\"Internships\",\"Internships\",\"Internships\",\"Internships\",\"Internships\",\"Internships\",\"Internships\",\"Internships\",\"Internships\",\"Internships\",\"Internships\",\"Internships\",\"Internships\",\"Internships\",\"Internships\",\"Internships\",\"Internships\",\"Internships\",\"Internships\",\"Internships\",\"Internships\",\"Internships\",\"Internships\",\"Internships\",\"Internships\",\"Internships\",\"Internships\",\"Internships\",\"Internships\",\"Internships\",\"Internships\",\"Internships\",\"Internships\",\"Internships\",\"Internships\",\"Internships\",\"Internships\",\"Internships\",\"Internships\",\"Internships\",\"Internships\",\"Internships\",\"Internships\",\"Internships\",\"Internships\",\"Internships\",\"Internships\",\"Internships\",\"Internships\",\"Internships\",\"Internships\",\"Internships\",\"Internships\",\"Internships\",\"Internships\",\"Internships\",\"Internships\",\"Internships\",\"Internships\",\"Internships\",\"Internships\",\"Internships\",\"Internships\",\"Internships\",\"Internships\",\"Internships\",\"Internships\",\"Internships\",\"Internships\",\"Internships\",\"Internships\",\"Internships\",\"Internships\",\"Internships\",\"Internships\",\"Internships\",\"Internships\",\"Internships\",\"Internships\",\"Internships\",\"Internships\",\"Internships\",\"Internships\",\"Internships\",\"Internships\",\"Internships\",\"Internships\",\"Internships\",\"Internships\",\"Internships\",\"Internships\",\"Internships\",\"Internships\",\"Internships\",\"Internships\",\"Internships\",\"Internships\",\"Internships\",\"Internships\",\"Internships\",\"Internships\",\"Internships\",\"Internships\",\"Internships\",\"Internships\",\"Internships\",\"Internships\",\"Internships\",\"Internships\",\"Internships\",\"Internships\",\"Internships\",\"Internships\",\"Internships\",\"Internships\",\"Internships\",\"Internships\",\"Internships\",\"Internships\",\"Internships\",\"Internships\",\"Internships\",\"Internships\",\"Internships\",\"Internships\",\"Internships\",\"Internships\",\"Internships\",\"Internships\",\"Internships\",\"Internships\",\"Internships\",\"Internships\",\"Internships\",\"Internships\",\"Internships\",\"Internships\",\"Internships\",\"Internships\",\"Internships\",\"Internships\",\"Internships\",\"Internships\",\"Internships\",\"Internships\",\"Internships\",\"Internships\",\"Internships\",\"Internships\",\"Internships\",\"Internships\",\"Internships\",\"Internships\",\"Internships\",\"Internships\",\"Internships\",\"Internships\",\"Internships\",\"Internships\",\"Internships\",\"Internships\",\"Internships\",\"Internships\",\"Internships\",\"Internships\",\"Internships\",\"Internships\",\"Internships\",\"Internships\",\"Internships\",\"Internships\",\"Internships\",\"Internships\",\"Internships\",\"Internships\",\"Internships\",\"Internships\",\"Internships\",\"Internships\",\"Internships\",\"Internships\",\"Internships\",\"Internships\",\"Internships\",\"Internships\",\"Internships\",\"Internships\",\"Internships\",\"Internships\",\"Internships\",\"Internships\",\"Internships\",\"Internships\",\"Internships\",\"Internships\",\"Internships\",\"Internships\",\"Internships\",\"Internships\",\"Internships\",\"Internships\",\"Internships\",\"Internships\",\"Internships\",\"Internships\",\"Internships\",\"Internships\",\"Internships\",\"Internships\",\"Internships\",\"Internships\",\"Internships\",\"Internships\",\"Internships\",\"Internships\",\"Internships\",\"Internships\",\"Internships\",\"Internships\",\"Internships\",\"Internships\",\"Internships\",\"Internships\",\"Internships\",\"Internships\",\"Internships\",\"Internships\",\"Internships\",\"Internships\",\"Internships\",\"Internships\",\"Internships\",\"Internships\",\"Internships\",\"Internships\",\"Internships\",\"Internships\",\"Internships\",\"Internships\",\"Internships\",\"Internships\",\"Internships\",\"Internships\",\"Internships\",\"Internships\",\"Internships\",\"Internships\",\"Internships\",\"Internships\",\"Internships\",\"Internships\",\"Internships\",\"Internships\",\"Internships\",\"Internships\",\"Internships\",\"Internships\",\"Internships\",\"Internships\",\"Internships\",\"Internships\",\"Internships\",\"Internships\",\"Internships\",\"Internships\",\"Internships\",\"Internships\",\"Internships\",\"Internships\",\"Internships\",\"Internships\",\"Internships\",\"Internships\",\"Internships\",\"Internships\",\"Internships\",\"Internships\",\"Internships\",\"Internships\",\"Internships\",\"Internships\",\"Internships\",\"Internships\",\"Internships\",\"Internships\",\"Internships\",\"Internships\",\"Internships\",\"Internships\",\"Internships\",\"Internships\",\"Internships\",\"Internships\",\"Internships\",\"Internships\",\"Internships\",\"Internships\",\"Internships\",\"Internships\",\"Internships\",\"Internships\",\"Internships\",\"Internships\",\"Internships\",\"Internships\",\"Internships\",\"Internships\",\"Internships\",\"Internships\",\"Internships\",\"Internships\",\"Internships\",\"Internships\",\"Internships\",\"Internships\",\"Internships\",\"Internships\",\"Internships\",\"Internships\",\"Internships\",\"Internships\",\"Internships\",\"Internships\",\"Internships\",\"Internships\",\"Internships\",\"Internships\",\"Internships\",\"Internships\",\"Internships\",\"Internships\",\"Internships\",\"Internships\",\"Internships\",\"Internships\",\"Internships\",\"Internships\",\"Internships\",\"Internships\",\"Internships\",\"Internships\",\"Internships\",\"Internships\",\"Internships\",\"Internships\",\"Internships\",\"Internships\",\"Internships\",\"Internships\",\"Internships\",\"Internships\",\"Internships\",\"Internships\",\"Internships\",\"Internships\",\"Internships\",\"Internships\",\"Internships\",\"Internships\",\"Internships\",\"Internships\",\"Internships\",\"Internships\",\"Internships\",\"Internships\",\"Internships\",\"Internships\",\"Internships\",\"Internships\",\"Internships\",\"Internships\",\"Internships\",\"Internships\",\"Internships\",\"Internships\",\"Internships\",\"Internships\",\"Internships\",\"Internships\",\"Internships\",\"Internships\",\"Internships\",\"Internships\",\"Internships\",\"Internships\",\"Internships\",\"Internships\",\"Internships\",\"Internships\",\"Internships\",\"Internships\",\"Internships\",\"Internships\",\"Internships\",\"Internships\",\"Internships\",\"Internships\",\"Internships\",\"Internships\",\"Internships\",\"Internships\",\"Internships\",\"Internships\",\"Internships\",\"Internships\",\"Internships\",\"Internships\",\"Internships\",\"Internships\",\"Internships\",\"Internships\",\"Internships\",\"Internships\",\"Internships\",\"Internships\",\"Internships\",\"Internships\",\"Internships\",\"Internships\",\"Internships\",\"Internships\",\"Internships\",\"Internships\",\"Internships\",\"Internships\",\"Internships\",\"Internships\",\"Internships\",\"Internships\",\"Internships\",\"Internships\",\"Internships\",\"Internships\",\"Internships\",\"Internships\",\"Internships\",\"Internships\",\"Internships\",\"Internships\",\"Internships\",\"Internships\",\"Internships\",\"Internships\",\"Internships\",\"Internships\",\"Internships\",\"Internships\",\"Internships\",\"Internships\",\"Internships\",\"Internships\",\"Internships\",\"Internships\",\"Internships\",\"Internships\",\"Internships\",\"Internships\",\"Internships\",\"Internships\",\"Internships\",\"Internships\",\"Internships\",\"Internships\",\"Internships\",\"Internships\",\"Internships\",\"Internships\",\"Internships\",\"Internships\",\"Internships\",\"Internships\",\"Internships\",\"Internships\",\"Internships\",\"Internships\",\"Internships\",\"Internships\",\"Internships\",\"Internships\",\"Internships\",\"Internships\",\"Internships\",\"Internships\",\"Internships\",\"Internships\",\"Internships\",\"Internships\",\"Internships\",\"Internships\",\"Internships\",\"Internships\",\"Internships\",\"Internships\",\"Internships\",\"Internships\",\"Internships\",\"Internships\",\"Internships\",\"Internships\",\"Internships\",\"Internships\",\"Internships\",\"Internships\",\"Internships\",\"Internships\",\"Internships\",\"Internships\",\"Internships\",\"Internships\",\"Internships\",\"Internships\",\"Internships\",\"Internships\",\"Internships\",\"Internships\",\"Internships\",\"Internships\",\"Internships\",\"Internships\",\"Internships\",\"Internships\",\"Internships\",\"Internships\",\"Internships\",\"Internships\",\"Internships\",\"Internships\",\"Internships\",\"Internships\",\"Internships\",\"Internships\",\"Internships\",\"Internships\",\"Internships\",\"Internships\",\"Internships\",\"Internships\",\"Internships\",\"Internships\",\"Internships\",\"Internships\",\"Internships\",\"Internships\",\"Internships\",\"Internships\",\"Internships\",\"Internships\",\"Internships\",\"Internships\",\"Internships\",\"Internships\",\"Internships\",\"Internships\",\"Internships\",\"Internships\",\"Internships\",\"Internships\",\"Internships\",\"Internships\",\"Internships\",\"Internships\",\"Internships\",\"Internships\",\"Internships\",\"Internships\",\"Internships\",\"Internships\",\"Internships\",\"Internships\",\"Internships\",\"Internships\",\"Internships\",\"Internships\",\"Internships\",\"Internships\",\"Internships\",\"Internships\",\"Internships\",\"Internships\",\"Internships\",\"Internships\",\"Internships\",\"Internships\",\"Internships\",\"Internships\",\"Internships\",\"Internships\",\"Internships\",\"Internships\",\"Internships\",\"Internships\",\"Internships\",\"Internships\",\"Internships\",\"Internships\",\"Internships\",\"Internships\",\"Internships\",\"Internships\",\"Internships\",\"Internships\",\"Internships\",\"Internships\",\"Internships\",\"Internships\",\"Internships\",\"Internships\",\"Internships\",\"Internships\",\"Internships\",\"CGPA\",\"CGPA\",\"CGPA\",\"CGPA\",\"CGPA\",\"CGPA\",\"CGPA\",\"CGPA\",\"CGPA\",\"CGPA\",\"CGPA\",\"CGPA\",\"CGPA\",\"CGPA\",\"CGPA\",\"CGPA\",\"CGPA\",\"CGPA\",\"CGPA\",\"CGPA\",\"CGPA\",\"CGPA\",\"CGPA\",\"CGPA\",\"CGPA\",\"CGPA\",\"CGPA\",\"CGPA\",\"CGPA\",\"CGPA\",\"CGPA\",\"CGPA\",\"CGPA\",\"CGPA\",\"CGPA\",\"CGPA\",\"CGPA\",\"CGPA\",\"CGPA\",\"CGPA\",\"CGPA\",\"CGPA\",\"CGPA\",\"CGPA\",\"CGPA\",\"CGPA\",\"CGPA\",\"CGPA\",\"CGPA\",\"CGPA\",\"CGPA\",\"CGPA\",\"CGPA\",\"CGPA\",\"CGPA\",\"CGPA\",\"CGPA\",\"CGPA\",\"CGPA\",\"CGPA\",\"CGPA\",\"CGPA\",\"CGPA\",\"CGPA\",\"CGPA\",\"CGPA\",\"CGPA\",\"CGPA\",\"CGPA\",\"CGPA\",\"CGPA\",\"CGPA\",\"CGPA\",\"CGPA\",\"CGPA\",\"CGPA\",\"CGPA\",\"CGPA\",\"CGPA\",\"CGPA\",\"CGPA\",\"CGPA\",\"CGPA\",\"CGPA\",\"CGPA\",\"CGPA\",\"CGPA\",\"CGPA\",\"CGPA\",\"CGPA\",\"CGPA\",\"CGPA\",\"CGPA\",\"CGPA\",\"CGPA\",\"CGPA\",\"CGPA\",\"CGPA\",\"CGPA\",\"CGPA\",\"CGPA\",\"CGPA\",\"CGPA\",\"CGPA\",\"CGPA\",\"CGPA\",\"CGPA\",\"CGPA\",\"CGPA\",\"CGPA\",\"CGPA\",\"CGPA\",\"CGPA\",\"CGPA\",\"CGPA\",\"CGPA\",\"CGPA\",\"CGPA\",\"CGPA\",\"CGPA\",\"CGPA\",\"CGPA\",\"CGPA\",\"CGPA\",\"CGPA\",\"CGPA\",\"CGPA\",\"CGPA\",\"CGPA\",\"CGPA\",\"CGPA\",\"CGPA\",\"CGPA\",\"CGPA\",\"CGPA\",\"CGPA\",\"CGPA\",\"CGPA\",\"CGPA\",\"CGPA\",\"CGPA\",\"CGPA\",\"CGPA\",\"CGPA\",\"CGPA\",\"CGPA\",\"CGPA\",\"CGPA\",\"CGPA\",\"CGPA\",\"CGPA\",\"CGPA\",\"CGPA\",\"CGPA\",\"CGPA\",\"CGPA\",\"CGPA\",\"CGPA\",\"CGPA\",\"CGPA\",\"CGPA\",\"CGPA\",\"CGPA\",\"CGPA\",\"CGPA\",\"CGPA\",\"CGPA\",\"CGPA\",\"CGPA\",\"CGPA\",\"CGPA\",\"CGPA\",\"CGPA\",\"CGPA\",\"CGPA\",\"CGPA\",\"CGPA\",\"CGPA\",\"CGPA\",\"CGPA\",\"CGPA\",\"CGPA\",\"CGPA\",\"CGPA\",\"CGPA\",\"CGPA\",\"CGPA\",\"CGPA\",\"CGPA\",\"CGPA\",\"CGPA\",\"CGPA\",\"CGPA\",\"CGPA\",\"CGPA\",\"CGPA\",\"CGPA\",\"CGPA\",\"CGPA\",\"CGPA\",\"CGPA\",\"CGPA\",\"CGPA\",\"CGPA\",\"CGPA\",\"CGPA\",\"CGPA\",\"CGPA\",\"CGPA\",\"CGPA\",\"CGPA\",\"CGPA\",\"CGPA\",\"CGPA\",\"CGPA\",\"CGPA\",\"CGPA\",\"CGPA\",\"CGPA\",\"CGPA\",\"CGPA\",\"CGPA\",\"CGPA\",\"CGPA\",\"CGPA\",\"CGPA\",\"CGPA\",\"CGPA\",\"CGPA\",\"CGPA\",\"CGPA\",\"CGPA\",\"CGPA\",\"CGPA\",\"CGPA\",\"CGPA\",\"CGPA\",\"CGPA\",\"CGPA\",\"CGPA\",\"CGPA\",\"CGPA\",\"CGPA\",\"CGPA\",\"CGPA\",\"CGPA\",\"CGPA\",\"CGPA\",\"CGPA\",\"CGPA\",\"CGPA\",\"CGPA\",\"CGPA\",\"CGPA\",\"CGPA\",\"CGPA\",\"CGPA\",\"CGPA\",\"CGPA\",\"CGPA\",\"CGPA\",\"CGPA\",\"CGPA\",\"CGPA\",\"CGPA\",\"CGPA\",\"CGPA\",\"CGPA\",\"CGPA\",\"CGPA\",\"CGPA\",\"CGPA\",\"CGPA\",\"CGPA\",\"CGPA\",\"CGPA\",\"CGPA\",\"CGPA\",\"CGPA\",\"CGPA\",\"CGPA\",\"CGPA\",\"CGPA\",\"CGPA\",\"CGPA\",\"CGPA\",\"CGPA\",\"CGPA\",\"CGPA\",\"CGPA\",\"CGPA\",\"CGPA\",\"CGPA\",\"CGPA\",\"CGPA\",\"CGPA\",\"CGPA\",\"CGPA\",\"CGPA\",\"CGPA\",\"CGPA\",\"CGPA\",\"CGPA\",\"CGPA\",\"CGPA\",\"CGPA\",\"CGPA\",\"CGPA\",\"CGPA\",\"CGPA\",\"CGPA\",\"CGPA\",\"CGPA\",\"CGPA\",\"CGPA\",\"CGPA\",\"CGPA\",\"CGPA\",\"CGPA\",\"CGPA\",\"CGPA\",\"CGPA\",\"CGPA\",\"CGPA\",\"CGPA\",\"CGPA\",\"CGPA\",\"CGPA\",\"CGPA\",\"CGPA\",\"CGPA\",\"CGPA\",\"CGPA\",\"CGPA\",\"CGPA\",\"CGPA\",\"CGPA\",\"CGPA\",\"CGPA\",\"CGPA\",\"CGPA\",\"CGPA\",\"CGPA\",\"CGPA\",\"CGPA\",\"CGPA\",\"CGPA\",\"CGPA\",\"CGPA\",\"CGPA\",\"CGPA\",\"CGPA\",\"CGPA\",\"CGPA\",\"CGPA\",\"CGPA\",\"CGPA\",\"CGPA\",\"CGPA\",\"CGPA\",\"CGPA\",\"CGPA\",\"CGPA\",\"CGPA\",\"CGPA\",\"CGPA\",\"CGPA\",\"CGPA\",\"CGPA\",\"CGPA\",\"CGPA\",\"CGPA\",\"CGPA\",\"CGPA\",\"CGPA\",\"CGPA\",\"CGPA\",\"CGPA\",\"CGPA\",\"CGPA\",\"CGPA\",\"CGPA\",\"CGPA\",\"CGPA\",\"CGPA\",\"CGPA\",\"CGPA\",\"CGPA\",\"CGPA\",\"CGPA\",\"CGPA\",\"CGPA\",\"CGPA\",\"CGPA\",\"CGPA\",\"CGPA\",\"CGPA\",\"CGPA\",\"CGPA\",\"CGPA\",\"CGPA\",\"CGPA\",\"CGPA\",\"CGPA\",\"CGPA\",\"CGPA\",\"CGPA\",\"CGPA\",\"CGPA\",\"CGPA\",\"CGPA\",\"CGPA\",\"CGPA\",\"CGPA\",\"CGPA\",\"CGPA\",\"CGPA\",\"CGPA\",\"CGPA\",\"CGPA\",\"CGPA\",\"CGPA\",\"CGPA\",\"CGPA\",\"CGPA\",\"CGPA\",\"CGPA\",\"CGPA\",\"CGPA\",\"CGPA\",\"CGPA\",\"CGPA\",\"CGPA\",\"CGPA\",\"CGPA\",\"CGPA\",\"CGPA\",\"CGPA\",\"CGPA\",\"CGPA\",\"CGPA\",\"CGPA\",\"CGPA\",\"CGPA\",\"CGPA\",\"CGPA\",\"CGPA\",\"CGPA\",\"CGPA\",\"CGPA\",\"CGPA\",\"CGPA\",\"CGPA\",\"CGPA\",\"CGPA\",\"CGPA\",\"CGPA\",\"CGPA\",\"CGPA\",\"CGPA\",\"CGPA\",\"CGPA\",\"CGPA\",\"CGPA\",\"CGPA\",\"CGPA\",\"CGPA\",\"CGPA\",\"CGPA\",\"CGPA\",\"CGPA\",\"CGPA\",\"CGPA\",\"CGPA\",\"CGPA\",\"CGPA\",\"CGPA\",\"CGPA\",\"CGPA\",\"CGPA\",\"CGPA\",\"CGPA\",\"CGPA\",\"CGPA\",\"CGPA\",\"CGPA\",\"CGPA\",\"CGPA\",\"CGPA\",\"CGPA\",\"CGPA\",\"CGPA\",\"CGPA\",\"CGPA\",\"CGPA\",\"CGPA\",\"CGPA\",\"CGPA\",\"CGPA\",\"CGPA\",\"CGPA\",\"CGPA\",\"CGPA\",\"CGPA\",\"CGPA\",\"CGPA\",\"CGPA\",\"CGPA\",\"CGPA\",\"CGPA\",\"CGPA\",\"CGPA\",\"CGPA\",\"CGPA\",\"CGPA\",\"CGPA\",\"CGPA\",\"CGPA\",\"CGPA\",\"CGPA\",\"CGPA\",\"CGPA\",\"CGPA\",\"CGPA\",\"CGPA\",\"CGPA\",\"CGPA\",\"CGPA\",\"CGPA\",\"CGPA\",\"CGPA\",\"CGPA\",\"CGPA\",\"CGPA\",\"CGPA\",\"CGPA\",\"CGPA\",\"CGPA\",\"CGPA\",\"CGPA\",\"CGPA\",\"CGPA\",\"CGPA\",\"CGPA\",\"CGPA\",\"CGPA\",\"CGPA\",\"CGPA\",\"CGPA\",\"CGPA\",\"CGPA\",\"CGPA\",\"CGPA\",\"CGPA\",\"CGPA\",\"CGPA\",\"CGPA\",\"CGPA\",\"CGPA\",\"CGPA\",\"CGPA\",\"CGPA\",\"CGPA\",\"CGPA\",\"CGPA\",\"CGPA\",\"CGPA\",\"CGPA\",\"CGPA\",\"CGPA\",\"CGPA\",\"CGPA\",\"CGPA\",\"CGPA\",\"CGPA\",\"CGPA\",\"CGPA\",\"CGPA\",\"CGPA\",\"CGPA\",\"CGPA\",\"CGPA\",\"CGPA\",\"CGPA\",\"CGPA\",\"CGPA\",\"CGPA\",\"CGPA\",\"CGPA\",\"CGPA\",\"CGPA\",\"CGPA\",\"CGPA\",\"CGPA\",\"CGPA\",\"CGPA\",\"CGPA\",\"CGPA\",\"CGPA\",\"CGPA\",\"CGPA\",\"CGPA\",\"CGPA\",\"CGPA\",\"CGPA\",\"CGPA\",\"CGPA\",\"CGPA\",\"CGPA\",\"CGPA\",\"CGPA\",\"CGPA\",\"CGPA\",\"CGPA\",\"CGPA\",\"CGPA\",\"CGPA\",\"CGPA\",\"CGPA\",\"CGPA\",\"CGPA\",\"CGPA\",\"CGPA\",\"CGPA\",\"CGPA\",\"CGPA\",\"CGPA\",\"CGPA\",\"CGPA\",\"CGPA\",\"CGPA\",\"CGPA\",\"CGPA\",\"CGPA\",\"CGPA\",\"CGPA\",\"CGPA\",\"CGPA\",\"CGPA\",\"CGPA\",\"CGPA\",\"CGPA\",\"CGPA\",\"CGPA\",\"CGPA\",\"CGPA\",\"CGPA\",\"CGPA\",\"CGPA\",\"CGPA\",\"CGPA\",\"CGPA\",\"CGPA\",\"CGPA\",\"CGPA\",\"CGPA\",\"CGPA\",\"CGPA\",\"CGPA\",\"CGPA\",\"CGPA\",\"CGPA\",\"CGPA\",\"CGPA\",\"CGPA\",\"CGPA\",\"CGPA\",\"CGPA\",\"CGPA\",\"CGPA\",\"CGPA\",\"CGPA\",\"CGPA\",\"CGPA\",\"CGPA\",\"CGPA\",\"CGPA\",\"CGPA\",\"CGPA\",\"CGPA\",\"CGPA\",\"CGPA\",\"CGPA\",\"CGPA\",\"CGPA\",\"CGPA\",\"CGPA\",\"CGPA\",\"CGPA\",\"CGPA\",\"CGPA\",\"CGPA\",\"CGPA\",\"CGPA\",\"CGPA\",\"CGPA\",\"CGPA\",\"CGPA\",\"CGPA\",\"CGPA\",\"CGPA\",\"CGPA\",\"CGPA\",\"CGPA\",\"CGPA\",\"CGPA\",\"CGPA\",\"CGPA\",\"CGPA\",\"CGPA\",\"CGPA\",\"CGPA\",\"CGPA\",\"CGPA\",\"CGPA\",\"CGPA\",\"CGPA\",\"CGPA\",\"CGPA\",\"CGPA\",\"CGPA\",\"CGPA\",\"CGPA\",\"CGPA\",\"CGPA\",\"CGPA\",\"CGPA\",\"CGPA\",\"CGPA\",\"CGPA\",\"CGPA\",\"CGPA\",\"CGPA\",\"CGPA\",\"CGPA\",\"CGPA\",\"CGPA\",\"CGPA\",\"CGPA\",\"CGPA\",\"CGPA\",\"CGPA\",\"CGPA\",\"CGPA\",\"CGPA\",\"CGPA\",\"CGPA\",\"CGPA\",\"CGPA\",\"CGPA\",\"CGPA\",\"CGPA\",\"CGPA\",\"CGPA\",\"CGPA\",\"CGPA\",\"CGPA\",\"CGPA\",\"CGPA\",\"CGPA\",\"CGPA\",\"CGPA\",\"CGPA\",\"CGPA\",\"CGPA\",\"CGPA\",\"CGPA\",\"CGPA\",\"CGPA\",\"CGPA\",\"CGPA\",\"CGPA\",\"CGPA\",\"CGPA\",\"CGPA\",\"CGPA\",\"CGPA\",\"CGPA\",\"CGPA\",\"CGPA\",\"CGPA\",\"CGPA\",\"CGPA\",\"CGPA\",\"CGPA\",\"CGPA\",\"CGPA\",\"CGPA\",\"CGPA\",\"CGPA\",\"CGPA\",\"CGPA\",\"CGPA\",\"CGPA\",\"CGPA\",\"CGPA\",\"CGPA\",\"CGPA\",\"CGPA\",\"CGPA\",\"CGPA\",\"CGPA\",\"CGPA\",\"CGPA\",\"CGPA\",\"CGPA\",\"CGPA\",\"CGPA\",\"CGPA\",\"CGPA\",\"CGPA\",\"CGPA\",\"CGPA\",\"CGPA\",\"CGPA\",\"CGPA\",\"CGPA\",\"CGPA\",\"CGPA\",\"CGPA\",\"CGPA\",\"CGPA\",\"CGPA\",\"CGPA\",\"CGPA\",\"CGPA\",\"CGPA\",\"CGPA\",\"CGPA\",\"CGPA\",\"CGPA\",\"CGPA\",\"CGPA\",\"CGPA\",\"CGPA\",\"CGPA\",\"CGPA\",\"CGPA\",\"CGPA\",\"CGPA\",\"CGPA\",\"CGPA\",\"CGPA\",\"CGPA\",\"CGPA\",\"CGPA\",\"CGPA\",\"CGPA\",\"CGPA\",\"CGPA\",\"CGPA\",\"CGPA\",\"CGPA\",\"CGPA\",\"CGPA\",\"CGPA\",\"CGPA\",\"CGPA\",\"CGPA\",\"CGPA\",\"CGPA\",\"CGPA\",\"CGPA\",\"CGPA\",\"CGPA\",\"CGPA\",\"CGPA\",\"CGPA\",\"CGPA\",\"CGPA\",\"CGPA\",\"CGPA\",\"CGPA\",\"CGPA\",\"CGPA\",\"CGPA\",\"CGPA\",\"CGPA\",\"CGPA\",\"CGPA\",\"CGPA\",\"CGPA\",\"CGPA\",\"CGPA\",\"CGPA\",\"CGPA\",\"CGPA\",\"CGPA\",\"CGPA\",\"CGPA\",\"CGPA\",\"CGPA\",\"CGPA\",\"CGPA\",\"CGPA\",\"CGPA\",\"CGPA\",\"CGPA\",\"CGPA\",\"CGPA\",\"CGPA\",\"CGPA\",\"CGPA\",\"CGPA\",\"CGPA\",\"CGPA\",\"CGPA\",\"CGPA\",\"CGPA\",\"CGPA\",\"CGPA\",\"CGPA\",\"CGPA\",\"CGPA\",\"CGPA\",\"CGPA\",\"CGPA\",\"CGPA\",\"CGPA\",\"CGPA\",\"CGPA\",\"CGPA\",\"CGPA\",\"CGPA\",\"CGPA\",\"CGPA\",\"CGPA\",\"CGPA\",\"CGPA\",\"CGPA\",\"CGPA\",\"CGPA\",\"CGPA\",\"CGPA\",\"CGPA\",\"CGPA\",\"CGPA\",\"CGPA\",\"CGPA\",\"CGPA\",\"CGPA\",\"CGPA\",\"CGPA\",\"CGPA\",\"CGPA\",\"CGPA\",\"CGPA\",\"CGPA\",\"CGPA\",\"CGPA\",\"CGPA\",\"CGPA\",\"CGPA\",\"CGPA\",\"CGPA\",\"CGPA\",\"CGPA\",\"CGPA\",\"CGPA\",\"CGPA\",\"CGPA\",\"CGPA\",\"CGPA\",\"CGPA\",\"CGPA\",\"CGPA\",\"CGPA\",\"CGPA\",\"CGPA\",\"CGPA\",\"CGPA\",\"CGPA\",\"CGPA\",\"CGPA\",\"CGPA\",\"CGPA\",\"CGPA\",\"CGPA\",\"CGPA\",\"CGPA\",\"CGPA\",\"CGPA\",\"CGPA\",\"CGPA\",\"CGPA\",\"CGPA\",\"CGPA\",\"CGPA\",\"CGPA\",\"CGPA\",\"CGPA\",\"CGPA\",\"CGPA\",\"CGPA\",\"CGPA\",\"CGPA\",\"CGPA\",\"CGPA\",\"CGPA\",\"CGPA\",\"CGPA\",\"CGPA\",\"CGPA\",\"CGPA\",\"CGPA\",\"CGPA\",\"CGPA\",\"CGPA\",\"CGPA\",\"CGPA\",\"CGPA\",\"CGPA\",\"CGPA\",\"CGPA\",\"CGPA\",\"CGPA\",\"CGPA\",\"CGPA\",\"CGPA\",\"CGPA\",\"CGPA\",\"CGPA\",\"CGPA\",\"CGPA\",\"CGPA\",\"CGPA\",\"CGPA\",\"CGPA\",\"CGPA\",\"CGPA\",\"CGPA\",\"CGPA\",\"CGPA\",\"CGPA\",\"CGPA\",\"CGPA\",\"CGPA\",\"CGPA\",\"CGPA\",\"CGPA\",\"CGPA\",\"CGPA\",\"CGPA\",\"CGPA\",\"CGPA\",\"CGPA\",\"CGPA\",\"CGPA\",\"CGPA\",\"CGPA\",\"CGPA\",\"CGPA\",\"CGPA\",\"CGPA\",\"CGPA\",\"CGPA\",\"CGPA\",\"CGPA\",\"CGPA\",\"CGPA\",\"CGPA\",\"CGPA\",\"CGPA\",\"CGPA\",\"CGPA\",\"CGPA\",\"CGPA\",\"CGPA\",\"CGPA\",\"CGPA\",\"CGPA\",\"CGPA\",\"CGPA\",\"CGPA\",\"CGPA\",\"CGPA\",\"CGPA\",\"CGPA\",\"CGPA\",\"CGPA\",\"CGPA\",\"CGPA\",\"CGPA\",\"CGPA\",\"CGPA\",\"CGPA\",\"CGPA\",\"CGPA\",\"CGPA\",\"CGPA\",\"CGPA\",\"CGPA\",\"CGPA\",\"CGPA\",\"CGPA\",\"CGPA\",\"CGPA\",\"CGPA\",\"CGPA\",\"CGPA\",\"CGPA\",\"CGPA\",\"CGPA\",\"CGPA\",\"CGPA\",\"CGPA\",\"CGPA\",\"CGPA\",\"CGPA\",\"CGPA\",\"CGPA\",\"CGPA\",\"CGPA\",\"CGPA\",\"CGPA\",\"CGPA\",\"CGPA\",\"CGPA\",\"CGPA\",\"CGPA\",\"CGPA\",\"CGPA\",\"CGPA\",\"CGPA\",\"CGPA\",\"CGPA\",\"CGPA\",\"CGPA\",\"CGPA\",\"CGPA\",\"CGPA\",\"CGPA\",\"CGPA\",\"CGPA\",\"CGPA\",\"CGPA\",\"CGPA\",\"Age\",\"Age\",\"Age\",\"Age\",\"Age\",\"Age\",\"Age\",\"Age\",\"Age\",\"Age\",\"Age\",\"Age\",\"Age\",\"Age\",\"Age\",\"Age\",\"Age\",\"Age\",\"Age\",\"Age\",\"Age\",\"Age\",\"Age\",\"Age\",\"Age\",\"Age\",\"Age\",\"Age\",\"Age\",\"Age\",\"Age\",\"Age\",\"Age\",\"Age\",\"Age\",\"Age\",\"Age\",\"Age\",\"Age\",\"Age\",\"Age\",\"Age\",\"Age\",\"Age\",\"Age\",\"Age\",\"Age\",\"Age\",\"Age\",\"Age\",\"Age\",\"Age\",\"Age\",\"Age\",\"Age\",\"Age\",\"Age\",\"Age\",\"Age\",\"Age\",\"Age\",\"Age\",\"Age\",\"Age\",\"Age\",\"Age\",\"Age\",\"Age\",\"Age\",\"Age\",\"Age\",\"Age\",\"Age\",\"Age\",\"Age\",\"Age\",\"Age\",\"Age\",\"Age\",\"Age\",\"Age\",\"Age\",\"Age\",\"Age\",\"Age\",\"Age\",\"Age\",\"Age\",\"Age\",\"Age\",\"Age\",\"Age\",\"Age\",\"Age\",\"Age\",\"Age\",\"Age\",\"Age\",\"Age\",\"Age\",\"Age\",\"Age\",\"Age\",\"Age\",\"Age\",\"Age\",\"Age\",\"Age\",\"Age\",\"Age\",\"Age\",\"Age\",\"Age\",\"Age\",\"Age\",\"Age\",\"Age\",\"Age\",\"Age\",\"Age\",\"Age\",\"Age\",\"Age\",\"Age\",\"Age\",\"Age\",\"Age\",\"Age\",\"Age\",\"Age\",\"Age\",\"Age\",\"Age\",\"Age\",\"Age\",\"Age\",\"Age\",\"Age\",\"Age\",\"Age\",\"Age\",\"Age\",\"Age\",\"Age\",\"Age\",\"Age\",\"Age\",\"Age\",\"Age\",\"Age\",\"Age\",\"Age\",\"Age\",\"Age\",\"Age\",\"Age\",\"Age\",\"Age\",\"Age\",\"Age\",\"Age\",\"Age\",\"Age\",\"Age\",\"Age\",\"Age\",\"Age\",\"Age\",\"Age\",\"Age\",\"Age\",\"Age\",\"Age\",\"Age\",\"Age\",\"Age\",\"Age\",\"Age\",\"Age\",\"Age\",\"Age\",\"Age\",\"Age\",\"Age\",\"Age\",\"Age\",\"Age\",\"Age\",\"Age\",\"Age\",\"Age\",\"Age\",\"Age\",\"Age\",\"Age\",\"Age\",\"Age\",\"Age\",\"Age\",\"Age\",\"Age\",\"Age\",\"Age\",\"Age\",\"Age\",\"Age\",\"Age\",\"Age\",\"Age\",\"Age\",\"Age\",\"Age\",\"Age\",\"Age\",\"Age\",\"Age\",\"Age\",\"Age\",\"Age\",\"Age\",\"Age\",\"Age\",\"Age\",\"Age\",\"Age\",\"Age\",\"Age\",\"Age\",\"Age\",\"Age\",\"Age\",\"Age\",\"Age\",\"Age\",\"Age\",\"Age\",\"Age\",\"Age\",\"Age\",\"Age\",\"Age\",\"Age\",\"Age\",\"Age\",\"Age\",\"Age\",\"Age\",\"Age\",\"Age\",\"Age\",\"Age\",\"Age\",\"Age\",\"Age\",\"Age\",\"Age\",\"Age\",\"Age\",\"Age\",\"Age\",\"Age\",\"Age\",\"Age\",\"Age\",\"Age\",\"Age\",\"Age\",\"Age\",\"Age\",\"Age\",\"Age\",\"Age\",\"Age\",\"Age\",\"Age\",\"Age\",\"Age\",\"Age\",\"Age\",\"Age\",\"Age\",\"Age\",\"Age\",\"Age\",\"Age\",\"Age\",\"Age\",\"Age\",\"Age\",\"Age\",\"Age\",\"Age\",\"Age\",\"Age\",\"Age\",\"Age\",\"Age\",\"Age\",\"Age\",\"Age\",\"Age\",\"Age\",\"Age\",\"Age\",\"Age\",\"Age\",\"Age\",\"Age\",\"Age\",\"Age\",\"Age\",\"Age\",\"Age\",\"Age\",\"Age\",\"Age\",\"Age\",\"Age\",\"Age\",\"Age\",\"Age\",\"Age\",\"Age\",\"Age\",\"Age\",\"Age\",\"Age\",\"Age\",\"Age\",\"Age\",\"Age\",\"Age\",\"Age\",\"Age\",\"Age\",\"Age\",\"Age\",\"Age\",\"Age\",\"Age\",\"Age\",\"Age\",\"Age\",\"Age\",\"Age\",\"Age\",\"Age\",\"Age\",\"Age\",\"Age\",\"Age\",\"Age\",\"Age\",\"Age\",\"Age\",\"Age\",\"Age\",\"Age\",\"Age\",\"Age\",\"Age\",\"Age\",\"Age\",\"Age\",\"Age\",\"Age\",\"Age\",\"Age\",\"Age\",\"Age\",\"Age\",\"Age\",\"Age\",\"Age\",\"Age\",\"Age\",\"Age\",\"Age\",\"Age\",\"Age\",\"Age\",\"Age\",\"Age\",\"Age\",\"Age\",\"Age\",\"Age\",\"Age\",\"Age\",\"Age\",\"Age\",\"Age\",\"Age\",\"Age\",\"Age\",\"Age\",\"Age\",\"Age\",\"Age\",\"Age\",\"Age\",\"Age\",\"Age\",\"Age\",\"Age\",\"Age\",\"Age\",\"Age\",\"Age\",\"Age\",\"Age\",\"Age\",\"Age\",\"Age\",\"Age\",\"Age\",\"Age\",\"Age\",\"Age\",\"Age\",\"Age\",\"Age\",\"Age\",\"Age\",\"Age\",\"Age\",\"Age\",\"Age\",\"Age\",\"Age\",\"Age\",\"Age\",\"Age\",\"Age\",\"Age\",\"Age\",\"Age\",\"Age\",\"Age\",\"Age\",\"Age\",\"Age\",\"Age\",\"Age\",\"Age\",\"Age\",\"Age\",\"Age\",\"Age\",\"Age\",\"Age\",\"Age\",\"Age\",\"Age\",\"Age\",\"Age\",\"Age\",\"Age\",\"Age\",\"Age\",\"Age\",\"Age\",\"Age\",\"Age\",\"Age\",\"Age\",\"Age\",\"Age\",\"Age\",\"Age\",\"Age\",\"Age\",\"Age\",\"Age\",\"Age\",\"Age\",\"Age\",\"Age\",\"Age\",\"Age\",\"Age\",\"Age\",\"Age\",\"Age\",\"Age\",\"Age\",\"Age\",\"Age\",\"Age\",\"Age\",\"Age\",\"Age\",\"Age\",\"Age\",\"Age\",\"Age\",\"Age\",\"Age\",\"Age\",\"Age\",\"Age\",\"Age\",\"Age\",\"Age\",\"Age\",\"Age\",\"Age\",\"Age\",\"Age\",\"Age\",\"Age\",\"Age\",\"Age\",\"Age\",\"Age\",\"Age\",\"Age\",\"Age\",\"Age\",\"Age\",\"Age\",\"Age\",\"Age\",\"Age\",\"Age\",\"Age\",\"Age\",\"Age\",\"Age\",\"Age\",\"Age\",\"Age\",\"Age\",\"Age\",\"Age\",\"Age\",\"Age\",\"Age\",\"Age\",\"Age\",\"Age\",\"Age\",\"Age\",\"Age\",\"Age\",\"Age\",\"Age\",\"Age\",\"Age\",\"Age\",\"Age\",\"Age\",\"Age\",\"Age\",\"Age\",\"Age\",\"Age\",\"Age\",\"Age\",\"Age\",\"Age\",\"Age\",\"Age\",\"Age\",\"Age\",\"Age\",\"Age\",\"Age\",\"Age\",\"Age\",\"Age\",\"Age\",\"Age\",\"Age\",\"Age\",\"Age\",\"Age\",\"Age\",\"Age\",\"Age\",\"Age\",\"Age\",\"Age\",\"Age\",\"Age\",\"Age\",\"Age\",\"Age\",\"Age\",\"Age\",\"Age\",\"Age\",\"Age\",\"Age\",\"Age\",\"Age\",\"Age\",\"Age\",\"Age\",\"Age\",\"Age\",\"Age\",\"Age\",\"Age\",\"Age\",\"Age\",\"Age\",\"Age\",\"Age\",\"Age\",\"Age\",\"Age\",\"Age\",\"Age\",\"Age\",\"Age\",\"Age\",\"Age\",\"Age\",\"Age\",\"Age\",\"Age\",\"Age\",\"Age\",\"Age\",\"Age\",\"Age\",\"Age\",\"Age\",\"Age\",\"Age\",\"Age\",\"Age\",\"Age\",\"Age\",\"Age\",\"Age\",\"Age\",\"Age\",\"Age\",\"Age\",\"Age\",\"Age\",\"Age\",\"Age\",\"Age\",\"Age\",\"Age\",\"Age\",\"Age\",\"Age\",\"Age\",\"Age\",\"Age\",\"Age\",\"Age\",\"Age\",\"Age\",\"Age\",\"Age\",\"Age\",\"Age\",\"Age\",\"Age\",\"Age\",\"Age\",\"Age\",\"Age\",\"Age\",\"Age\",\"Age\",\"Age\",\"Age\",\"Age\",\"Age\",\"Age\",\"Age\",\"Age\",\"Age\",\"Age\",\"Age\",\"Age\",\"Age\",\"Age\",\"Age\",\"Age\",\"Age\",\"Age\",\"Age\",\"Age\",\"Age\",\"Age\",\"Age\",\"Age\",\"Age\",\"Age\",\"Age\",\"Age\",\"Age\",\"Age\",\"Age\",\"Age\",\"Age\",\"Age\",\"Age\",\"Age\",\"Age\",\"Age\",\"Age\",\"Age\",\"Age\",\"Age\",\"Age\",\"Age\",\"Age\",\"Age\",\"Age\",\"Age\",\"Age\",\"Age\",\"Age\",\"Age\",\"Age\",\"Age\",\"Age\",\"Age\",\"Age\",\"Age\",\"Age\",\"Age\",\"Age\",\"Age\",\"Age\",\"Age\",\"Age\",\"Age\",\"Age\",\"Age\",\"Age\",\"Age\",\"Age\",\"Age\",\"Age\",\"Age\",\"Age\",\"Age\",\"Age\",\"Age\",\"Age\",\"Age\",\"Age\",\"Age\",\"Age\",\"Age\",\"Age\",\"Age\",\"Age\",\"Age\",\"Age\",\"Age\",\"Age\",\"Age\",\"Age\",\"Age\",\"Age\",\"Age\",\"Age\",\"Age\",\"Age\",\"Age\",\"Age\",\"Age\",\"Age\",\"Age\",\"Age\",\"Age\",\"Age\",\"Age\",\"Age\",\"Age\",\"Age\",\"Age\",\"Age\",\"Age\",\"Age\",\"Age\",\"Age\",\"Age\",\"Age\",\"Age\",\"Age\",\"Age\",\"Age\",\"Age\",\"Age\",\"Age\",\"Age\",\"Age\",\"Age\",\"Age\",\"Age\",\"Age\",\"Age\",\"Age\",\"Age\",\"Age\",\"Age\",\"Age\",\"Age\",\"Age\",\"Age\",\"Age\",\"Age\",\"Age\",\"Age\",\"Age\",\"Age\",\"Age\",\"Age\",\"Age\",\"Age\",\"Age\",\"Age\",\"Age\",\"Age\",\"Age\",\"Age\",\"Age\",\"Age\",\"Age\",\"Age\",\"Age\",\"Age\",\"Age\",\"Age\",\"Age\",\"Age\",\"Age\",\"Age\",\"Age\",\"Age\",\"Age\",\"Age\",\"Age\",\"Age\",\"Age\",\"Age\",\"Age\",\"Age\",\"Age\",\"Age\",\"Age\",\"Age\",\"Age\",\"Age\",\"Age\",\"Age\",\"Age\",\"Age\",\"Age\",\"Age\",\"Age\",\"Age\",\"Age\",\"Age\",\"Age\",\"Age\",\"Age\",\"Age\",\"Age\",\"Age\",\"Age\",\"Age\",\"Age\",\"Age\",\"Age\",\"Age\",\"Age\",\"Age\",\"Age\",\"Age\",\"Age\",\"Age\",\"Age\",\"Age\",\"Age\",\"Age\",\"Age\",\"Age\",\"Age\",\"Age\",\"Age\",\"Age\",\"Age\",\"Age\",\"Age\",\"Age\",\"Age\",\"Age\",\"Age\",\"Age\",\"Age\",\"Age\",\"Age\",\"Age\",\"Age\",\"Age\",\"Age\",\"Age\",\"Age\",\"Age\",\"Age\",\"Age\",\"Age\",\"Age\",\"Age\",\"Age\",\"Age\",\"Age\",\"Age\",\"Age\",\"Age\",\"Age\",\"Age\",\"Age\",\"Age\",\"Age\",\"Age\",\"Age\",\"Age\",\"Age\",\"Age\",\"Age\",\"Age\",\"Age\",\"Age\",\"Age\",\"Age\",\"Age\",\"Age\",\"Age\",\"Age\",\"Age\",\"Age\",\"Age\",\"Age\",\"Age\",\"Age\",\"Age\",\"Age\",\"Age\",\"Age\",\"Age\",\"Age\",\"Age\",\"Age\",\"Age\",\"Age\",\"Age\",\"Age\",\"Age\",\"Age\",\"Age\",\"Age\",\"Age\",\"Age\",\"Age\",\"Age\",\"Age\",\"Age\",\"Age\",\"Age\",\"Age\",\"Age\",\"Age\",\"Age\",\"Age\",\"Age\",\"Age\",\"Age\",\"Age\",\"Age\",\"Age\",\"Age\",\"Age\",\"Age\",\"Age\",\"Age\",\"Age\",\"Age\",\"Age\",\"Age\",\"Age\",\"Age\",\"Age\",\"Age\",\"Age\",\"Age\",\"Age\",\"Age\",\"Age\",\"Age\",\"Age\",\"Age\",\"Age\",\"Age\",\"Age\",\"Age\",\"Age\",\"Age\",\"Age\",\"Age\",\"Age\",\"Age\",\"Age\",\"Age\",\"Age\",\"Age\",\"Age\",\"Age\",\"Age\",\"Age\",\"Age\",\"Age\",\"Age\",\"Age\",\"Age\",\"Age\",\"Age\",\"Age\",\"Age\",\"Age\",\"Age\",\"Age\",\"Age\",\"Age\",\"Age\",\"Age\",\"Age\",\"Age\",\"Age\",\"Age\",\"Age\",\"Age\",\"Age\",\"Age\",\"Age\",\"Age\",\"Age\",\"Age\",\"Age\",\"Age\",\"Age\",\"Age\",\"Age\",\"Age\",\"Age\",\"Age\",\"Age\",\"Age\",\"Age\",\"Age\",\"Age\",\"Age\",\"Age\",\"Age\",\"Age\",\"Age\",\"Age\",\"Age\",\"Age\",\"Age\",\"Age\",\"Age\",\"Age\",\"Age\",\"Age\",\"Age\",\"Age\",\"Age\",\"Age\",\"Age\",\"Age\",\"Age\",\"Age\",\"Age\",\"Age\",\"Age\",\"Age\",\"Age\",\"Age\",\"Age\",\"Age\",\"Age\",\"Age\",\"Age\",\"Age\",\"Age\",\"Age\",\"Age\",\"Age\",\"Age\",\"Age\",\"Age\",\"Age\",\"Age\",\"Age\",\"Age\",\"Age\",\"Age\",\"Age\",\"Age\",\"Age\",\"Age\",\"Age\",\"Age\",\"Age\",\"Age\",\"Age\",\"Age\",\"Age\",\"Age\",\"Age\",\"Age\",\"Age\",\"Age\",\"Age\",\"Age\",\"Age\",\"Age\",\"Age\",\"Age\",\"Age\",\"Age\",\"Age\",\"Age\",\"Age\"],\"x0\":\" \",\"xaxis\":\"x\",\"y\":[1,0,1,0,0,0,0,1,2,1,1,1,2,1,2,1,0,1,0,1,0,1,0,0,1,1,0,1,1,1,0,1,1,0,1,1,0,1,0,1,2,3,1,2,0,0,1,1,3,1,0,0,1,2,0,0,0,1,0,1,2,0,0,3,1,0,0,0,1,0,1,0,2,0,0,1,1,1,1,1,2,2,0,0,0,0,1,2,0,1,0,1,1,1,1,1,0,0,0,1,3,0,2,1,1,2,1,1,2,0,0,0,1,1,1,0,0,0,0,1,0,3,2,0,1,0,1,0,2,0,2,0,2,1,0,0,0,1,3,0,0,1,1,2,1,0,0,0,0,1,1,1,1,2,1,0,2,1,1,1,0,0,0,0,0,1,2,1,2,2,1,2,1,0,0,2,0,1,3,1,1,1,2,1,0,0,1,0,1,0,1,2,1,1,0,2,0,1,2,1,1,3,0,1,1,2,1,1,1,1,2,0,1,0,0,0,1,0,2,1,0,0,1,2,0,1,2,2,1,1,0,0,2,0,1,0,2,1,0,0,0,0,0,1,1,0,0,2,0,1,1,0,0,0,2,0,0,0,1,0,0,0,0,0,0,1,1,1,0,0,0,1,2,0,0,1,1,0,1,1,2,2,0,2,0,1,0,0,0,2,3,0,1,1,0,1,1,1,0,2,1,0,0,0,1,0,1,0,1,0,0,2,1,0,0,1,2,0,2,1,0,3,3,0,0,2,0,1,0,1,2,0,1,1,1,1,1,1,1,1,0,1,1,1,1,0,0,0,0,2,0,1,1,1,2,1,2,1,2,1,1,2,2,2,1,2,2,1,2,2,2,2,2,1,1,0,1,1,1,1,1,0,0,2,0,2,0,2,1,2,0,1,0,1,0,1,1,0,0,0,1,0,1,0,2,1,1,1,1,2,0,0,0,0,1,1,0,0,0,0,1,1,0,3,1,1,1,0,0,1,1,0,1,0,0,1,1,1,1,2,1,0,2,0,1,2,0,1,0,0,1,0,0,3,0,0,0,2,0,1,2,0,1,1,0,3,1,1,2,2,1,2,1,0,0,1,0,0,1,1,2,1,2,1,2,2,2,2,2,1,1,1,1,2,2,2,1,1,2,1,2,2,2,2,2,2,2,2,2,1,1,2,2,2,2,2,1,2,1,1,2,2,1,2,1,2,2,2,1,2,1,2,2,2,1,2,1,0,0,1,0,0,1,0,2,0,1,0,0,0,1,1,1,1,1,0,1,0,0,1,2,1,0,2,2,1,0,1,0,0,1,1,0,0,1,0,0,1,1,2,1,1,0,1,1,0,0,1,0,1,0,0,0,0,0,0,1,1,0,1,1,0,0,0,0,1,0,1,1,2,0,1,0,0,1,0,1,0,1,1,1,3,1,0,1,0,2,3,1,3,1,3,1,3,1,1,1,0,1,0,1,2,2,0,1,0,1,0,1,1,1,0,0,0,1,1,0,0,1,2,0,1,0,0,2,1,0,1,1,0,1,0,2,0,2,1,1,0,1,0,0,2,0,1,2,0,0,0,1,0,1,1,1,1,0,0,0,0,0,0,0,1,1,0,2,2,0,1,1,1,0,1,1,2,0,3,0,0,0,2,0,1,0,1,2,1,0,1,0,0,0,1,1,0,0,1,2,0,0,0,1,0,0,2,0,0,1,1,1,0,0,0,1,1,2,0,1,0,0,2,3,1,0,1,0,1,0,0,1,0,0,1,3,0,1,0,1,1,1,1,0,1,0,1,1,1,0,0,1,0,1,1,0,1,1,1,1,1,0,0,2,0,0,1,1,1,0,1,0,0,2,0,2,2,2,1,1,0,0,0,1,1,3,1,0,1,1,1,1,0,1,3,1,0,3,1,1,1,1,2,0,0,0,1,1,1,1,1,2,1,0,0,1,1,2,0,0,0,0,0,0,1,1,2,0,3,2,1,2,2,0,0,1,2,0,2,1,0,2,2,0,3,1,0,0,0,1,1,0,1,2,1,0,1,1,0,0,0,2,0,3,1,1,0,1,1,0,2,0,0,0,0,1,0,1,1,1,1,2,1,0,1,3,0,0,0,1,2,1,1,3,0,0,3,0,3,1,2,1,0,1,2,0,1,0,1,0,1,0,0,1,3,1,1,0,1,1,1,1,1,0,0,0,2,0,1,0,0,0,3,2,1,1,0,0,1,0,0,2,1,1,0,0,2,1,1,1,0,0,2,1,0,0,1,3,1,1,2,1,1,1,0,1,1,0,0,0,0,1,0,0,0,1,0,1,0,0,1,1,2,1,2,2,0,0,3,0,1,2,2,0,2,0,0,1,3,0,3,1,0,2,0,0,0,1,0,2,1,0,2,0,0,1,3,0,1,0,1,0,2,0,1,0,0,0,1,3,3,3,0,1,1,0,1,0,1,0,1,0,0,0,1,3,1,0,1,1,1,2,1,2,2,1,1,0,2,1,0,0,1,2,1,0,0,0,0,1,1,3,1,1,1,1,1,1,1,1,1,3,2,0,0,2,0,0,1,1,0,0,0,0,1,1,0,1,0,1,8,7,6,8,8,6,7,7,6,6,7,8,6,8,8,7,6,7,8,6,7,7,7,8,8,8,6,8,7,7,7,6,6,7,8,6,8,6,8,7,8,6,7,7,7,8,8,8,6,7,8,8,8,9,8,8,9,8,9,9,9,8,9,9,9,9,8,8,8,9,9,8,7,8,6,6,7,8,6,6,7,7,7,7,7,6,5,6,5,6,6,7,7,7,6,6,7,6,6,7,5,6,6,7,5,7,5,7,7,5,6,6,7,6,6,6,5,5,5,5,7,7,5,7,6,5,7,5,6,7,6,5,6,6,7,7,5,5,6,6,5,6,6,5,6,6,7,7,7,7,6,5,6,6,6,5,5,7,7,5,6,5,7,5,5,5,6,5,7,7,6,6,7,7,8,8,6,6,6,7,7,8,8,6,7,6,6,6,8,8,7,7,8,7,6,8,7,6,6,7,6,8,8,8,8,6,6,8,8,7,6,6,7,6,8,7,7,6,7,8,6,7,6,6,7,6,6,7,7,6,7,6,8,6,6,8,7,8,6,6,6,6,7,6,6,6,7,7,6,8,7,7,6,6,8,8,7,8,7,6,6,6,7,7,7,6,6,6,7,7,6,8,8,6,6,6,5,6,5,5,6,5,5,7,7,6,6,6,6,6,7,8,6,8,6,8,6,8,8,6,7,7,7,7,6,6,8,7,6,6,7,7,8,8,8,7,6,6,7,7,6,8,8,7,7,6,8,8,7,6,7,6,7,8,7,8,6,8,8,8,8,8,6,7,7,8,7,6,7,7,8,7,8,6,7,7,7,8,6,6,7,8,8,6,7,8,6,6,6,8,7,8,8,7,7,6,6,7,7,7,6,7,6,8,6,6,7,6,8,6,6,8,9,7,9,6,6,8,8,8,6,7,9,8,8,8,8,7,9,8,9,6,9,8,7,7,8,9,7,9,8,8,7,7,8,7,7,7,8,6,6,7,6,8,6,8,8,6,6,8,7,7,8,6,8,8,8,7,8,6,8,8,7,7,8,7,8,7,6,6,6,6,8,7,7,8,6,7,7,8,8,7,7,7,8,6,7,6,6,8,7,8,6,6,7,8,7,7,6,7,7,6,6,8,8,7,6,6,7,7,8,6,8,7,6,7,8,8,7,8,9,8,7,7,9,7,7,7,9,9,9,9,8,9,9,8,9,9,8,9,9,9,8,7,9,7,7,9,9,9,9,9,8,9,9,9,9,9,9,9,7,7,9,9,8,9,8,9,9,7,8,9,7,9,8,8,9,9,9,9,9,8,7,7,6,6,7,7,6,7,7,6,6,7,7,7,6,7,6,7,6,6,6,6,7,6,6,7,7,7,6,7,7,7,6,6,7,6,7,7,7,7,6,6,6,6,7,7,7,6,6,7,7,6,6,8,7,6,6,8,8,6,8,6,8,6,6,8,7,7,7,7,7,7,6,8,8,7,6,7,6,6,7,8,7,7,8,7,7,7,6,6,6,7,7,7,8,8,7,8,7,8,6,6,5,5,6,5,5,5,5,6,6,5,5,5,5,5,6,7,7,6,7,7,7,6,8,8,7,7,7,8,7,8,7,8,8,8,7,7,7,7,8,7,6,8,7,6,8,6,7,7,7,8,7,7,7,8,7,8,8,6,6,6,8,7,8,7,7,6,5,5,5,5,6,5,5,5,5,5,6,5,5,6,6,5,5,5,5,5,6,5,6,6,5,5,5,5,6,6,6,8,7,8,6,7,8,8,7,6,7,6,8,7,6,6,7,6,8,6,6,7,7,6,7,8,7,8,8,8,8,7,7,7,7,7,7,7,7,7,7,6,8,6,7,8,8,7,8,8,7,7,7,8,8,8,8,8,7,7,7,7,7,7,8,8,8,8,7,7,8,7,8,8,8,8,8,7,8,7,7,8,7,7,8,7,6,7,8,6,6,7,6,8,6,6,7,6,6,6,7,6,8,8,6,8,7,8,6,7,8,7,7,6,6,8,6,7,6,8,7,9,6,9,6,7,5,9,8,9,6,7,5,5,5,5,5,5,9,5,9,6,9,5,8,9,6,9,8,9,8,7,9,9,7,7,9,7,5,9,7,5,9,9,5,9,6,9,8,7,6,6,7,7,6,6,7,7,6,6,6,6,6,8,8,6,6,6,8,8,8,7,6,7,7,6,7,7,6,6,6,6,6,7,7,7,6,7,7,7,8,6,8,8,7,6,8,8,8,7,7,7,7,7,6,7,6,6,6,7,7,8,7,7,6,6,7,6,6,6,7,8,8,6,6,8,7,8,6,8,6,6,7,6,7,7,6,7,7,6,8,7,8,8,6,6,6,8,7,6,6,6,7,7,7,6,6,7,7,9,9,7,9,7,9,9,8,9,9,9,9,7,9,9,9,8,9,8,9,9,9,7,9,7,7,7,9,9,9,9,8,8,8,9,9,9,8,7,8,7,8,8,7,7,8,8,7,6,6,6,6,8,8,6,7,6,6,7,8,7,6,7,6,8,8,7,8,6,8,8,7,8,6,6,8,8,6,6,8,6,6,7,7,8,8,6,7,22,21,22,21,22,22,21,21,21,21,22,22,21,21,21,22,21,21,22,21,22,22,22,21,22,22,21,22,21,21,21,21,21,22,22,22,22,22,22,21,22,21,21,21,21,22,21,21,21,21,21,21,21,21,22,21,21,21,22,22,22,21,22,22,22,21,22,22,21,21,21,21,21,21,21,22,22,21,22,21,22,21,22,21,23,23,23,24,23,23,24,24,24,23,23,24,24,24,23,23,24,23,23,23,23,23,24,24,24,24,23,23,23,24,23,24,24,23,24,23,23,24,24,23,24,23,24,24,23,24,24,23,24,23,24,22,22,22,21,21,21,21,21,21,21,22,22,21,21,22,22,21,22,22,21,22,21,22,21,22,21,22,21,21,21,22,21,21,22,21,22,21,21,21,21,21,22,21,21,21,22,22,22,21,22,21,21,22,22,21,22,21,21,22,22,21,22,21,21,21,22,21,21,22,22,21,22,21,21,21,22,21,22,21,22,21,21,21,21,22,21,21,21,21,22,22,22,22,22,22,21,22,22,22,22,21,22,22,22,22,22,21,21,21,22,22,22,22,21,21,22,21,22,22,21,22,22,21,21,21,21,22,22,22,21,21,22,22,22,22,21,21,21,21,22,22,21,21,22,21,21,21,22,22,21,21,21,22,21,22,21,21,21,22,21,21,21,22,28,22,22,22,22,21,22,21,22,22,21,22,22,22,21,21,21,22,21,22,22,22,21,21,22,21,21,21,22,21,21,21,22,21,22,22,21,22,22,21,21,30,22,22,22,21,22,22,21,22,22,21,22,21,21,22,22,22,21,22,21,22,21,21,21,22,22,22,22,22,21,21,22,22,22,21,21,22,22,22,22,22,21,22,22,21,21,22,25,26,24,25,24,25,23,24,25,26,26,25,26,24,23,23,24,25,24,23,26,23,26,26,26,26,24,23,26,23,24,26,25,23,24,23,23,26,26,23,26,26,23,26,23,24,25,26,24,26,25,21,21,22,21,22,21,22,21,22,22,22,22,21,21,21,21,22,22,21,22,21,21,21,21,22,22,21,22,22,21,21,21,22,21,22,22,22,22,22,21,22,21,21,21,21,22,21,22,22,21,22,22,21,22,21,22,21,22,21,21,22,22,22,21,22,21,22,22,21,21,22,22,21,22,21,21,22,21,21,22,21,21,22,21,21,21,21,21,22,21,21,22,22,21,22,22,22,21,21,21,22,21,21,21,22,22,22,22,22,21,22,21,22,22,22,21,22,22,22,21,22,21,21,21,22,22,22,21,21,22,21,21,21,22,21,25,26,24,25,26,26,26,26,24,26,26,26,26,26,26,25,26,24,26,26,24,24,25,25,26,26,25,25,26,26,26,26,24,25,26,26,25,25,24,26,26,25,25,25,21,21,21,22,22,22,21,22,22,22,21,22,22,28,22,22,22,22,24,24,24,24,20,23,23,23,22,23,23,23,20,24,20,22,20,23,23,20,20,23,20,23,24,20,20,23,20,24,23,23,23,24,20,20,21,24,21,20,20,21,23,24,24,23,23,22,24,20,20,24,24,21,23,21,23,20,24,24,20,23,24,20,23,24,23,23,21,24,22,23,24,20,20,24,21,20,24,20,23,22,23,24,20,20,23,22,20,24,23,23,21,20,20,21,23,23,24,20,20,24,24,21,20,23,23,20,20,24,24,23,22,23,23,23,23,20,23,23,22,21,20,23,21,21,23,21,20,24,23,23,22,22,23,23,21,23,20,20,22,24,20,23,22,20,20,20,22,24,23,23,24,24,24,20,20,24,24,22,24,20,20,20,20,24,23,21,20,23,24,21,20,20,20,23,20,23,20,23,20,19,19,19,20,19,22,19,22,20,19,21,19,19,19,20,20,22,20,20,22,19,20,20,19,19,19,19,19,20,19,20,20,19,20,21,19,19,20,19,19,19,19,19,20,22,21,19,19,19,20,22,20,20,19,19,22,19,19,19,19,21,19,20,20,19,20,19,20,19,20,19,19,20,19,20,20,21,19,19,20,19,21,19,19,19,20,21,21,22,19,21,20,22,19,22,19,19,22,19,19,22,19,20,19,21,20,19,19,22,20,19,20,20,22,19,19,21,20,21,22,20,19,20,19,21,20,19,19,21,20,19,20,19,19,20,20,22,19,20,19,20,19,21,19,19,19,19,19,19,20,19,19,19,20,22,20,19,20,19,22,19,19,20,19,19,19,20,20,20,19,19,29,19,20,19,20,20,19,20,20,19,20,20,20,20,19,19,19,22,22,19,21,22,19,20,21,19,19,28,19,19,20,19,19,19,21,19,22,19,20,22,19,21,20,20,21,20,21,20,20,21,20,20,21,20,20,20,21,20,20,21,21,20,20,20,20,20,20,20,20,21,20,20,21,21,21,20,20,21,20,20,21,20,21,20,20,20,20,20,21,20,20,20,20,20,20,21,20,21,20,21,20,20,20,20,20,21,20,20,20,20,20,20,20,20,21,20,23,22,23,23,23,22,22,23,23,23,22,23,22,23,23,22,23,23,23,23,23,23,23,23,23,23,23,23,23,23,23,23,23,23,23],\"y0\":\" \",\"yaxis\":\"y\",\"type\":\"box\"}],                        {\"template\":{\"data\":{\"histogram2dcontour\":[{\"type\":\"histogram2dcontour\",\"colorbar\":{\"outlinewidth\":0,\"ticks\":\"\"},\"colorscale\":[[0.0,\"#0d0887\"],[0.1111111111111111,\"#46039f\"],[0.2222222222222222,\"#7201a8\"],[0.3333333333333333,\"#9c179e\"],[0.4444444444444444,\"#bd3786\"],[0.5555555555555556,\"#d8576b\"],[0.6666666666666666,\"#ed7953\"],[0.7777777777777778,\"#fb9f3a\"],[0.8888888888888888,\"#fdca26\"],[1.0,\"#f0f921\"]]}],\"choropleth\":[{\"type\":\"choropleth\",\"colorbar\":{\"outlinewidth\":0,\"ticks\":\"\"}}],\"histogram2d\":[{\"type\":\"histogram2d\",\"colorbar\":{\"outlinewidth\":0,\"ticks\":\"\"},\"colorscale\":[[0.0,\"#0d0887\"],[0.1111111111111111,\"#46039f\"],[0.2222222222222222,\"#7201a8\"],[0.3333333333333333,\"#9c179e\"],[0.4444444444444444,\"#bd3786\"],[0.5555555555555556,\"#d8576b\"],[0.6666666666666666,\"#ed7953\"],[0.7777777777777778,\"#fb9f3a\"],[0.8888888888888888,\"#fdca26\"],[1.0,\"#f0f921\"]]}],\"heatmap\":[{\"type\":\"heatmap\",\"colorbar\":{\"outlinewidth\":0,\"ticks\":\"\"},\"colorscale\":[[0.0,\"#0d0887\"],[0.1111111111111111,\"#46039f\"],[0.2222222222222222,\"#7201a8\"],[0.3333333333333333,\"#9c179e\"],[0.4444444444444444,\"#bd3786\"],[0.5555555555555556,\"#d8576b\"],[0.6666666666666666,\"#ed7953\"],[0.7777777777777778,\"#fb9f3a\"],[0.8888888888888888,\"#fdca26\"],[1.0,\"#f0f921\"]]}],\"heatmapgl\":[{\"type\":\"heatmapgl\",\"colorbar\":{\"outlinewidth\":0,\"ticks\":\"\"},\"colorscale\":[[0.0,\"#0d0887\"],[0.1111111111111111,\"#46039f\"],[0.2222222222222222,\"#7201a8\"],[0.3333333333333333,\"#9c179e\"],[0.4444444444444444,\"#bd3786\"],[0.5555555555555556,\"#d8576b\"],[0.6666666666666666,\"#ed7953\"],[0.7777777777777778,\"#fb9f3a\"],[0.8888888888888888,\"#fdca26\"],[1.0,\"#f0f921\"]]}],\"contourcarpet\":[{\"type\":\"contourcarpet\",\"colorbar\":{\"outlinewidth\":0,\"ticks\":\"\"}}],\"contour\":[{\"type\":\"contour\",\"colorbar\":{\"outlinewidth\":0,\"ticks\":\"\"},\"colorscale\":[[0.0,\"#0d0887\"],[0.1111111111111111,\"#46039f\"],[0.2222222222222222,\"#7201a8\"],[0.3333333333333333,\"#9c179e\"],[0.4444444444444444,\"#bd3786\"],[0.5555555555555556,\"#d8576b\"],[0.6666666666666666,\"#ed7953\"],[0.7777777777777778,\"#fb9f3a\"],[0.8888888888888888,\"#fdca26\"],[1.0,\"#f0f921\"]]}],\"surface\":[{\"type\":\"surface\",\"colorbar\":{\"outlinewidth\":0,\"ticks\":\"\"},\"colorscale\":[[0.0,\"#0d0887\"],[0.1111111111111111,\"#46039f\"],[0.2222222222222222,\"#7201a8\"],[0.3333333333333333,\"#9c179e\"],[0.4444444444444444,\"#bd3786\"],[0.5555555555555556,\"#d8576b\"],[0.6666666666666666,\"#ed7953\"],[0.7777777777777778,\"#fb9f3a\"],[0.8888888888888888,\"#fdca26\"],[1.0,\"#f0f921\"]]}],\"mesh3d\":[{\"type\":\"mesh3d\",\"colorbar\":{\"outlinewidth\":0,\"ticks\":\"\"}}],\"scatter\":[{\"fillpattern\":{\"fillmode\":\"overlay\",\"size\":10,\"solidity\":0.2},\"type\":\"scatter\"}],\"parcoords\":[{\"type\":\"parcoords\",\"line\":{\"colorbar\":{\"outlinewidth\":0,\"ticks\":\"\"}}}],\"scatterpolargl\":[{\"type\":\"scatterpolargl\",\"marker\":{\"colorbar\":{\"outlinewidth\":0,\"ticks\":\"\"}}}],\"bar\":[{\"error_x\":{\"color\":\"#2a3f5f\"},\"error_y\":{\"color\":\"#2a3f5f\"},\"marker\":{\"line\":{\"color\":\"#E5ECF6\",\"width\":0.5},\"pattern\":{\"fillmode\":\"overlay\",\"size\":10,\"solidity\":0.2}},\"type\":\"bar\"}],\"scattergeo\":[{\"type\":\"scattergeo\",\"marker\":{\"colorbar\":{\"outlinewidth\":0,\"ticks\":\"\"}}}],\"scatterpolar\":[{\"type\":\"scatterpolar\",\"marker\":{\"colorbar\":{\"outlinewidth\":0,\"ticks\":\"\"}}}],\"histogram\":[{\"marker\":{\"pattern\":{\"fillmode\":\"overlay\",\"size\":10,\"solidity\":0.2}},\"type\":\"histogram\"}],\"scattergl\":[{\"type\":\"scattergl\",\"marker\":{\"colorbar\":{\"outlinewidth\":0,\"ticks\":\"\"}}}],\"scatter3d\":[{\"type\":\"scatter3d\",\"line\":{\"colorbar\":{\"outlinewidth\":0,\"ticks\":\"\"}},\"marker\":{\"colorbar\":{\"outlinewidth\":0,\"ticks\":\"\"}}}],\"scattermapbox\":[{\"type\":\"scattermapbox\",\"marker\":{\"colorbar\":{\"outlinewidth\":0,\"ticks\":\"\"}}}],\"scatterternary\":[{\"type\":\"scatterternary\",\"marker\":{\"colorbar\":{\"outlinewidth\":0,\"ticks\":\"\"}}}],\"scattercarpet\":[{\"type\":\"scattercarpet\",\"marker\":{\"colorbar\":{\"outlinewidth\":0,\"ticks\":\"\"}}}],\"carpet\":[{\"aaxis\":{\"endlinecolor\":\"#2a3f5f\",\"gridcolor\":\"white\",\"linecolor\":\"white\",\"minorgridcolor\":\"white\",\"startlinecolor\":\"#2a3f5f\"},\"baxis\":{\"endlinecolor\":\"#2a3f5f\",\"gridcolor\":\"white\",\"linecolor\":\"white\",\"minorgridcolor\":\"white\",\"startlinecolor\":\"#2a3f5f\"},\"type\":\"carpet\"}],\"table\":[{\"cells\":{\"fill\":{\"color\":\"#EBF0F8\"},\"line\":{\"color\":\"white\"}},\"header\":{\"fill\":{\"color\":\"#C8D4E3\"},\"line\":{\"color\":\"white\"}},\"type\":\"table\"}],\"barpolar\":[{\"marker\":{\"line\":{\"color\":\"#E5ECF6\",\"width\":0.5},\"pattern\":{\"fillmode\":\"overlay\",\"size\":10,\"solidity\":0.2}},\"type\":\"barpolar\"}],\"pie\":[{\"automargin\":true,\"type\":\"pie\"}]},\"layout\":{\"autotypenumbers\":\"strict\",\"colorway\":[\"#636efa\",\"#EF553B\",\"#00cc96\",\"#ab63fa\",\"#FFA15A\",\"#19d3f3\",\"#FF6692\",\"#B6E880\",\"#FF97FF\",\"#FECB52\"],\"font\":{\"color\":\"#2a3f5f\"},\"hovermode\":\"closest\",\"hoverlabel\":{\"align\":\"left\"},\"paper_bgcolor\":\"white\",\"plot_bgcolor\":\"#E5ECF6\",\"polar\":{\"bgcolor\":\"#E5ECF6\",\"angularaxis\":{\"gridcolor\":\"white\",\"linecolor\":\"white\",\"ticks\":\"\"},\"radialaxis\":{\"gridcolor\":\"white\",\"linecolor\":\"white\",\"ticks\":\"\"}},\"ternary\":{\"bgcolor\":\"#E5ECF6\",\"aaxis\":{\"gridcolor\":\"white\",\"linecolor\":\"white\",\"ticks\":\"\"},\"baxis\":{\"gridcolor\":\"white\",\"linecolor\":\"white\",\"ticks\":\"\"},\"caxis\":{\"gridcolor\":\"white\",\"linecolor\":\"white\",\"ticks\":\"\"}},\"coloraxis\":{\"colorbar\":{\"outlinewidth\":0,\"ticks\":\"\"}},\"colorscale\":{\"sequential\":[[0.0,\"#0d0887\"],[0.1111111111111111,\"#46039f\"],[0.2222222222222222,\"#7201a8\"],[0.3333333333333333,\"#9c179e\"],[0.4444444444444444,\"#bd3786\"],[0.5555555555555556,\"#d8576b\"],[0.6666666666666666,\"#ed7953\"],[0.7777777777777778,\"#fb9f3a\"],[0.8888888888888888,\"#fdca26\"],[1.0,\"#f0f921\"]],\"sequentialminus\":[[0.0,\"#0d0887\"],[0.1111111111111111,\"#46039f\"],[0.2222222222222222,\"#7201a8\"],[0.3333333333333333,\"#9c179e\"],[0.4444444444444444,\"#bd3786\"],[0.5555555555555556,\"#d8576b\"],[0.6666666666666666,\"#ed7953\"],[0.7777777777777778,\"#fb9f3a\"],[0.8888888888888888,\"#fdca26\"],[1.0,\"#f0f921\"]],\"diverging\":[[0,\"#8e0152\"],[0.1,\"#c51b7d\"],[0.2,\"#de77ae\"],[0.3,\"#f1b6da\"],[0.4,\"#fde0ef\"],[0.5,\"#f7f7f7\"],[0.6,\"#e6f5d0\"],[0.7,\"#b8e186\"],[0.8,\"#7fbc41\"],[0.9,\"#4d9221\"],[1,\"#276419\"]]},\"xaxis\":{\"gridcolor\":\"white\",\"linecolor\":\"white\",\"ticks\":\"\",\"title\":{\"standoff\":15},\"zerolinecolor\":\"white\",\"automargin\":true,\"zerolinewidth\":2},\"yaxis\":{\"gridcolor\":\"white\",\"linecolor\":\"white\",\"ticks\":\"\",\"title\":{\"standoff\":15},\"zerolinecolor\":\"white\",\"automargin\":true,\"zerolinewidth\":2},\"scene\":{\"xaxis\":{\"backgroundcolor\":\"#E5ECF6\",\"gridcolor\":\"white\",\"linecolor\":\"white\",\"showbackground\":true,\"ticks\":\"\",\"zerolinecolor\":\"white\",\"gridwidth\":2},\"yaxis\":{\"backgroundcolor\":\"#E5ECF6\",\"gridcolor\":\"white\",\"linecolor\":\"white\",\"showbackground\":true,\"ticks\":\"\",\"zerolinecolor\":\"white\",\"gridwidth\":2},\"zaxis\":{\"backgroundcolor\":\"#E5ECF6\",\"gridcolor\":\"white\",\"linecolor\":\"white\",\"showbackground\":true,\"ticks\":\"\",\"zerolinecolor\":\"white\",\"gridwidth\":2}},\"shapedefaults\":{\"line\":{\"color\":\"#2a3f5f\"}},\"annotationdefaults\":{\"arrowcolor\":\"#2a3f5f\",\"arrowhead\":0,\"arrowwidth\":1},\"geo\":{\"bgcolor\":\"white\",\"landcolor\":\"#E5ECF6\",\"subunitcolor\":\"white\",\"showland\":true,\"showlakes\":true,\"lakecolor\":\"white\"},\"title\":{\"x\":0.05},\"mapbox\":{\"style\":\"light\"}}},\"xaxis\":{\"anchor\":\"y\",\"domain\":[0.0,1.0],\"title\":{\"text\":\"variable\"}},\"yaxis\":{\"anchor\":\"x\",\"domain\":[0.0,1.0],\"title\":{\"text\":\"value\"}},\"legend\":{\"tracegroupgap\":0},\"margin\":{\"t\":60},\"boxmode\":\"group\"},                        {\"responsive\": true}                    )                };                            </script>        </div>\n",
              "</body>\n",
              "</html>"
            ]
          },
          "metadata": {},
          "execution_count": 22
        }
      ]
    },
    {
      "cell_type": "markdown",
      "source": [
        "**CATEGORICAL TO NUMERICAL DATA**"
      ],
      "metadata": {
        "id": "d7ntNj5ylKtm"
      }
    },
    {
      "cell_type": "code",
      "source": [
        "df['Gender'] = df['Gender'].map({'Male': 1, 'Female': 0})"
      ],
      "metadata": {
        "id": "_kTmXFSQml2o"
      },
      "execution_count": 23,
      "outputs": []
    },
    {
      "cell_type": "code",
      "source": [
        "df['Stream'].unique()"
      ],
      "metadata": {
        "colab": {
          "base_uri": "https://localhost:8080/"
        },
        "id": "dGa0Q3zhmoIR",
        "outputId": "bcfa12c7-5324-4332-d214-531093b6b7e2"
      },
      "execution_count": 24,
      "outputs": [
        {
          "output_type": "execute_result",
          "data": {
            "text/plain": [
              "array(['Electronics And Communication', 'Computer Science',\n",
              "       'Information Technology', 'Mechanical', 'Electrical', 'Civil'],\n",
              "      dtype=object)"
            ]
          },
          "metadata": {},
          "execution_count": 24
        }
      ]
    },
    {
      "cell_type": "code",
      "source": [
        "# convert Stream column to numeric\n",
        "df['Stream'] = df['Stream'].map({'Electronics And Communication': 1,\n",
        "                                 'Computer Science': 2,\n",
        "                                'Information Technology': 3,\n",
        "                                'Mechanical':4,\n",
        "                                'Electrical':5,\n",
        "                                'Civil':6})"
      ],
      "metadata": {
        "id": "Id0UG7jvmpYr"
      },
      "execution_count": 25,
      "outputs": []
    },
    {
      "cell_type": "code",
      "source": [
        "df.sample(5)"
      ],
      "metadata": {
        "colab": {
          "base_uri": "https://localhost:8080/",
          "height": 206
        },
        "id": "YbUWM0jcmqoN",
        "outputId": "bb6e6afa-ac9c-42c8-87b0-4d7f811af9c5"
      },
      "execution_count": 26,
      "outputs": [
        {
          "output_type": "execute_result",
          "data": {
            "text/plain": [
              "      Age  Gender  Stream  Internships  CGPA  Hostel  HistoryOfBacklogs  \\\n",
              "1870   20       0       5            1     7       0                  1   \n",
              "1027   22       0       3            1     7       0                  1   \n",
              "2849   23       1       1            1     8       1                  1   \n",
              "2869   23       1       6            2     8       0                  0   \n",
              "901    21       0       3            1     6       1                  0   \n",
              "\n",
              "      PlacedOrNot  \n",
              "1870            1  \n",
              "1027            1  \n",
              "2849            1  \n",
              "2869            1  \n",
              "901             0  "
            ],
            "text/html": [
              "\n",
              "  <div id=\"df-4b141f79-d510-4607-b296-e118efda7316\" class=\"colab-df-container\">\n",
              "    <div>\n",
              "<style scoped>\n",
              "    .dataframe tbody tr th:only-of-type {\n",
              "        vertical-align: middle;\n",
              "    }\n",
              "\n",
              "    .dataframe tbody tr th {\n",
              "        vertical-align: top;\n",
              "    }\n",
              "\n",
              "    .dataframe thead th {\n",
              "        text-align: right;\n",
              "    }\n",
              "</style>\n",
              "<table border=\"1\" class=\"dataframe\">\n",
              "  <thead>\n",
              "    <tr style=\"text-align: right;\">\n",
              "      <th></th>\n",
              "      <th>Age</th>\n",
              "      <th>Gender</th>\n",
              "      <th>Stream</th>\n",
              "      <th>Internships</th>\n",
              "      <th>CGPA</th>\n",
              "      <th>Hostel</th>\n",
              "      <th>HistoryOfBacklogs</th>\n",
              "      <th>PlacedOrNot</th>\n",
              "    </tr>\n",
              "  </thead>\n",
              "  <tbody>\n",
              "    <tr>\n",
              "      <th>1870</th>\n",
              "      <td>20</td>\n",
              "      <td>0</td>\n",
              "      <td>5</td>\n",
              "      <td>1</td>\n",
              "      <td>7</td>\n",
              "      <td>0</td>\n",
              "      <td>1</td>\n",
              "      <td>1</td>\n",
              "    </tr>\n",
              "    <tr>\n",
              "      <th>1027</th>\n",
              "      <td>22</td>\n",
              "      <td>0</td>\n",
              "      <td>3</td>\n",
              "      <td>1</td>\n",
              "      <td>7</td>\n",
              "      <td>0</td>\n",
              "      <td>1</td>\n",
              "      <td>1</td>\n",
              "    </tr>\n",
              "    <tr>\n",
              "      <th>2849</th>\n",
              "      <td>23</td>\n",
              "      <td>1</td>\n",
              "      <td>1</td>\n",
              "      <td>1</td>\n",
              "      <td>8</td>\n",
              "      <td>1</td>\n",
              "      <td>1</td>\n",
              "      <td>1</td>\n",
              "    </tr>\n",
              "    <tr>\n",
              "      <th>2869</th>\n",
              "      <td>23</td>\n",
              "      <td>1</td>\n",
              "      <td>6</td>\n",
              "      <td>2</td>\n",
              "      <td>8</td>\n",
              "      <td>0</td>\n",
              "      <td>0</td>\n",
              "      <td>1</td>\n",
              "    </tr>\n",
              "    <tr>\n",
              "      <th>901</th>\n",
              "      <td>21</td>\n",
              "      <td>0</td>\n",
              "      <td>3</td>\n",
              "      <td>1</td>\n",
              "      <td>6</td>\n",
              "      <td>1</td>\n",
              "      <td>0</td>\n",
              "      <td>0</td>\n",
              "    </tr>\n",
              "  </tbody>\n",
              "</table>\n",
              "</div>\n",
              "    <div class=\"colab-df-buttons\">\n",
              "\n",
              "  <div class=\"colab-df-container\">\n",
              "    <button class=\"colab-df-convert\" onclick=\"convertToInteractive('df-4b141f79-d510-4607-b296-e118efda7316')\"\n",
              "            title=\"Convert this dataframe to an interactive table.\"\n",
              "            style=\"display:none;\">\n",
              "\n",
              "  <svg xmlns=\"http://www.w3.org/2000/svg\" height=\"24px\" viewBox=\"0 -960 960 960\">\n",
              "    <path d=\"M120-120v-720h720v720H120Zm60-500h600v-160H180v160Zm220 220h160v-160H400v160Zm0 220h160v-160H400v160ZM180-400h160v-160H180v160Zm440 0h160v-160H620v160ZM180-180h160v-160H180v160Zm440 0h160v-160H620v160Z\"/>\n",
              "  </svg>\n",
              "    </button>\n",
              "\n",
              "  <style>\n",
              "    .colab-df-container {\n",
              "      display:flex;\n",
              "      gap: 12px;\n",
              "    }\n",
              "\n",
              "    .colab-df-convert {\n",
              "      background-color: #E8F0FE;\n",
              "      border: none;\n",
              "      border-radius: 50%;\n",
              "      cursor: pointer;\n",
              "      display: none;\n",
              "      fill: #1967D2;\n",
              "      height: 32px;\n",
              "      padding: 0 0 0 0;\n",
              "      width: 32px;\n",
              "    }\n",
              "\n",
              "    .colab-df-convert:hover {\n",
              "      background-color: #E2EBFA;\n",
              "      box-shadow: 0px 1px 2px rgba(60, 64, 67, 0.3), 0px 1px 3px 1px rgba(60, 64, 67, 0.15);\n",
              "      fill: #174EA6;\n",
              "    }\n",
              "\n",
              "    .colab-df-buttons div {\n",
              "      margin-bottom: 4px;\n",
              "    }\n",
              "\n",
              "    [theme=dark] .colab-df-convert {\n",
              "      background-color: #3B4455;\n",
              "      fill: #D2E3FC;\n",
              "    }\n",
              "\n",
              "    [theme=dark] .colab-df-convert:hover {\n",
              "      background-color: #434B5C;\n",
              "      box-shadow: 0px 1px 3px 1px rgba(0, 0, 0, 0.15);\n",
              "      filter: drop-shadow(0px 1px 2px rgba(0, 0, 0, 0.3));\n",
              "      fill: #FFFFFF;\n",
              "    }\n",
              "  </style>\n",
              "\n",
              "    <script>\n",
              "      const buttonEl =\n",
              "        document.querySelector('#df-4b141f79-d510-4607-b296-e118efda7316 button.colab-df-convert');\n",
              "      buttonEl.style.display =\n",
              "        google.colab.kernel.accessAllowed ? 'block' : 'none';\n",
              "\n",
              "      async function convertToInteractive(key) {\n",
              "        const element = document.querySelector('#df-4b141f79-d510-4607-b296-e118efda7316');\n",
              "        const dataTable =\n",
              "          await google.colab.kernel.invokeFunction('convertToInteractive',\n",
              "                                                    [key], {});\n",
              "        if (!dataTable) return;\n",
              "\n",
              "        const docLinkHtml = 'Like what you see? Visit the ' +\n",
              "          '<a target=\"_blank\" href=https://colab.research.google.com/notebooks/data_table.ipynb>data table notebook</a>'\n",
              "          + ' to learn more about interactive tables.';\n",
              "        element.innerHTML = '';\n",
              "        dataTable['output_type'] = 'display_data';\n",
              "        await google.colab.output.renderOutput(dataTable, element);\n",
              "        const docLink = document.createElement('div');\n",
              "        docLink.innerHTML = docLinkHtml;\n",
              "        element.appendChild(docLink);\n",
              "      }\n",
              "    </script>\n",
              "  </div>\n",
              "\n",
              "\n",
              "    <div id=\"df-78f5db57-c9ea-424b-b058-bc0ab03f81b2\">\n",
              "      <button class=\"colab-df-quickchart\" onclick=\"quickchart('df-78f5db57-c9ea-424b-b058-bc0ab03f81b2')\"\n",
              "                title=\"Suggest charts\"\n",
              "                style=\"display:none;\">\n",
              "\n",
              "<svg xmlns=\"http://www.w3.org/2000/svg\" height=\"24px\"viewBox=\"0 0 24 24\"\n",
              "     width=\"24px\">\n",
              "    <g>\n",
              "        <path d=\"M19 3H5c-1.1 0-2 .9-2 2v14c0 1.1.9 2 2 2h14c1.1 0 2-.9 2-2V5c0-1.1-.9-2-2-2zM9 17H7v-7h2v7zm4 0h-2V7h2v10zm4 0h-2v-4h2v4z\"/>\n",
              "    </g>\n",
              "</svg>\n",
              "      </button>\n",
              "\n",
              "<style>\n",
              "  .colab-df-quickchart {\n",
              "      --bg-color: #E8F0FE;\n",
              "      --fill-color: #1967D2;\n",
              "      --hover-bg-color: #E2EBFA;\n",
              "      --hover-fill-color: #174EA6;\n",
              "      --disabled-fill-color: #AAA;\n",
              "      --disabled-bg-color: #DDD;\n",
              "  }\n",
              "\n",
              "  [theme=dark] .colab-df-quickchart {\n",
              "      --bg-color: #3B4455;\n",
              "      --fill-color: #D2E3FC;\n",
              "      --hover-bg-color: #434B5C;\n",
              "      --hover-fill-color: #FFFFFF;\n",
              "      --disabled-bg-color: #3B4455;\n",
              "      --disabled-fill-color: #666;\n",
              "  }\n",
              "\n",
              "  .colab-df-quickchart {\n",
              "    background-color: var(--bg-color);\n",
              "    border: none;\n",
              "    border-radius: 50%;\n",
              "    cursor: pointer;\n",
              "    display: none;\n",
              "    fill: var(--fill-color);\n",
              "    height: 32px;\n",
              "    padding: 0;\n",
              "    width: 32px;\n",
              "  }\n",
              "\n",
              "  .colab-df-quickchart:hover {\n",
              "    background-color: var(--hover-bg-color);\n",
              "    box-shadow: 0 1px 2px rgba(60, 64, 67, 0.3), 0 1px 3px 1px rgba(60, 64, 67, 0.15);\n",
              "    fill: var(--button-hover-fill-color);\n",
              "  }\n",
              "\n",
              "  .colab-df-quickchart-complete:disabled,\n",
              "  .colab-df-quickchart-complete:disabled:hover {\n",
              "    background-color: var(--disabled-bg-color);\n",
              "    fill: var(--disabled-fill-color);\n",
              "    box-shadow: none;\n",
              "  }\n",
              "\n",
              "  .colab-df-spinner {\n",
              "    border: 2px solid var(--fill-color);\n",
              "    border-color: transparent;\n",
              "    border-bottom-color: var(--fill-color);\n",
              "    animation:\n",
              "      spin 1s steps(1) infinite;\n",
              "  }\n",
              "\n",
              "  @keyframes spin {\n",
              "    0% {\n",
              "      border-color: transparent;\n",
              "      border-bottom-color: var(--fill-color);\n",
              "      border-left-color: var(--fill-color);\n",
              "    }\n",
              "    20% {\n",
              "      border-color: transparent;\n",
              "      border-left-color: var(--fill-color);\n",
              "      border-top-color: var(--fill-color);\n",
              "    }\n",
              "    30% {\n",
              "      border-color: transparent;\n",
              "      border-left-color: var(--fill-color);\n",
              "      border-top-color: var(--fill-color);\n",
              "      border-right-color: var(--fill-color);\n",
              "    }\n",
              "    40% {\n",
              "      border-color: transparent;\n",
              "      border-right-color: var(--fill-color);\n",
              "      border-top-color: var(--fill-color);\n",
              "    }\n",
              "    60% {\n",
              "      border-color: transparent;\n",
              "      border-right-color: var(--fill-color);\n",
              "    }\n",
              "    80% {\n",
              "      border-color: transparent;\n",
              "      border-right-color: var(--fill-color);\n",
              "      border-bottom-color: var(--fill-color);\n",
              "    }\n",
              "    90% {\n",
              "      border-color: transparent;\n",
              "      border-bottom-color: var(--fill-color);\n",
              "    }\n",
              "  }\n",
              "</style>\n",
              "\n",
              "      <script>\n",
              "        async function quickchart(key) {\n",
              "          const quickchartButtonEl =\n",
              "            document.querySelector('#' + key + ' button');\n",
              "          quickchartButtonEl.disabled = true;  // To prevent multiple clicks.\n",
              "          quickchartButtonEl.classList.add('colab-df-spinner');\n",
              "          try {\n",
              "            const charts = await google.colab.kernel.invokeFunction(\n",
              "                'suggestCharts', [key], {});\n",
              "          } catch (error) {\n",
              "            console.error('Error during call to suggestCharts:', error);\n",
              "          }\n",
              "          quickchartButtonEl.classList.remove('colab-df-spinner');\n",
              "          quickchartButtonEl.classList.add('colab-df-quickchart-complete');\n",
              "        }\n",
              "        (() => {\n",
              "          let quickchartButtonEl =\n",
              "            document.querySelector('#df-78f5db57-c9ea-424b-b058-bc0ab03f81b2 button');\n",
              "          quickchartButtonEl.style.display =\n",
              "            google.colab.kernel.accessAllowed ? 'block' : 'none';\n",
              "        })();\n",
              "      </script>\n",
              "    </div>\n",
              "\n",
              "    </div>\n",
              "  </div>\n"
            ],
            "application/vnd.google.colaboratory.intrinsic+json": {
              "type": "dataframe",
              "summary": "{\n  \"name\": \"df\",\n  \"rows\": 5,\n  \"fields\": [\n    {\n      \"column\": \"Age\",\n      \"properties\": {\n        \"dtype\": \"number\",\n        \"std\": 1,\n        \"min\": 20,\n        \"max\": 23,\n        \"num_unique_values\": 4,\n        \"samples\": [\n          22,\n          21,\n          20\n        ],\n        \"semantic_type\": \"\",\n        \"description\": \"\"\n      }\n    },\n    {\n      \"column\": \"Gender\",\n      \"properties\": {\n        \"dtype\": \"number\",\n        \"std\": 0,\n        \"min\": 0,\n        \"max\": 1,\n        \"num_unique_values\": 2,\n        \"samples\": [\n          1,\n          0\n        ],\n        \"semantic_type\": \"\",\n        \"description\": \"\"\n      }\n    },\n    {\n      \"column\": \"Stream\",\n      \"properties\": {\n        \"dtype\": \"number\",\n        \"std\": 1,\n        \"min\": 1,\n        \"max\": 6,\n        \"num_unique_values\": 4,\n        \"samples\": [\n          3,\n          6\n        ],\n        \"semantic_type\": \"\",\n        \"description\": \"\"\n      }\n    },\n    {\n      \"column\": \"Internships\",\n      \"properties\": {\n        \"dtype\": \"number\",\n        \"std\": 0,\n        \"min\": 1,\n        \"max\": 2,\n        \"num_unique_values\": 2,\n        \"samples\": [\n          2,\n          1\n        ],\n        \"semantic_type\": \"\",\n        \"description\": \"\"\n      }\n    },\n    {\n      \"column\": \"CGPA\",\n      \"properties\": {\n        \"dtype\": \"number\",\n        \"std\": 0,\n        \"min\": 6,\n        \"max\": 8,\n        \"num_unique_values\": 3,\n        \"samples\": [\n          7,\n          8\n        ],\n        \"semantic_type\": \"\",\n        \"description\": \"\"\n      }\n    },\n    {\n      \"column\": \"Hostel\",\n      \"properties\": {\n        \"dtype\": \"number\",\n        \"std\": 0,\n        \"min\": 0,\n        \"max\": 1,\n        \"num_unique_values\": 2,\n        \"samples\": [\n          1,\n          0\n        ],\n        \"semantic_type\": \"\",\n        \"description\": \"\"\n      }\n    },\n    {\n      \"column\": \"HistoryOfBacklogs\",\n      \"properties\": {\n        \"dtype\": \"number\",\n        \"std\": 0,\n        \"min\": 0,\n        \"max\": 1,\n        \"num_unique_values\": 2,\n        \"samples\": [\n          0,\n          1\n        ],\n        \"semantic_type\": \"\",\n        \"description\": \"\"\n      }\n    },\n    {\n      \"column\": \"PlacedOrNot\",\n      \"properties\": {\n        \"dtype\": \"number\",\n        \"std\": 0,\n        \"min\": 0,\n        \"max\": 1,\n        \"num_unique_values\": 2,\n        \"samples\": [\n          0,\n          1\n        ],\n        \"semantic_type\": \"\",\n        \"description\": \"\"\n      }\n    }\n  ]\n}"
            }
          },
          "metadata": {},
          "execution_count": 26
        }
      ]
    },
    {
      "cell_type": "markdown",
      "source": [
        "**INPUT AND OUTPUT COLUMNS**"
      ],
      "metadata": {
        "id": "yGso_3LalR6q"
      }
    },
    {
      "cell_type": "code",
      "source": [
        "X = df.iloc[:,0:7]\n",
        "y = df.iloc[:,-1]\n",
        "X"
      ],
      "metadata": {
        "colab": {
          "base_uri": "https://localhost:8080/",
          "height": 423
        },
        "id": "4LbN1tg7mr2F",
        "outputId": "e2020762-47a3-4e69-b68a-e9fec0fce914"
      },
      "execution_count": 27,
      "outputs": [
        {
          "output_type": "execute_result",
          "data": {
            "text/plain": [
              "      Age  Gender  Stream  Internships  CGPA  Hostel  HistoryOfBacklogs\n",
              "0      22       1       1            1     8       1                  1\n",
              "1      21       0       2            0     7       1                  1\n",
              "2      22       0       3            1     6       0                  0\n",
              "3      21       1       3            0     8       0                  1\n",
              "4      22       1       4            0     8       1                  0\n",
              "...   ...     ...     ...          ...   ...     ...                ...\n",
              "2946   23       1       3            1     7       1                  1\n",
              "2952   23       1       4            0     8       1                  0\n",
              "2954   23       0       2            1     8       0                  1\n",
              "2958   23       1       2            0     6       0                  1\n",
              "2960   23       1       4            1     7       1                  0\n",
              "\n",
              "[1137 rows x 7 columns]"
            ],
            "text/html": [
              "\n",
              "  <div id=\"df-f9a9818b-5060-4499-ac1f-bb56653407e0\" class=\"colab-df-container\">\n",
              "    <div>\n",
              "<style scoped>\n",
              "    .dataframe tbody tr th:only-of-type {\n",
              "        vertical-align: middle;\n",
              "    }\n",
              "\n",
              "    .dataframe tbody tr th {\n",
              "        vertical-align: top;\n",
              "    }\n",
              "\n",
              "    .dataframe thead th {\n",
              "        text-align: right;\n",
              "    }\n",
              "</style>\n",
              "<table border=\"1\" class=\"dataframe\">\n",
              "  <thead>\n",
              "    <tr style=\"text-align: right;\">\n",
              "      <th></th>\n",
              "      <th>Age</th>\n",
              "      <th>Gender</th>\n",
              "      <th>Stream</th>\n",
              "      <th>Internships</th>\n",
              "      <th>CGPA</th>\n",
              "      <th>Hostel</th>\n",
              "      <th>HistoryOfBacklogs</th>\n",
              "    </tr>\n",
              "  </thead>\n",
              "  <tbody>\n",
              "    <tr>\n",
              "      <th>0</th>\n",
              "      <td>22</td>\n",
              "      <td>1</td>\n",
              "      <td>1</td>\n",
              "      <td>1</td>\n",
              "      <td>8</td>\n",
              "      <td>1</td>\n",
              "      <td>1</td>\n",
              "    </tr>\n",
              "    <tr>\n",
              "      <th>1</th>\n",
              "      <td>21</td>\n",
              "      <td>0</td>\n",
              "      <td>2</td>\n",
              "      <td>0</td>\n",
              "      <td>7</td>\n",
              "      <td>1</td>\n",
              "      <td>1</td>\n",
              "    </tr>\n",
              "    <tr>\n",
              "      <th>2</th>\n",
              "      <td>22</td>\n",
              "      <td>0</td>\n",
              "      <td>3</td>\n",
              "      <td>1</td>\n",
              "      <td>6</td>\n",
              "      <td>0</td>\n",
              "      <td>0</td>\n",
              "    </tr>\n",
              "    <tr>\n",
              "      <th>3</th>\n",
              "      <td>21</td>\n",
              "      <td>1</td>\n",
              "      <td>3</td>\n",
              "      <td>0</td>\n",
              "      <td>8</td>\n",
              "      <td>0</td>\n",
              "      <td>1</td>\n",
              "    </tr>\n",
              "    <tr>\n",
              "      <th>4</th>\n",
              "      <td>22</td>\n",
              "      <td>1</td>\n",
              "      <td>4</td>\n",
              "      <td>0</td>\n",
              "      <td>8</td>\n",
              "      <td>1</td>\n",
              "      <td>0</td>\n",
              "    </tr>\n",
              "    <tr>\n",
              "      <th>...</th>\n",
              "      <td>...</td>\n",
              "      <td>...</td>\n",
              "      <td>...</td>\n",
              "      <td>...</td>\n",
              "      <td>...</td>\n",
              "      <td>...</td>\n",
              "      <td>...</td>\n",
              "    </tr>\n",
              "    <tr>\n",
              "      <th>2946</th>\n",
              "      <td>23</td>\n",
              "      <td>1</td>\n",
              "      <td>3</td>\n",
              "      <td>1</td>\n",
              "      <td>7</td>\n",
              "      <td>1</td>\n",
              "      <td>1</td>\n",
              "    </tr>\n",
              "    <tr>\n",
              "      <th>2952</th>\n",
              "      <td>23</td>\n",
              "      <td>1</td>\n",
              "      <td>4</td>\n",
              "      <td>0</td>\n",
              "      <td>8</td>\n",
              "      <td>1</td>\n",
              "      <td>0</td>\n",
              "    </tr>\n",
              "    <tr>\n",
              "      <th>2954</th>\n",
              "      <td>23</td>\n",
              "      <td>0</td>\n",
              "      <td>2</td>\n",
              "      <td>1</td>\n",
              "      <td>8</td>\n",
              "      <td>0</td>\n",
              "      <td>1</td>\n",
              "    </tr>\n",
              "    <tr>\n",
              "      <th>2958</th>\n",
              "      <td>23</td>\n",
              "      <td>1</td>\n",
              "      <td>2</td>\n",
              "      <td>0</td>\n",
              "      <td>6</td>\n",
              "      <td>0</td>\n",
              "      <td>1</td>\n",
              "    </tr>\n",
              "    <tr>\n",
              "      <th>2960</th>\n",
              "      <td>23</td>\n",
              "      <td>1</td>\n",
              "      <td>4</td>\n",
              "      <td>1</td>\n",
              "      <td>7</td>\n",
              "      <td>1</td>\n",
              "      <td>0</td>\n",
              "    </tr>\n",
              "  </tbody>\n",
              "</table>\n",
              "<p>1137 rows × 7 columns</p>\n",
              "</div>\n",
              "    <div class=\"colab-df-buttons\">\n",
              "\n",
              "  <div class=\"colab-df-container\">\n",
              "    <button class=\"colab-df-convert\" onclick=\"convertToInteractive('df-f9a9818b-5060-4499-ac1f-bb56653407e0')\"\n",
              "            title=\"Convert this dataframe to an interactive table.\"\n",
              "            style=\"display:none;\">\n",
              "\n",
              "  <svg xmlns=\"http://www.w3.org/2000/svg\" height=\"24px\" viewBox=\"0 -960 960 960\">\n",
              "    <path d=\"M120-120v-720h720v720H120Zm60-500h600v-160H180v160Zm220 220h160v-160H400v160Zm0 220h160v-160H400v160ZM180-400h160v-160H180v160Zm440 0h160v-160H620v160ZM180-180h160v-160H180v160Zm440 0h160v-160H620v160Z\"/>\n",
              "  </svg>\n",
              "    </button>\n",
              "\n",
              "  <style>\n",
              "    .colab-df-container {\n",
              "      display:flex;\n",
              "      gap: 12px;\n",
              "    }\n",
              "\n",
              "    .colab-df-convert {\n",
              "      background-color: #E8F0FE;\n",
              "      border: none;\n",
              "      border-radius: 50%;\n",
              "      cursor: pointer;\n",
              "      display: none;\n",
              "      fill: #1967D2;\n",
              "      height: 32px;\n",
              "      padding: 0 0 0 0;\n",
              "      width: 32px;\n",
              "    }\n",
              "\n",
              "    .colab-df-convert:hover {\n",
              "      background-color: #E2EBFA;\n",
              "      box-shadow: 0px 1px 2px rgba(60, 64, 67, 0.3), 0px 1px 3px 1px rgba(60, 64, 67, 0.15);\n",
              "      fill: #174EA6;\n",
              "    }\n",
              "\n",
              "    .colab-df-buttons div {\n",
              "      margin-bottom: 4px;\n",
              "    }\n",
              "\n",
              "    [theme=dark] .colab-df-convert {\n",
              "      background-color: #3B4455;\n",
              "      fill: #D2E3FC;\n",
              "    }\n",
              "\n",
              "    [theme=dark] .colab-df-convert:hover {\n",
              "      background-color: #434B5C;\n",
              "      box-shadow: 0px 1px 3px 1px rgba(0, 0, 0, 0.15);\n",
              "      filter: drop-shadow(0px 1px 2px rgba(0, 0, 0, 0.3));\n",
              "      fill: #FFFFFF;\n",
              "    }\n",
              "  </style>\n",
              "\n",
              "    <script>\n",
              "      const buttonEl =\n",
              "        document.querySelector('#df-f9a9818b-5060-4499-ac1f-bb56653407e0 button.colab-df-convert');\n",
              "      buttonEl.style.display =\n",
              "        google.colab.kernel.accessAllowed ? 'block' : 'none';\n",
              "\n",
              "      async function convertToInteractive(key) {\n",
              "        const element = document.querySelector('#df-f9a9818b-5060-4499-ac1f-bb56653407e0');\n",
              "        const dataTable =\n",
              "          await google.colab.kernel.invokeFunction('convertToInteractive',\n",
              "                                                    [key], {});\n",
              "        if (!dataTable) return;\n",
              "\n",
              "        const docLinkHtml = 'Like what you see? Visit the ' +\n",
              "          '<a target=\"_blank\" href=https://colab.research.google.com/notebooks/data_table.ipynb>data table notebook</a>'\n",
              "          + ' to learn more about interactive tables.';\n",
              "        element.innerHTML = '';\n",
              "        dataTable['output_type'] = 'display_data';\n",
              "        await google.colab.output.renderOutput(dataTable, element);\n",
              "        const docLink = document.createElement('div');\n",
              "        docLink.innerHTML = docLinkHtml;\n",
              "        element.appendChild(docLink);\n",
              "      }\n",
              "    </script>\n",
              "  </div>\n",
              "\n",
              "\n",
              "    <div id=\"df-fed89e08-23b9-48c2-b70f-8a242e283a5c\">\n",
              "      <button class=\"colab-df-quickchart\" onclick=\"quickchart('df-fed89e08-23b9-48c2-b70f-8a242e283a5c')\"\n",
              "                title=\"Suggest charts\"\n",
              "                style=\"display:none;\">\n",
              "\n",
              "<svg xmlns=\"http://www.w3.org/2000/svg\" height=\"24px\"viewBox=\"0 0 24 24\"\n",
              "     width=\"24px\">\n",
              "    <g>\n",
              "        <path d=\"M19 3H5c-1.1 0-2 .9-2 2v14c0 1.1.9 2 2 2h14c1.1 0 2-.9 2-2V5c0-1.1-.9-2-2-2zM9 17H7v-7h2v7zm4 0h-2V7h2v10zm4 0h-2v-4h2v4z\"/>\n",
              "    </g>\n",
              "</svg>\n",
              "      </button>\n",
              "\n",
              "<style>\n",
              "  .colab-df-quickchart {\n",
              "      --bg-color: #E8F0FE;\n",
              "      --fill-color: #1967D2;\n",
              "      --hover-bg-color: #E2EBFA;\n",
              "      --hover-fill-color: #174EA6;\n",
              "      --disabled-fill-color: #AAA;\n",
              "      --disabled-bg-color: #DDD;\n",
              "  }\n",
              "\n",
              "  [theme=dark] .colab-df-quickchart {\n",
              "      --bg-color: #3B4455;\n",
              "      --fill-color: #D2E3FC;\n",
              "      --hover-bg-color: #434B5C;\n",
              "      --hover-fill-color: #FFFFFF;\n",
              "      --disabled-bg-color: #3B4455;\n",
              "      --disabled-fill-color: #666;\n",
              "  }\n",
              "\n",
              "  .colab-df-quickchart {\n",
              "    background-color: var(--bg-color);\n",
              "    border: none;\n",
              "    border-radius: 50%;\n",
              "    cursor: pointer;\n",
              "    display: none;\n",
              "    fill: var(--fill-color);\n",
              "    height: 32px;\n",
              "    padding: 0;\n",
              "    width: 32px;\n",
              "  }\n",
              "\n",
              "  .colab-df-quickchart:hover {\n",
              "    background-color: var(--hover-bg-color);\n",
              "    box-shadow: 0 1px 2px rgba(60, 64, 67, 0.3), 0 1px 3px 1px rgba(60, 64, 67, 0.15);\n",
              "    fill: var(--button-hover-fill-color);\n",
              "  }\n",
              "\n",
              "  .colab-df-quickchart-complete:disabled,\n",
              "  .colab-df-quickchart-complete:disabled:hover {\n",
              "    background-color: var(--disabled-bg-color);\n",
              "    fill: var(--disabled-fill-color);\n",
              "    box-shadow: none;\n",
              "  }\n",
              "\n",
              "  .colab-df-spinner {\n",
              "    border: 2px solid var(--fill-color);\n",
              "    border-color: transparent;\n",
              "    border-bottom-color: var(--fill-color);\n",
              "    animation:\n",
              "      spin 1s steps(1) infinite;\n",
              "  }\n",
              "\n",
              "  @keyframes spin {\n",
              "    0% {\n",
              "      border-color: transparent;\n",
              "      border-bottom-color: var(--fill-color);\n",
              "      border-left-color: var(--fill-color);\n",
              "    }\n",
              "    20% {\n",
              "      border-color: transparent;\n",
              "      border-left-color: var(--fill-color);\n",
              "      border-top-color: var(--fill-color);\n",
              "    }\n",
              "    30% {\n",
              "      border-color: transparent;\n",
              "      border-left-color: var(--fill-color);\n",
              "      border-top-color: var(--fill-color);\n",
              "      border-right-color: var(--fill-color);\n",
              "    }\n",
              "    40% {\n",
              "      border-color: transparent;\n",
              "      border-right-color: var(--fill-color);\n",
              "      border-top-color: var(--fill-color);\n",
              "    }\n",
              "    60% {\n",
              "      border-color: transparent;\n",
              "      border-right-color: var(--fill-color);\n",
              "    }\n",
              "    80% {\n",
              "      border-color: transparent;\n",
              "      border-right-color: var(--fill-color);\n",
              "      border-bottom-color: var(--fill-color);\n",
              "    }\n",
              "    90% {\n",
              "      border-color: transparent;\n",
              "      border-bottom-color: var(--fill-color);\n",
              "    }\n",
              "  }\n",
              "</style>\n",
              "\n",
              "      <script>\n",
              "        async function quickchart(key) {\n",
              "          const quickchartButtonEl =\n",
              "            document.querySelector('#' + key + ' button');\n",
              "          quickchartButtonEl.disabled = true;  // To prevent multiple clicks.\n",
              "          quickchartButtonEl.classList.add('colab-df-spinner');\n",
              "          try {\n",
              "            const charts = await google.colab.kernel.invokeFunction(\n",
              "                'suggestCharts', [key], {});\n",
              "          } catch (error) {\n",
              "            console.error('Error during call to suggestCharts:', error);\n",
              "          }\n",
              "          quickchartButtonEl.classList.remove('colab-df-spinner');\n",
              "          quickchartButtonEl.classList.add('colab-df-quickchart-complete');\n",
              "        }\n",
              "        (() => {\n",
              "          let quickchartButtonEl =\n",
              "            document.querySelector('#df-fed89e08-23b9-48c2-b70f-8a242e283a5c button');\n",
              "          quickchartButtonEl.style.display =\n",
              "            google.colab.kernel.accessAllowed ? 'block' : 'none';\n",
              "        })();\n",
              "      </script>\n",
              "    </div>\n",
              "\n",
              "  <div id=\"id_aa2208f2-c7ac-4b60-89f5-4d61e08cf5cd\">\n",
              "    <style>\n",
              "      .colab-df-generate {\n",
              "        background-color: #E8F0FE;\n",
              "        border: none;\n",
              "        border-radius: 50%;\n",
              "        cursor: pointer;\n",
              "        display: none;\n",
              "        fill: #1967D2;\n",
              "        height: 32px;\n",
              "        padding: 0 0 0 0;\n",
              "        width: 32px;\n",
              "      }\n",
              "\n",
              "      .colab-df-generate:hover {\n",
              "        background-color: #E2EBFA;\n",
              "        box-shadow: 0px 1px 2px rgba(60, 64, 67, 0.3), 0px 1px 3px 1px rgba(60, 64, 67, 0.15);\n",
              "        fill: #174EA6;\n",
              "      }\n",
              "\n",
              "      [theme=dark] .colab-df-generate {\n",
              "        background-color: #3B4455;\n",
              "        fill: #D2E3FC;\n",
              "      }\n",
              "\n",
              "      [theme=dark] .colab-df-generate:hover {\n",
              "        background-color: #434B5C;\n",
              "        box-shadow: 0px 1px 3px 1px rgba(0, 0, 0, 0.15);\n",
              "        filter: drop-shadow(0px 1px 2px rgba(0, 0, 0, 0.3));\n",
              "        fill: #FFFFFF;\n",
              "      }\n",
              "    </style>\n",
              "    <button class=\"colab-df-generate\" onclick=\"generateWithVariable('X')\"\n",
              "            title=\"Generate code using this dataframe.\"\n",
              "            style=\"display:none;\">\n",
              "\n",
              "  <svg xmlns=\"http://www.w3.org/2000/svg\" height=\"24px\"viewBox=\"0 0 24 24\"\n",
              "       width=\"24px\">\n",
              "    <path d=\"M7,19H8.4L18.45,9,17,7.55,7,17.6ZM5,21V16.75L18.45,3.32a2,2,0,0,1,2.83,0l1.4,1.43a1.91,1.91,0,0,1,.58,1.4,1.91,1.91,0,0,1-.58,1.4L9.25,21ZM18.45,9,17,7.55Zm-12,3A5.31,5.31,0,0,0,4.9,8.1,5.31,5.31,0,0,0,1,6.5,5.31,5.31,0,0,0,4.9,4.9,5.31,5.31,0,0,0,6.5,1,5.31,5.31,0,0,0,8.1,4.9,5.31,5.31,0,0,0,12,6.5,5.46,5.46,0,0,0,6.5,12Z\"/>\n",
              "  </svg>\n",
              "    </button>\n",
              "    <script>\n",
              "      (() => {\n",
              "      const buttonEl =\n",
              "        document.querySelector('#id_aa2208f2-c7ac-4b60-89f5-4d61e08cf5cd button.colab-df-generate');\n",
              "      buttonEl.style.display =\n",
              "        google.colab.kernel.accessAllowed ? 'block' : 'none';\n",
              "\n",
              "      buttonEl.onclick = () => {\n",
              "        google.colab.notebook.generateWithVariable('X');\n",
              "      }\n",
              "      })();\n",
              "    </script>\n",
              "  </div>\n",
              "\n",
              "    </div>\n",
              "  </div>\n"
            ],
            "application/vnd.google.colaboratory.intrinsic+json": {
              "type": "dataframe",
              "variable_name": "X",
              "summary": "{\n  \"name\": \"X\",\n  \"rows\": 1137,\n  \"fields\": [\n    {\n      \"column\": \"Age\",\n      \"properties\": {\n        \"dtype\": \"number\",\n        \"std\": 1,\n        \"min\": 19,\n        \"max\": 30,\n        \"num_unique_values\": 11,\n        \"samples\": [\n          30,\n          22,\n          19\n        ],\n        \"semantic_type\": \"\",\n        \"description\": \"\"\n      }\n    },\n    {\n      \"column\": \"Gender\",\n      \"properties\": {\n        \"dtype\": \"number\",\n        \"std\": 0,\n        \"min\": 0,\n        \"max\": 1,\n        \"num_unique_values\": 2,\n        \"samples\": [\n          0,\n          1\n        ],\n        \"semantic_type\": \"\",\n        \"description\": \"\"\n      }\n    },\n    {\n      \"column\": \"Stream\",\n      \"properties\": {\n        \"dtype\": \"number\",\n        \"std\": 1,\n        \"min\": 1,\n        \"max\": 6,\n        \"num_unique_values\": 6,\n        \"samples\": [\n          1,\n          2\n        ],\n        \"semantic_type\": \"\",\n        \"description\": \"\"\n      }\n    },\n    {\n      \"column\": \"Internships\",\n      \"properties\": {\n        \"dtype\": \"number\",\n        \"std\": 0,\n        \"min\": 0,\n        \"max\": 3,\n        \"num_unique_values\": 4,\n        \"samples\": [\n          0,\n          3\n        ],\n        \"semantic_type\": \"\",\n        \"description\": \"\"\n      }\n    },\n    {\n      \"column\": \"CGPA\",\n      \"properties\": {\n        \"dtype\": \"number\",\n        \"std\": 1,\n        \"min\": 5,\n        \"max\": 9,\n        \"num_unique_values\": 5,\n        \"samples\": [\n          7,\n          5\n        ],\n        \"semantic_type\": \"\",\n        \"description\": \"\"\n      }\n    },\n    {\n      \"column\": \"Hostel\",\n      \"properties\": {\n        \"dtype\": \"number\",\n        \"std\": 0,\n        \"min\": 0,\n        \"max\": 1,\n        \"num_unique_values\": 2,\n        \"samples\": [\n          0,\n          1\n        ],\n        \"semantic_type\": \"\",\n        \"description\": \"\"\n      }\n    },\n    {\n      \"column\": \"HistoryOfBacklogs\",\n      \"properties\": {\n        \"dtype\": \"number\",\n        \"std\": 0,\n        \"min\": 0,\n        \"max\": 1,\n        \"num_unique_values\": 2,\n        \"samples\": [\n          0,\n          1\n        ],\n        \"semantic_type\": \"\",\n        \"description\": \"\"\n      }\n    }\n  ]\n}"
            }
          },
          "metadata": {},
          "execution_count": 27
        }
      ]
    },
    {
      "cell_type": "code",
      "source": [
        "print(X.shape)\n",
        "print(y.shape)"
      ],
      "metadata": {
        "colab": {
          "base_uri": "https://localhost:8080/"
        },
        "id": "bk-YYFEimtxp",
        "outputId": "a74ae981-2d71-494d-91da-d837fc13152d"
      },
      "execution_count": 28,
      "outputs": [
        {
          "output_type": "stream",
          "name": "stdout",
          "text": [
            "(1137, 7)\n",
            "(1137,)\n"
          ]
        }
      ]
    },
    {
      "cell_type": "markdown",
      "source": [
        "**TRAIN TEST SPLIT**"
      ],
      "metadata": {
        "id": "HJjkLLXQlV34"
      }
    },
    {
      "cell_type": "code",
      "source": [
        "X_train,X_test,y_train,y_test = train_test_split(X,y,test_size=0.33)"
      ],
      "metadata": {
        "id": "HIg2T2dImvSF"
      },
      "execution_count": 29,
      "outputs": []
    },
    {
      "cell_type": "code",
      "source": [
        "print(X_train.shape)\n",
        "print(X_test.shape)\n",
        "print(y_train.shape)\n",
        "print(y_test.shape)"
      ],
      "metadata": {
        "colab": {
          "base_uri": "https://localhost:8080/"
        },
        "id": "7Nl4xZksmwi3",
        "outputId": "e60147c9-43bc-4109-b986-7e577e77d17f"
      },
      "execution_count": 30,
      "outputs": [
        {
          "output_type": "stream",
          "name": "stdout",
          "text": [
            "(761, 7)\n",
            "(376, 7)\n",
            "(761,)\n",
            "(376,)\n"
          ]
        }
      ]
    },
    {
      "cell_type": "markdown",
      "source": [
        "**SCALING**"
      ],
      "metadata": {
        "id": "OZqVgIrvlak5"
      }
    },
    {
      "cell_type": "code",
      "source": [
        "scaler = StandardScaler()\n",
        "X_train_scale = scaler.fit_transform(X_train)\n",
        "X_test_scale = scaler.transform(X_test)"
      ],
      "metadata": {
        "id": "ebIeBFqPmxwL"
      },
      "execution_count": 31,
      "outputs": []
    },
    {
      "cell_type": "markdown",
      "source": [
        "**LOGISTIC REGRESSION**"
      ],
      "metadata": {
        "id": "dKu6FStDlfd2"
      }
    },
    {
      "cell_type": "code",
      "source": [
        "from sklearn.linear_model import LogisticRegression\n",
        "clf = LogisticRegression()\n",
        "\n",
        "# Without Scaling\n",
        "clf.fit(X_train,y_train)\n",
        "y_pred = clf.predict(X_test)\n",
        "print(\"Without Scaling and CV: \",accuracy_score(y_test,y_pred))\n",
        "scores = cross_val_score(clf, X_train, y_train, cv=10)\n",
        "print(\"Without Scaling and With CV: \",scores.mean())\n",
        "\n",
        "# With Scaling\n",
        "clf.fit(X_train_scale,y_train)\n",
        "y_pred = clf.predict(X_test_scale)\n",
        "print(\"With Scaling and Without CV: \",accuracy_score(y_test,y_pred))\n",
        "scores = cross_val_score(clf, X_train_scale, y_train, cv=10)\n",
        "print(\"With Scaling and With CV: \",scores.mean())"
      ],
      "metadata": {
        "colab": {
          "base_uri": "https://localhost:8080/"
        },
        "id": "BIyR0rvxmzlK",
        "outputId": "09451291-cf28-451f-e88d-e72b73921f7c"
      },
      "execution_count": 32,
      "outputs": [
        {
          "output_type": "stream",
          "name": "stdout",
          "text": [
            "Without Scaling and CV:  0.7420212765957447\n",
            "Without Scaling and With CV:  0.7123034859876964\n",
            "With Scaling and Without CV:  0.7420212765957447\n",
            "With Scaling and With CV:  0.7123034859876964\n"
          ]
        }
      ]
    },
    {
      "cell_type": "markdown",
      "source": [
        "**SGD Classifier**"
      ],
      "metadata": {
        "id": "llhhIKQqn_xa"
      }
    },
    {
      "cell_type": "code",
      "source": [
        "from sklearn.linear_model import SGDClassifier\n",
        "clf = SGDClassifier(max_iter=1000, tol=1e-3)\n",
        "\n",
        "# Without Scaling\n",
        "clf.fit(X_train,y_train)\n",
        "y_pred = clf.predict(X_test)\n",
        "print(\"Without Scaling and CV: \",accuracy_score(y_test,y_pred))\n",
        "scores = cross_val_score(clf, X_train, y_train, cv=10)\n",
        "print(\"Without Scaling and With CV: \",scores.mean())\n",
        "\n",
        "# With Scaling\n",
        "clf.fit(X_train_scale,y_train)\n",
        "y_pred = clf.predict(X_test_scale)\n",
        "print(\"With Scaling and Without CV: \",accuracy_score(y_test,y_pred))\n",
        "scores = cross_val_score(clf, X_train_scale, y_train, cv=10)\n",
        "print(\"With Scaling and With CV: \",scores.mean())"
      ],
      "metadata": {
        "colab": {
          "base_uri": "https://localhost:8080/"
        },
        "id": "ABNI8wK7m1j4",
        "outputId": "5f1da34e-70cc-43bc-bc93-544d67e53fef"
      },
      "execution_count": 33,
      "outputs": [
        {
          "output_type": "stream",
          "name": "stdout",
          "text": [
            "Without Scaling and CV:  0.5292553191489362\n",
            "Without Scaling and With CV:  0.6479494190020504\n",
            "With Scaling and Without CV:  0.7367021276595744\n",
            "With Scaling and With CV:  0.7121838687628161\n"
          ]
        }
      ]
    },
    {
      "cell_type": "code",
      "source": [
        "from sklearn.linear_model import Perceptron\n",
        "# this is same as SGDClassifier(loss=\"perceptron\", eta0=1, learning_rate=\"constant\", penalty=None)\n",
        "\n",
        "clf = Perceptron(tol=1e-3, random_state=0)\n",
        "# Without Scaling\n",
        "clf.fit(X_train,y_train)\n",
        "y_pred = clf.predict(X_test)\n",
        "print(\"Without Scaling and CV: \",accuracy_score(y_test,y_pred))\n",
        "scores = cross_val_score(clf, X_train, y_train, cv=10)\n",
        "print(\"Without Scaling and With CV: \",scores.mean())\n",
        "\n",
        "# With Scaling\n",
        "clf.fit(X_train_scale,y_train)\n",
        "y_pred = clf.predict(X_test_scale)\n",
        "print(\"With Scaling and Without CV: \",accuracy_score(y_test,y_pred))\n",
        "scores = cross_val_score(clf, X_train_scale, y_train, cv=10)\n",
        "print(\"With Scaling and With CV: \",scores.mean())"
      ],
      "metadata": {
        "colab": {
          "base_uri": "https://localhost:8080/"
        },
        "id": "UPyv1rMQnqRG",
        "outputId": "6721beb2-a082-4531-adfe-c11ab53b3931"
      },
      "execution_count": 34,
      "outputs": [
        {
          "output_type": "stream",
          "name": "stdout",
          "text": [
            "Without Scaling and CV:  0.5957446808510638\n",
            "Without Scaling and With CV:  0.6229323308270677\n",
            "With Scaling and Without CV:  0.5851063829787234\n",
            "With Scaling and With CV:  0.6478127136021874\n"
          ]
        }
      ]
    },
    {
      "cell_type": "code",
      "source": [
        "from sklearn.linear_model import LogisticRegressionCV\n",
        "clf = LogisticRegressionCV(cv=5, random_state=0)\n",
        "\n",
        "# Without Scaling\n",
        "clf.fit(X_train,y_train)\n",
        "y_pred = clf.predict(X_test)\n",
        "print(\"Without Scaling and CV: \",accuracy_score(y_test,y_pred))\n",
        "scores = cross_val_score(clf, X_train, y_train, cv=10)\n",
        "print(\"Without Scaling and With CV: \",scores.mean())\n",
        "\n",
        "# With Scaling\n",
        "clf.fit(X_train_scale,y_train)\n",
        "y_pred = clf.predict(X_test_scale)\n",
        "print(\"With Scaling and Without CV: \",accuracy_score(y_test,y_pred))\n",
        "scores = cross_val_score(clf, X_train_scale, y_train, cv=10)\n",
        "print(\"With Scaling and With CV: \",scores.mean())"
      ],
      "metadata": {
        "colab": {
          "base_uri": "https://localhost:8080/"
        },
        "id": "xYYYJX_7ntLl",
        "outputId": "061184b8-f0dd-4824-a879-e06ac9d0a72e"
      },
      "execution_count": 35,
      "outputs": [
        {
          "output_type": "stream",
          "name": "stderr",
          "text": [
            "/usr/local/lib/python3.11/dist-packages/sklearn/linear_model/_logistic.py:465: ConvergenceWarning:\n",
            "\n",
            "lbfgs failed to converge (status=1):\n",
            "STOP: TOTAL NO. OF ITERATIONS REACHED LIMIT.\n",
            "\n",
            "Increase the number of iterations (max_iter) or scale the data as shown in:\n",
            "    https://scikit-learn.org/stable/modules/preprocessing.html\n",
            "Please also refer to the documentation for alternative solver options:\n",
            "    https://scikit-learn.org/stable/modules/linear_model.html#logistic-regression\n",
            "\n"
          ]
        },
        {
          "output_type": "stream",
          "name": "stdout",
          "text": [
            "Without Scaling and CV:  0.7446808510638298\n"
          ]
        },
        {
          "output_type": "stream",
          "name": "stderr",
          "text": [
            "/usr/local/lib/python3.11/dist-packages/sklearn/linear_model/_logistic.py:465: ConvergenceWarning:\n",
            "\n",
            "lbfgs failed to converge (status=1):\n",
            "STOP: TOTAL NO. OF ITERATIONS REACHED LIMIT.\n",
            "\n",
            "Increase the number of iterations (max_iter) or scale the data as shown in:\n",
            "    https://scikit-learn.org/stable/modules/preprocessing.html\n",
            "Please also refer to the documentation for alternative solver options:\n",
            "    https://scikit-learn.org/stable/modules/linear_model.html#logistic-regression\n",
            "\n"
          ]
        },
        {
          "output_type": "stream",
          "name": "stdout",
          "text": [
            "Without Scaling and With CV:  0.7057245386192755\n",
            "With Scaling and Without CV:  0.7393617021276596\n",
            "With Scaling and With CV:  0.709671907040328\n"
          ]
        }
      ]
    },
    {
      "cell_type": "markdown",
      "source": [
        "**DECISION TREE CLASSIFIER**"
      ],
      "metadata": {
        "id": "q6oyzkhWoLfq"
      }
    },
    {
      "cell_type": "code",
      "source": [
        "from sklearn.tree import DecisionTreeClassifier\n",
        "clf = DecisionTreeClassifier(random_state=0)\n",
        "\n",
        "#without scaling\n",
        "clf.fit(X_train,y_train)\n",
        "y_pred = clf.predict(X_test)\n",
        "print(\"Without Scaling and CV: \",accuracy_score(y_test,y_pred))\n",
        "scores = cross_val_score(clf, X_train, y_train, cv=10)\n",
        "print(\"Without Scaling and With CV: \",scores.mean())\n",
        "\n",
        "# With Scaling\n",
        "clf.fit(X_train_scale,y_train)\n",
        "y_pred = clf.predict(X_test_scale)\n",
        "print(\"With Scaling and Without CV: \",accuracy_score(y_test,y_pred))\n",
        "scores = cross_val_score(clf, X_train_scale, y_train, cv=10)\n",
        "print(\"With Scaling and With CV: \",scores.mean())"
      ],
      "metadata": {
        "colab": {
          "base_uri": "https://localhost:8080/"
        },
        "id": "39HoqcivnvLN",
        "outputId": "6aa5c6eb-78dc-4743-93d6-3929270fd566"
      },
      "execution_count": 36,
      "outputs": [
        {
          "output_type": "stream",
          "name": "stdout",
          "text": [
            "Without Scaling and CV:  0.7420212765957447\n",
            "Without Scaling and With CV:  0.7569548872180452\n",
            "With Scaling and Without CV:  0.7446808510638298\n",
            "With Scaling and With CV:  0.755622009569378\n"
          ]
        }
      ]
    },
    {
      "cell_type": "markdown",
      "source": [
        "**RANDOM FOREST CLASSIFIER**"
      ],
      "metadata": {
        "id": "WHyy0eEloPrF"
      }
    },
    {
      "cell_type": "code",
      "source": [
        "from sklearn.ensemble import RandomForestClassifier\n",
        "\n",
        "clf = RandomForestClassifier(max_depth=10, random_state=0)\n",
        "\n",
        "clf.fit(X_train,y_train)\n",
        "y_pred = clf.predict(X_test)\n",
        "print(\"Without Scaling and CV: \",accuracy_score(y_test,y_pred))\n",
        "scores = cross_val_score(clf, X_train, y_train, cv=10)\n",
        "print(\"Without Scaling and With CV: \",scores.mean())\n",
        "\n",
        "# With Scaling\n",
        "clf.fit(X_train_scale,y_train)\n",
        "y_pred = clf.predict(X_test_scale)\n",
        "print(\"With Scaling and Without CV: \",accuracy_score(y_test,y_pred))\n",
        "scores = cross_val_score(clf, X_train_scale, y_train, cv=10)\n",
        "print(\"With Scaling and With CV: \",scores.mean())"
      ],
      "metadata": {
        "colab": {
          "base_uri": "https://localhost:8080/"
        },
        "id": "PvyzIR_vnz_Q",
        "outputId": "b391bce7-5216-4264-f380-432c6815295f"
      },
      "execution_count": 37,
      "outputs": [
        {
          "output_type": "stream",
          "name": "stdout",
          "text": [
            "Without Scaling and CV:  0.773936170212766\n",
            "Without Scaling and With CV:  0.7871667805878333\n",
            "With Scaling and Without CV:  0.7792553191489362\n",
            "With Scaling and With CV:  0.7884825700615175\n"
          ]
        }
      ]
    },
    {
      "cell_type": "markdown",
      "source": [
        "**SVM**"
      ],
      "metadata": {
        "id": "dbtbQ0Y-oVpo"
      }
    },
    {
      "cell_type": "code",
      "source": [
        "from sklearn.svm import SVC\n",
        "#clf = SVC(gamma='auto')\n",
        "\n",
        "svc = SVC()\n",
        "parameters = {'kernel':('linear', 'rbf'), 'C':[1, 10]}\n",
        "clf = GridSearchCV(svc, parameters)\n",
        "\n",
        "clf.fit(X_train,y_train)\n",
        "y_pred = clf.predict(X_test)\n",
        "print(\"Best Parameters:\", clf.best_params_)\n",
        "print(\"Best Score:\", clf.best_score_)\n",
        "print(\"Without Scaling and CV: \",accuracy_score(y_test,y_pred))\n",
        "scores = cross_val_score(clf, X_train, y_train, cv=10)\n",
        "print(\"Without Scaling and With CV: \",scores.mean())\n",
        "\n",
        "# With Scaling\n",
        "clf.fit(X_train_scale,y_train)\n",
        "y_pred = clf.predict(X_test_scale)\n",
        "print(\"Best Parameters:\", clf.best_params_)\n",
        "print(\"Best Score:\", clf.best_score_)\n",
        "print(\"With Scaling and Without CV: \",accuracy_score(y_test,y_pred))\n",
        "scores = cross_val_score(clf, X_train_scale, y_train, cv=10)\n",
        "print(\"With Scaling and With CV: \",scores.mean())"
      ],
      "metadata": {
        "colab": {
          "base_uri": "https://localhost:8080/"
        },
        "id": "Q-1DSwgun2C-",
        "outputId": "314f8d9d-e5d5-4bc9-ca5d-ff1deeca69f7"
      },
      "execution_count": 38,
      "outputs": [
        {
          "output_type": "stream",
          "name": "stdout",
          "text": [
            "Best Parameters: {'C': 10, 'kernel': 'rbf'}\n",
            "Best Score: 0.7332989336085312\n",
            "Without Scaling and CV:  0.7606382978723404\n",
            "Without Scaling and With CV:  0.7254101161995898\n",
            "Best Parameters: {'C': 1, 'kernel': 'rbf'}\n",
            "Best Score: 0.7858531131750945\n",
            "With Scaling and Without CV:  0.7792553191489362\n",
            "With Scaling and With CV:  0.7805707450444291\n"
          ]
        }
      ]
    },
    {
      "cell_type": "code",
      "source": [
        "from sklearn.svm import NuSVC\n",
        "clf = NuSVC()\n",
        "\n",
        "clf.fit(X_train,y_train)\n",
        "y_pred = clf.predict(X_test)\n",
        "print(\"Without Scaling and CV: \",accuracy_score(y_test,y_pred))\n",
        "scores = cross_val_score(clf, X_train, y_train, cv=10)\n",
        "print(\"Without Scaling and With CV: \",scores.mean())\n",
        "\n",
        "# With Scaling\n",
        "clf.fit(X_train_scale,y_train)\n",
        "y_pred = clf.predict(X_test_scale)\n",
        "print(\"With Scaling and Without CV: \",accuracy_score(y_test,y_pred))\n",
        "scores = cross_val_score(clf, X_train_scale, y_train, cv=10)\n",
        "print(\"With Scaling and With CV: \",scores.mean())"
      ],
      "metadata": {
        "colab": {
          "base_uri": "https://localhost:8080/"
        },
        "id": "F1pUhQtQn6Tc",
        "outputId": "22f70766-e9a2-4d16-fe94-55c7fe892e4b"
      },
      "execution_count": 39,
      "outputs": [
        {
          "output_type": "stream",
          "name": "stdout",
          "text": [
            "Without Scaling and CV:  0.7606382978723404\n",
            "Without Scaling and With CV:  0.7766233766233768\n",
            "With Scaling and Without CV:  0.7819148936170213\n",
            "With Scaling and With CV:  0.7779733424470268\n"
          ]
        }
      ]
    },
    {
      "cell_type": "markdown",
      "source": [
        "**NAIVE BAYES**"
      ],
      "metadata": {
        "id": "N5MEAgyAoeFF"
      }
    },
    {
      "cell_type": "code",
      "source": [
        "from sklearn.naive_bayes import GaussianNB\n",
        "clf = GaussianNB()\n",
        "\n",
        "#y_pred = gnb.fit(X_train, y_train).predict(X_test)\n",
        "#print(\"Number of mislabeled points out of a total %d points : %d\" % (X_test.shape[0], (y_test != y_pred).sum()))\n",
        "\n",
        "clf.fit(X_train,y_train)\n",
        "y_pred = clf.predict(X_test)\n",
        "print(\"Without Scaling and CV: \",accuracy_score(y_test,y_pred))\n",
        "scores = cross_val_score(clf, X_train, y_train, cv=10)\n",
        "print(\"Without Scaling and With CV: \",scores.mean())\n",
        "\n",
        "# With Scaling\n",
        "clf.fit(X_train_scale,y_train)\n",
        "y_pred = clf.predict(X_test_scale)\n",
        "print(\"With Scaling and Without CV: \",accuracy_score(y_test,y_pred))\n",
        "scores = cross_val_score(clf, X_train_scale, y_train, cv=10)\n",
        "print(\"With Scaling and With CV: \",scores.mean())"
      ],
      "metadata": {
        "colab": {
          "base_uri": "https://localhost:8080/"
        },
        "id": "kKfhncmCoCMm",
        "outputId": "013effb5-bb67-4fbb-b0bf-185febf1dea7"
      },
      "execution_count": 40,
      "outputs": [
        {
          "output_type": "stream",
          "name": "stdout",
          "text": [
            "Without Scaling and CV:  0.75\n",
            "Without Scaling and With CV:  0.7293062200956937\n",
            "With Scaling and Without CV:  0.75\n",
            "With Scaling and With CV:  0.7293062200956937\n"
          ]
        }
      ]
    },
    {
      "cell_type": "code",
      "source": [
        "from sklearn.naive_bayes import MultinomialNB\n",
        "clf = MultinomialNB()\n",
        "\n",
        "clf.fit(X_train,y_train)\n",
        "y_pred = clf.predict(X_test)\n",
        "print(\"Without Scaling and CV: \",accuracy_score(y_test,y_pred))\n",
        "scores = cross_val_score(clf, X_train, y_train, cv=10)\n",
        "print(\"Without Scaling and With CV: \",scores.mean())"
      ],
      "metadata": {
        "colab": {
          "base_uri": "https://localhost:8080/"
        },
        "id": "V46Ciy3koC1F",
        "outputId": "afead00d-41a3-4a07-8db0-df465837e843"
      },
      "execution_count": 41,
      "outputs": [
        {
          "output_type": "stream",
          "name": "stdout",
          "text": [
            "Without Scaling and CV:  0.6462765957446809\n",
            "Without Scaling and With CV:  0.6241626794258373\n"
          ]
        }
      ]
    },
    {
      "cell_type": "code",
      "source": [
        "from sklearn.naive_bayes import BernoulliNB\n",
        "clf = BernoulliNB()\n",
        "\n",
        "clf.fit(X_train,y_train)\n",
        "y_pred = clf.predict(X_test)\n",
        "print(\"Without Scaling and CV: \",accuracy_score(y_test,y_pred))\n",
        "scores = cross_val_score(clf, X_train, y_train, cv=10)\n",
        "print(\"Without Scaling and With CV: \",scores.mean())\n",
        "\n",
        "# With Scaling\n",
        "clf.fit(X_train_scale,y_train)\n",
        "y_pred = clf.predict(X_test_scale)\n",
        "print(\"With Scaling and Without CV: \",accuracy_score(y_test,y_pred))\n",
        "scores = cross_val_score(clf, X_train_scale, y_train, cv=10)\n",
        "print(\"With Scaling and With CV: \",scores.mean())"
      ],
      "metadata": {
        "colab": {
          "base_uri": "https://localhost:8080/"
        },
        "id": "H5BSfoZBoFwB",
        "outputId": "83885bae-45c3-44bd-ae2f-56aca724f42f"
      },
      "execution_count": 42,
      "outputs": [
        {
          "output_type": "stream",
          "name": "stdout",
          "text": [
            "Without Scaling and CV:  0.5851063829787234\n",
            "Without Scaling and With CV:  0.5637730690362269\n",
            "With Scaling and Without CV:  0.6914893617021277\n",
            "With Scaling and With CV:  0.658339029391661\n"
          ]
        }
      ]
    },
    {
      "cell_type": "markdown",
      "source": [
        "**KNN**"
      ],
      "metadata": {
        "id": "2qAceVRQojeN"
      }
    },
    {
      "cell_type": "code",
      "source": [
        "from sklearn.neighbors import KNeighborsClassifier\n",
        "clf = KNeighborsClassifier(n_neighbors=3)\n",
        "\n",
        "clf.fit(X_train,y_train)\n",
        "y_pred = clf.predict(X_test)\n",
        "print(\"Without Scaling and CV: \",accuracy_score(y_test,y_pred))\n",
        "scores = cross_val_score(clf, X_train, y_train, cv=10)\n",
        "print(\"Without Scaling and With CV: \",scores.mean())\n",
        "\n",
        "\n",
        "# With Scaling\n",
        "clf.fit(X_train_scale,y_train)\n",
        "y_pred = clf.predict(X_test_scale)\n",
        "print(\"With Scaling and Without CV: \",accuracy_score(y_test,y_pred))\n",
        "scores = cross_val_score(clf, X_train_scale, y_train, cv=10)\n",
        "print(\"With Scaling and With CV: \",scores.mean())"
      ],
      "metadata": {
        "colab": {
          "base_uri": "https://localhost:8080/"
        },
        "id": "E8f7reI9oHAK",
        "outputId": "7e694851-577b-4683-9663-31a35f1fac06"
      },
      "execution_count": 43,
      "outputs": [
        {
          "output_type": "stream",
          "name": "stdout",
          "text": [
            "Without Scaling and CV:  0.7180851063829787\n",
            "Without Scaling and With CV:  0.7489405331510596\n",
            "With Scaling and Without CV:  0.675531914893617\n",
            "With Scaling and With CV:  0.7188824333561177\n"
          ]
        }
      ]
    },
    {
      "cell_type": "markdown",
      "source": [
        "**MODEL SELECTION - RANDOM FOREST PERFORMED WELL**"
      ],
      "metadata": {
        "id": "u9c8AJ9ZopEC"
      }
    },
    {
      "cell_type": "code",
      "source": [
        "clf = RandomForestClassifier(max_depth=10, random_state=0)\n",
        "clf.fit(X_train,y_train)\n",
        "y_pred = clf.predict(X_test)\n",
        "print(\"Without CV: \",accuracy_score(y_test,y_pred))\n",
        "scores = cross_val_score(clf, X_train, y_train, cv=10)\n",
        "print(\"With CV: \",scores.mean())\n",
        "print(\"Precision Score: \", precision_score(y_test, y_pred))\n",
        "print(\"Recall Score: \", recall_score(y_test, y_pred))\n",
        "print(\"F1 Score: \", f1_score(y_test, y_pred))"
      ],
      "metadata": {
        "colab": {
          "base_uri": "https://localhost:8080/"
        },
        "id": "zeJ44CVRoJke",
        "outputId": "9ab0c249-8e98-498f-d9ae-1d1b3032c73f"
      },
      "execution_count": 44,
      "outputs": [
        {
          "output_type": "stream",
          "name": "stdout",
          "text": [
            "Without CV:  0.773936170212766\n",
            "With CV:  0.7871667805878333\n",
            "Precision Score:  0.8601036269430051\n",
            "Recall Score:  0.7410714285714286\n",
            "F1 Score:  0.7961630695443646\n"
          ]
        }
      ]
    },
    {
      "cell_type": "markdown",
      "source": [
        "**TUNING THE MODEL**\n",
        "\n",
        "\n",
        "\n",
        "Using Hyper-Parameter tuning using GridsearchCV Hypertune the parameters for Random forest and get best parameters"
      ],
      "metadata": {
        "id": "JTU9w2rzovwm"
      }
    },
    {
      "cell_type": "code",
      "source": [
        "param_grid = {\n",
        "    'bootstrap': [False,True],\n",
        "    'max_depth': [5,8,10, 20],\n",
        "    'max_features': [3, 4, 5, None],\n",
        "    'min_samples_split': [2, 10, 12],\n",
        "    'n_estimators': [100, 200, 300]\n",
        "}\n",
        "\n",
        "rfc = RandomForestClassifier()\n",
        "\n",
        "clf = GridSearchCV(estimator = rfc, param_grid = param_grid, cv = 5, n_jobs = -1, verbose = 1)\n",
        "\n",
        "clf.fit(X_train,y_train)\n",
        "y_pred = clf.predict(X_test)\n",
        "print(\"Accuracy: \",accuracy_score(y_test,y_pred))\n",
        "print(clf.best_params_)\n",
        "print(clf.best_estimator_)"
      ],
      "metadata": {
        "colab": {
          "base_uri": "https://localhost:8080/"
        },
        "id": "T3V1KEiaoLjy",
        "outputId": "087587ec-2d12-426d-aa17-c3aab8a0c2f6"
      },
      "execution_count": 45,
      "outputs": [
        {
          "output_type": "stream",
          "name": "stdout",
          "text": [
            "Fitting 5 folds for each of 288 candidates, totalling 1440 fits\n",
            "Accuracy:  0.8111702127659575\n",
            "{'bootstrap': True, 'max_depth': 5, 'max_features': 5, 'min_samples_split': 2, 'n_estimators': 300}\n",
            "RandomForestClassifier(max_depth=5, max_features=5, n_estimators=300)\n"
          ]
        }
      ]
    },
    {
      "cell_type": "markdown",
      "source": [
        "**Training the final model with best parameters:**"
      ],
      "metadata": {
        "id": "laDOAy1RqtdK"
      }
    },
    {
      "cell_type": "code",
      "source": [
        "clf = RandomForestClassifier(bootstrap=False, max_depth=5,max_features=None,\n",
        "                             min_samples_split=2,\n",
        "                             n_estimators=100, random_state=0)\n",
        "clf.fit(X_train,y_train)\n",
        "y_pred = clf.predict(X_test)\n",
        "print(\"Without CV: \",accuracy_score(y_test,y_pred))\n",
        "scores = cross_val_score(clf, X_train, y_train, cv=10)\n",
        "print(\"With CV: \",scores.mean())\n",
        "print(\"Precision Score: \", precision_score(y_test, y_pred))\n",
        "print(\"Recall Score: \", recall_score(y_test, y_pred))\n",
        "print(\"F1 Score: \", f1_score(y_test, y_pred))"
      ],
      "metadata": {
        "colab": {
          "base_uri": "https://localhost:8080/"
        },
        "id": "HVvG6qF9oN4O",
        "outputId": "a7a36170-1b71-4cf2-b37d-85db13ac8391"
      },
      "execution_count": 46,
      "outputs": [
        {
          "output_type": "stream",
          "name": "stdout",
          "text": [
            "Without CV:  0.8164893617021277\n",
            "With CV:  0.8108509911141489\n",
            "Precision Score:  0.9428571428571428\n",
            "Recall Score:  0.7366071428571429\n",
            "F1 Score:  0.8270676691729323\n"
          ]
        }
      ]
    },
    {
      "cell_type": "markdown",
      "source": [
        "**Deploy the model**\n",
        "\n",
        "\n",
        "\n",
        "\n",
        "Dump the model"
      ],
      "metadata": {
        "id": "6ND2Wys7qyHH"
      }
    },
    {
      "cell_type": "code",
      "source": [
        "pickle.dump(clf,open('model.pkl','wb'))"
      ],
      "metadata": {
        "id": "y81uB4RHqjsz"
      },
      "execution_count": 47,
      "outputs": []
    },
    {
      "cell_type": "markdown",
      "source": [
        "LOAD THE MODEL"
      ],
      "metadata": {
        "id": "llzLHoOQq33k"
      }
    },
    {
      "cell_type": "code",
      "source": [
        "model = pickle.load(open('model.pkl','rb'))"
      ],
      "metadata": {
        "id": "NkmVvijqqpB_"
      },
      "execution_count": 48,
      "outputs": []
    },
    {
      "cell_type": "markdown",
      "source": [
        "MAKE PREDICTIONS"
      ],
      "metadata": {
        "id": "JKCgw02wq9Q3"
      }
    },
    {
      "cell_type": "code",
      "source": [
        "age = 22\n",
        "gender = 0 # 1=Male, 0=Female\n",
        "stream = 2  # Electronics And Communication': 1,\n",
        "#              'Computer Science': 2,\n",
        "#              'Information Technology': 3,\n",
        "#              'Mechanical':4,\n",
        "#              'Electrical':5,\n",
        "#              'Civil':6\n",
        "Internships = 5\n",
        "CGPA = 9\n",
        "Hostel = 1 # 1= stay in hostel, 0=not staying in hostel\n",
        "HistoryOfBacklogs = 1 # 1 = had backlogs, 0=no backlogs\n",
        "\n",
        "prediction = clf.predict([[age,gender,stream,Internships,CGPA,Hostel,HistoryOfBacklogs]])\n",
        "prediction"
      ],
      "metadata": {
        "colab": {
          "base_uri": "https://localhost:8080/"
        },
        "id": "vz-oYulmqqmT",
        "outputId": "0d6ea5fa-afcf-495b-82b6-fb5d7d4f699a"
      },
      "execution_count": 50,
      "outputs": [
        {
          "output_type": "stream",
          "name": "stderr",
          "text": [
            "/usr/local/lib/python3.11/dist-packages/sklearn/utils/validation.py:2739: UserWarning:\n",
            "\n",
            "X does not have valid feature names, but RandomForestClassifier was fitted with feature names\n",
            "\n"
          ]
        },
        {
          "output_type": "execute_result",
          "data": {
            "text/plain": [
              "array([1])"
            ]
          },
          "metadata": {},
          "execution_count": 50
        }
      ]
    },
    {
      "cell_type": "code",
      "source": [
        "!pip install gradio joblib"
      ],
      "metadata": {
        "colab": {
          "base_uri": "https://localhost:8080/"
        },
        "id": "9asBGpqzrLNP",
        "outputId": "33d3063e-75f3-454a-db67-4ce88d2d7afb"
      },
      "execution_count": 51,
      "outputs": [
        {
          "output_type": "stream",
          "name": "stdout",
          "text": [
            "Collecting gradio\n",
            "  Downloading gradio-5.29.0-py3-none-any.whl.metadata (16 kB)\n",
            "Requirement already satisfied: joblib in /usr/local/lib/python3.11/dist-packages (1.5.0)\n",
            "Collecting aiofiles<25.0,>=22.0 (from gradio)\n",
            "  Downloading aiofiles-24.1.0-py3-none-any.whl.metadata (10 kB)\n",
            "Requirement already satisfied: anyio<5.0,>=3.0 in /usr/local/lib/python3.11/dist-packages (from gradio) (4.9.0)\n",
            "Collecting fastapi<1.0,>=0.115.2 (from gradio)\n",
            "  Downloading fastapi-0.115.12-py3-none-any.whl.metadata (27 kB)\n",
            "Collecting ffmpy (from gradio)\n",
            "  Downloading ffmpy-0.5.0-py3-none-any.whl.metadata (3.0 kB)\n",
            "Collecting gradio-client==1.10.0 (from gradio)\n",
            "  Downloading gradio_client-1.10.0-py3-none-any.whl.metadata (7.1 kB)\n",
            "Collecting groovy~=0.1 (from gradio)\n",
            "  Downloading groovy-0.1.2-py3-none-any.whl.metadata (6.1 kB)\n",
            "Requirement already satisfied: httpx>=0.24.1 in /usr/local/lib/python3.11/dist-packages (from gradio) (0.28.1)\n",
            "Requirement already satisfied: huggingface-hub>=0.28.1 in /usr/local/lib/python3.11/dist-packages (from gradio) (0.31.1)\n",
            "Requirement already satisfied: jinja2<4.0 in /usr/local/lib/python3.11/dist-packages (from gradio) (3.1.6)\n",
            "Requirement already satisfied: markupsafe<4.0,>=2.0 in /usr/local/lib/python3.11/dist-packages (from gradio) (3.0.2)\n",
            "Requirement already satisfied: numpy<3.0,>=1.0 in /usr/local/lib/python3.11/dist-packages (from gradio) (2.0.2)\n",
            "Requirement already satisfied: orjson~=3.0 in /usr/local/lib/python3.11/dist-packages (from gradio) (3.10.18)\n",
            "Requirement already satisfied: packaging in /usr/local/lib/python3.11/dist-packages (from gradio) (24.2)\n",
            "Requirement already satisfied: pandas<3.0,>=1.0 in /usr/local/lib/python3.11/dist-packages (from gradio) (2.2.2)\n",
            "Requirement already satisfied: pillow<12.0,>=8.0 in /usr/local/lib/python3.11/dist-packages (from gradio) (11.2.1)\n",
            "Requirement already satisfied: pydantic<2.12,>=2.0 in /usr/local/lib/python3.11/dist-packages (from gradio) (2.11.4)\n",
            "Collecting pydub (from gradio)\n",
            "  Downloading pydub-0.25.1-py2.py3-none-any.whl.metadata (1.4 kB)\n",
            "Collecting python-multipart>=0.0.18 (from gradio)\n",
            "  Downloading python_multipart-0.0.20-py3-none-any.whl.metadata (1.8 kB)\n",
            "Requirement already satisfied: pyyaml<7.0,>=5.0 in /usr/local/lib/python3.11/dist-packages (from gradio) (6.0.2)\n",
            "Collecting ruff>=0.9.3 (from gradio)\n",
            "  Downloading ruff-0.11.9-py3-none-manylinux_2_17_x86_64.manylinux2014_x86_64.whl.metadata (25 kB)\n",
            "Collecting safehttpx<0.2.0,>=0.1.6 (from gradio)\n",
            "  Downloading safehttpx-0.1.6-py3-none-any.whl.metadata (4.2 kB)\n",
            "Collecting semantic-version~=2.0 (from gradio)\n",
            "  Downloading semantic_version-2.10.0-py2.py3-none-any.whl.metadata (9.7 kB)\n",
            "Collecting starlette<1.0,>=0.40.0 (from gradio)\n",
            "  Downloading starlette-0.46.2-py3-none-any.whl.metadata (6.2 kB)\n",
            "Collecting tomlkit<0.14.0,>=0.12.0 (from gradio)\n",
            "  Downloading tomlkit-0.13.2-py3-none-any.whl.metadata (2.7 kB)\n",
            "Requirement already satisfied: typer<1.0,>=0.12 in /usr/local/lib/python3.11/dist-packages (from gradio) (0.15.3)\n",
            "Requirement already satisfied: typing-extensions~=4.0 in /usr/local/lib/python3.11/dist-packages (from gradio) (4.13.2)\n",
            "Collecting uvicorn>=0.14.0 (from gradio)\n",
            "  Downloading uvicorn-0.34.2-py3-none-any.whl.metadata (6.5 kB)\n",
            "Requirement already satisfied: fsspec in /usr/local/lib/python3.11/dist-packages (from gradio-client==1.10.0->gradio) (2025.3.2)\n",
            "Requirement already satisfied: websockets<16.0,>=10.0 in /usr/local/lib/python3.11/dist-packages (from gradio-client==1.10.0->gradio) (15.0.1)\n",
            "Requirement already satisfied: idna>=2.8 in /usr/local/lib/python3.11/dist-packages (from anyio<5.0,>=3.0->gradio) (3.10)\n",
            "Requirement already satisfied: sniffio>=1.1 in /usr/local/lib/python3.11/dist-packages (from anyio<5.0,>=3.0->gradio) (1.3.1)\n",
            "Requirement already satisfied: certifi in /usr/local/lib/python3.11/dist-packages (from httpx>=0.24.1->gradio) (2025.4.26)\n",
            "Requirement already satisfied: httpcore==1.* in /usr/local/lib/python3.11/dist-packages (from httpx>=0.24.1->gradio) (1.0.9)\n",
            "Requirement already satisfied: h11>=0.16 in /usr/local/lib/python3.11/dist-packages (from httpcore==1.*->httpx>=0.24.1->gradio) (0.16.0)\n",
            "Requirement already satisfied: filelock in /usr/local/lib/python3.11/dist-packages (from huggingface-hub>=0.28.1->gradio) (3.18.0)\n",
            "Requirement already satisfied: requests in /usr/local/lib/python3.11/dist-packages (from huggingface-hub>=0.28.1->gradio) (2.32.3)\n",
            "Requirement already satisfied: tqdm>=4.42.1 in /usr/local/lib/python3.11/dist-packages (from huggingface-hub>=0.28.1->gradio) (4.67.1)\n",
            "Requirement already satisfied: hf-xet<2.0.0,>=1.1.0 in /usr/local/lib/python3.11/dist-packages (from huggingface-hub>=0.28.1->gradio) (1.1.0)\n",
            "Requirement already satisfied: python-dateutil>=2.8.2 in /usr/local/lib/python3.11/dist-packages (from pandas<3.0,>=1.0->gradio) (2.9.0.post0)\n",
            "Requirement already satisfied: pytz>=2020.1 in /usr/local/lib/python3.11/dist-packages (from pandas<3.0,>=1.0->gradio) (2025.2)\n",
            "Requirement already satisfied: tzdata>=2022.7 in /usr/local/lib/python3.11/dist-packages (from pandas<3.0,>=1.0->gradio) (2025.2)\n",
            "Requirement already satisfied: annotated-types>=0.6.0 in /usr/local/lib/python3.11/dist-packages (from pydantic<2.12,>=2.0->gradio) (0.7.0)\n",
            "Requirement already satisfied: pydantic-core==2.33.2 in /usr/local/lib/python3.11/dist-packages (from pydantic<2.12,>=2.0->gradio) (2.33.2)\n",
            "Requirement already satisfied: typing-inspection>=0.4.0 in /usr/local/lib/python3.11/dist-packages (from pydantic<2.12,>=2.0->gradio) (0.4.0)\n",
            "Requirement already satisfied: click>=8.0.0 in /usr/local/lib/python3.11/dist-packages (from typer<1.0,>=0.12->gradio) (8.1.8)\n",
            "Requirement already satisfied: shellingham>=1.3.0 in /usr/local/lib/python3.11/dist-packages (from typer<1.0,>=0.12->gradio) (1.5.4)\n",
            "Requirement already satisfied: rich>=10.11.0 in /usr/local/lib/python3.11/dist-packages (from typer<1.0,>=0.12->gradio) (13.9.4)\n",
            "Requirement already satisfied: six>=1.5 in /usr/local/lib/python3.11/dist-packages (from python-dateutil>=2.8.2->pandas<3.0,>=1.0->gradio) (1.17.0)\n",
            "Requirement already satisfied: markdown-it-py>=2.2.0 in /usr/local/lib/python3.11/dist-packages (from rich>=10.11.0->typer<1.0,>=0.12->gradio) (3.0.0)\n",
            "Requirement already satisfied: pygments<3.0.0,>=2.13.0 in /usr/local/lib/python3.11/dist-packages (from rich>=10.11.0->typer<1.0,>=0.12->gradio) (2.19.1)\n",
            "Requirement already satisfied: charset-normalizer<4,>=2 in /usr/local/lib/python3.11/dist-packages (from requests->huggingface-hub>=0.28.1->gradio) (3.4.2)\n",
            "Requirement already satisfied: urllib3<3,>=1.21.1 in /usr/local/lib/python3.11/dist-packages (from requests->huggingface-hub>=0.28.1->gradio) (2.4.0)\n",
            "Requirement already satisfied: mdurl~=0.1 in /usr/local/lib/python3.11/dist-packages (from markdown-it-py>=2.2.0->rich>=10.11.0->typer<1.0,>=0.12->gradio) (0.1.2)\n",
            "Downloading gradio-5.29.0-py3-none-any.whl (54.1 MB)\n",
            "\u001b[2K   \u001b[90m━━━━━━━━━━━━━━━━━━━━━━━━━━━━━━━━━━━━━━━━\u001b[0m \u001b[32m54.1/54.1 MB\u001b[0m \u001b[31m12.8 MB/s\u001b[0m eta \u001b[36m0:00:00\u001b[0m\n",
            "\u001b[?25hDownloading gradio_client-1.10.0-py3-none-any.whl (322 kB)\n",
            "\u001b[2K   \u001b[90m━━━━━━━━━━━━━━━━━━━━━━━━━━━━━━━━━━━━━━━━\u001b[0m \u001b[32m322.9/322.9 kB\u001b[0m \u001b[31m23.1 MB/s\u001b[0m eta \u001b[36m0:00:00\u001b[0m\n",
            "\u001b[?25hDownloading aiofiles-24.1.0-py3-none-any.whl (15 kB)\n",
            "Downloading fastapi-0.115.12-py3-none-any.whl (95 kB)\n",
            "\u001b[2K   \u001b[90m━━━━━━━━━━━━━━━━━━━━━━━━━━━━━━━━━━━━━━━━\u001b[0m \u001b[32m95.2/95.2 kB\u001b[0m \u001b[31m7.2 MB/s\u001b[0m eta \u001b[36m0:00:00\u001b[0m\n",
            "\u001b[?25hDownloading groovy-0.1.2-py3-none-any.whl (14 kB)\n",
            "Downloading python_multipart-0.0.20-py3-none-any.whl (24 kB)\n",
            "Downloading ruff-0.11.9-py3-none-manylinux_2_17_x86_64.manylinux2014_x86_64.whl (11.5 MB)\n",
            "\u001b[2K   \u001b[90m━━━━━━━━━━━━━━━━━━━━━━━━━━━━━━━━━━━━━━━━\u001b[0m \u001b[32m11.5/11.5 MB\u001b[0m \u001b[31m94.4 MB/s\u001b[0m eta \u001b[36m0:00:00\u001b[0m\n",
            "\u001b[?25hDownloading safehttpx-0.1.6-py3-none-any.whl (8.7 kB)\n",
            "Downloading semantic_version-2.10.0-py2.py3-none-any.whl (15 kB)\n",
            "Downloading starlette-0.46.2-py3-none-any.whl (72 kB)\n",
            "\u001b[2K   \u001b[90m━━━━━━━━━━━━━━━━━━━━━━━━━━━━━━━━━━━━━━━━\u001b[0m \u001b[32m72.0/72.0 kB\u001b[0m \u001b[31m5.4 MB/s\u001b[0m eta \u001b[36m0:00:00\u001b[0m\n",
            "\u001b[?25hDownloading tomlkit-0.13.2-py3-none-any.whl (37 kB)\n",
            "Downloading uvicorn-0.34.2-py3-none-any.whl (62 kB)\n",
            "\u001b[2K   \u001b[90m━━━━━━━━━━━━━━━━━━━━━━━━━━━━━━━━━━━━━━━━\u001b[0m \u001b[32m62.5/62.5 kB\u001b[0m \u001b[31m4.8 MB/s\u001b[0m eta \u001b[36m0:00:00\u001b[0m\n",
            "\u001b[?25hDownloading ffmpy-0.5.0-py3-none-any.whl (6.0 kB)\n",
            "Downloading pydub-0.25.1-py2.py3-none-any.whl (32 kB)\n",
            "Installing collected packages: pydub, uvicorn, tomlkit, semantic-version, ruff, python-multipart, groovy, ffmpy, aiofiles, starlette, safehttpx, gradio-client, fastapi, gradio\n",
            "Successfully installed aiofiles-24.1.0 fastapi-0.115.12 ffmpy-0.5.0 gradio-5.29.0 gradio-client-1.10.0 groovy-0.1.2 pydub-0.25.1 python-multipart-0.0.20 ruff-0.11.9 safehttpx-0.1.6 semantic-version-2.10.0 starlette-0.46.2 tomlkit-0.13.2 uvicorn-0.34.2\n"
          ]
        }
      ]
    },
    {
      "cell_type": "markdown",
      "source": [
        "**CREATING A GRADIO INTERFACE FOR GLOBAL USAGE**"
      ],
      "metadata": {
        "id": "1Npf169_rRwg"
      }
    },
    {
      "cell_type": "code",
      "source": [
        "import gradio as gr\n",
        "import joblib\n",
        "\n",
        "# Load your saved model\n",
        "clf = joblib.load(\"model.pkl\")\n",
        "\n",
        "# Label encodings (same as your model's training)\n",
        "def encode_inputs(age, gender, stream, internships, cgpa, hostel, backlogs):\n",
        "    gender = 1 if gender == \"Male\" else 0\n",
        "    stream_map = {\n",
        "        \"Electronics And Communication\": 1,\n",
        "        \"Computer Science\": 2,\n",
        "        \"Information Technology\": 3,\n",
        "        \"Mechanical\": 4,\n",
        "        \"Electrical\": 5,\n",
        "        \"Civil\": 6\n",
        "    }\n",
        "    stream = stream_map[stream]\n",
        "    hostel = 1 if hostel == \"Yes\" else 0\n",
        "    backlogs = 1 if backlogs == \"Yes\" else 0\n",
        "    return [age, gender, stream, internships, cgpa, hostel, backlogs]\n",
        "\n",
        "# Prediction function\n",
        "def predict_placement(age, gender, stream, internships, cgpa, hostel, backlogs):\n",
        "    features = encode_inputs(age, gender, stream, internships, cgpa, hostel, backlogs)\n",
        "    pred = clf.predict([features])[0]\n",
        "    return \"🎓 Placed ✅\" if pred == 1 else \"❌ Not Placed\""
      ],
      "metadata": {
        "id": "whsfrjOru1fA"
      },
      "execution_count": 52,
      "outputs": []
    },
    {
      "cell_type": "code",
      "source": [
        "ui = gr.Interface(\n",
        "    fn=predict_placement,\n",
        "    inputs=[\n",
        "        gr.Slider(18, 30, value=22, label=\"Age\"),\n",
        "        gr.Radio([\"Male\", \"Female\"], label=\"Gender\"),\n",
        "        gr.Dropdown([\n",
        "            \"Electronics And Communication\", \"Computer Science\",\n",
        "            \"Information Technology\", \"Mechanical\", \"Electrical\", \"Civil\"\n",
        "        ], label=\"Stream\"),\n",
        "        gr.Slider(0, 10, value=0, label=\"Internships\"),\n",
        "        gr.Slider(0, 10, value=0, label=\"CGPA\"),\n",
        "        gr.Radio([\"Yes\", \"No\"], label=\"Hostel\"),\n",
        "        gr.Radio([\"Yes\", \"No\"], label=\"History of Backlogs\")\n",
        "    ],\n",
        "    outputs=gr.Textbox(label=\"Placement Prediction\"),\n",
        "    title=\"🎓 Placement Predictor\",\n",
        "    description=\"Enter student details to predict if they are likely to get placed.\"\n",
        ")\n",
        "\n",
        "ui.launch(share=True)"
      ],
      "metadata": {
        "colab": {
          "base_uri": "https://localhost:8080/",
          "height": 611
        },
        "id": "yDBVPVLUvU97",
        "outputId": "4dd78dce-1b27-4e4a-e50d-7d97444607b7"
      },
      "execution_count": 53,
      "outputs": [
        {
          "output_type": "stream",
          "name": "stdout",
          "text": [
            "Colab notebook detected. To show errors in colab notebook, set debug=True in launch()\n",
            "* Running on public URL: https://ff1e1e867c5a666e8a.gradio.live\n",
            "\n",
            "This share link expires in 1 week. For free permanent hosting and GPU upgrades, run `gradio deploy` from the terminal in the working directory to deploy to Hugging Face Spaces (https://huggingface.co/spaces)\n"
          ]
        },
        {
          "output_type": "display_data",
          "data": {
            "text/plain": [
              "<IPython.core.display.HTML object>"
            ],
            "text/html": [
              "<div><iframe src=\"https://ff1e1e867c5a666e8a.gradio.live\" width=\"100%\" height=\"500\" allow=\"autoplay; camera; microphone; clipboard-read; clipboard-write;\" frameborder=\"0\" allowfullscreen></iframe></div>"
            ]
          },
          "metadata": {}
        },
        {
          "output_type": "execute_result",
          "data": {
            "text/plain": []
          },
          "metadata": {},
          "execution_count": 53
        }
      ]
    },
    {
      "cell_type": "code",
      "source": [],
      "metadata": {
        "id": "k13B6HvqvaE4"
      },
      "execution_count": null,
      "outputs": []
    }
  ]
}